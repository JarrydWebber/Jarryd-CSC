{
 "cells": [
  {
   "cell_type": "code",
   "execution_count": 1,
   "metadata": {},
   "outputs": [],
   "source": [
    "import pandas\n",
    "import numpy\n",
    "import scipy\n",
    "from scipy import stats\n",
    "from config import datadir\n",
    "\n",
    "import matplotlib.pyplot as plot\n",
    "%matplotlib inline"
   ]
  },
  {
   "cell_type": "code",
   "execution_count": 2,
   "metadata": {},
   "outputs": [
    {
     "data": {
      "text/plain": [
       "WindowsPath('C:/Users/jarry/Google Drive/University/CSC411/CSC 2020 Webber J/Data/Drift Test ph and temp 06 12 2019 - 11')"
      ]
     },
     "execution_count": 2,
     "metadata": {},
     "output_type": "execute_result"
    }
   ],
   "source": [
    "datadir / 'Drift Test ph and temp 06 12 2019 - 11'"
   ]
  },
  {
   "cell_type": "markdown",
   "metadata": {},
   "source": [
    "# Test 1"
   ]
  },
  {
   "cell_type": "code",
   "execution_count": 11,
   "metadata": {},
   "outputs": [],
   "source": [
    "skips1 = 0"
   ]
  },
  {
   "cell_type": "code",
   "execution_count": 12,
   "metadata": {},
   "outputs": [],
   "source": [
    "test_1_data = pandas.read_csv(datadir / '20191206 pH Drift 1.txt', sep='\t', header = None, \n",
    "                              usecols = [0, 1, 2, 3],\n",
    "                              names = [\"Date\", \"Time\", \"Temp\", \"pH\"],\n",
    "                              skiprows = skips1)"
   ]
  },
  {
   "cell_type": "markdown",
   "metadata": {},
   "source": [
    "test_1_data = pandas.read_csv('Drift Test ph and temp 06 12 2019 - 09', sep='\t', header = None, \n",
    "                              usecols = [0, 1, 2, 3],\n",
    "                              names = [\"Date\", \"Time\", \"Temp\", \"pH\"],\n",
    "                              skiprows = skips1)"
   ]
  },
  {
   "cell_type": "code",
   "execution_count": 13,
   "metadata": {},
   "outputs": [
    {
     "data": {
      "text/html": [
       "<div>\n",
       "<style scoped>\n",
       "    .dataframe tbody tr th:only-of-type {\n",
       "        vertical-align: middle;\n",
       "    }\n",
       "\n",
       "    .dataframe tbody tr th {\n",
       "        vertical-align: top;\n",
       "    }\n",
       "\n",
       "    .dataframe thead th {\n",
       "        text-align: right;\n",
       "    }\n",
       "</style>\n",
       "<table border=\"1\" class=\"dataframe\">\n",
       "  <thead>\n",
       "    <tr style=\"text-align: right;\">\n",
       "      <th></th>\n",
       "      <th>Date</th>\n",
       "      <th>Time</th>\n",
       "      <th>Temp</th>\n",
       "      <th>pH</th>\n",
       "    </tr>\n",
       "  </thead>\n",
       "  <tbody>\n",
       "    <tr>\n",
       "      <td>0</td>\n",
       "      <td>2019/12/06</td>\n",
       "      <td>09:05:27 AM</td>\n",
       "      <td>23.663528</td>\n",
       "      <td>8.811172</td>\n",
       "    </tr>\n",
       "    <tr>\n",
       "      <td>1</td>\n",
       "      <td>2019/12/06</td>\n",
       "      <td>09:05:28 AM</td>\n",
       "      <td>23.728594</td>\n",
       "      <td>8.840874</td>\n",
       "    </tr>\n",
       "    <tr>\n",
       "      <td>2</td>\n",
       "      <td>2019/12/06</td>\n",
       "      <td>09:05:29 AM</td>\n",
       "      <td>23.745982</td>\n",
       "      <td>8.869581</td>\n",
       "    </tr>\n",
       "    <tr>\n",
       "      <td>3</td>\n",
       "      <td>2019/12/06</td>\n",
       "      <td>09:05:30 AM</td>\n",
       "      <td>23.771789</td>\n",
       "      <td>8.926380</td>\n",
       "    </tr>\n",
       "    <tr>\n",
       "      <td>4</td>\n",
       "      <td>2019/12/06</td>\n",
       "      <td>09:05:31 AM</td>\n",
       "      <td>23.800850</td>\n",
       "      <td>8.969278</td>\n",
       "    </tr>\n",
       "    <tr>\n",
       "      <td>...</td>\n",
       "      <td>...</td>\n",
       "      <td>...</td>\n",
       "      <td>...</td>\n",
       "      <td>...</td>\n",
       "    </tr>\n",
       "    <tr>\n",
       "      <td>441556</td>\n",
       "      <td>2019/12/11</td>\n",
       "      <td>11:47:56 AM</td>\n",
       "      <td>35.396296</td>\n",
       "      <td>15.749999</td>\n",
       "    </tr>\n",
       "    <tr>\n",
       "      <td>441557</td>\n",
       "      <td>2019/12/11</td>\n",
       "      <td>11:47:57 AM</td>\n",
       "      <td>35.396296</td>\n",
       "      <td>15.749999</td>\n",
       "    </tr>\n",
       "    <tr>\n",
       "      <td>441558</td>\n",
       "      <td>2019/12/11</td>\n",
       "      <td>11:47:58 AM</td>\n",
       "      <td>35.396119</td>\n",
       "      <td>15.749999</td>\n",
       "    </tr>\n",
       "    <tr>\n",
       "      <td>441559</td>\n",
       "      <td>2019/12/11</td>\n",
       "      <td>11:47:59 AM</td>\n",
       "      <td>35.396936</td>\n",
       "      <td>15.749999</td>\n",
       "    </tr>\n",
       "    <tr>\n",
       "      <td>441560</td>\n",
       "      <td>2019/12/11</td>\n",
       "      <td>11:48:00 AM</td>\n",
       "      <td>35.396808</td>\n",
       "      <td>15.749999</td>\n",
       "    </tr>\n",
       "  </tbody>\n",
       "</table>\n",
       "<p>441561 rows × 4 columns</p>\n",
       "</div>"
      ],
      "text/plain": [
       "              Date         Time       Temp         pH\n",
       "0       2019/12/06  09:05:27 AM  23.663528   8.811172\n",
       "1       2019/12/06  09:05:28 AM  23.728594   8.840874\n",
       "2       2019/12/06  09:05:29 AM  23.745982   8.869581\n",
       "3       2019/12/06  09:05:30 AM  23.771789   8.926380\n",
       "4       2019/12/06  09:05:31 AM  23.800850   8.969278\n",
       "...            ...          ...        ...        ...\n",
       "441556  2019/12/11  11:47:56 AM  35.396296  15.749999\n",
       "441557  2019/12/11  11:47:57 AM  35.396296  15.749999\n",
       "441558  2019/12/11  11:47:58 AM  35.396119  15.749999\n",
       "441559  2019/12/11  11:47:59 AM  35.396936  15.749999\n",
       "441560  2019/12/11  11:48:00 AM  35.396808  15.749999\n",
       "\n",
       "[441561 rows x 4 columns]"
      ]
     },
     "execution_count": 13,
     "metadata": {},
     "output_type": "execute_result"
    }
   ],
   "source": [
    "test_1_data"
   ]
  },
  {
   "cell_type": "code",
   "execution_count": 19,
   "metadata": {},
   "outputs": [
    {
     "data": {
      "text/plain": [
       "<matplotlib.axes._subplots.AxesSubplot at 0x26eb03b3248>"
      ]
     },
     "execution_count": 19,
     "metadata": {},
     "output_type": "execute_result"
    },
    {
     "data": {
      "image/png": "[encoded data removed]",
      "text/plain": [
       "<Figure size 432x288 with 1 Axes>"
      ]
     },
     "metadata": {
      "needs_background": "light"
     },
     "output_type": "display_data"
    },
    {
     "data": {
      "image/png": "[encoded data removed]",
      "text/plain": [
       "<Figure size 432x288 with 1 Axes>"
      ]
     },
     "metadata": {
      "needs_background": "light"
     },
     "output_type": "display_data"
    }
   ],
   "source": [
    "test_1_data.plot(y = \"pH\")\n",
    "test_1_data.plot(y = \"Temp\")"
   ]
  },
  {
   "cell_type": "code",
   "execution_count": 20,
   "metadata": {},
   "outputs": [
    {
     "name": "stdout",
     "output_type": "stream",
     "text": [
      "[0.51895301 0.52859393 0.53791189 ... 2.77121547 2.77121547 2.77121547] 441561\n"
     ]
    }
   ],
   "source": [
    "z1 = numpy.abs(stats.zscore(test_1_data.pH))\n",
    "print(z1, len(z1))"
   ]
  },
  {
   "cell_type": "code",
   "execution_count": 21,
   "metadata": {},
   "outputs": [
    {
     "name": "stdout",
     "output_type": "stream",
     "text": [
      "(array([  3927,   3928,   3929, ..., 441558, 441559, 441560], dtype=int64),)\n"
     ]
    }
   ],
   "source": [
    "threshold = 1\n",
    "print(numpy.where(z1 > threshold))"
   ]
  },
  {
   "cell_type": "code",
   "execution_count": 22,
   "metadata": {},
   "outputs": [
    {
     "data": {
      "text/html": [
       "<div>\n",
       "<style scoped>\n",
       "    .dataframe tbody tr th:only-of-type {\n",
       "        vertical-align: middle;\n",
       "    }\n",
       "\n",
       "    .dataframe tbody tr th {\n",
       "        vertical-align: top;\n",
       "    }\n",
       "\n",
       "    .dataframe thead th {\n",
       "        text-align: right;\n",
       "    }\n",
       "</style>\n",
       "<table border=\"1\" class=\"dataframe\">\n",
       "  <thead>\n",
       "    <tr style=\"text-align: right;\">\n",
       "      <th></th>\n",
       "      <th>Date</th>\n",
       "      <th>Time</th>\n",
       "      <th>Temp</th>\n",
       "      <th>pH</th>\n",
       "    </tr>\n",
       "  </thead>\n",
       "  <tbody>\n",
       "    <tr>\n",
       "      <td>0</td>\n",
       "      <td>2019/12/06</td>\n",
       "      <td>09:05:27 AM</td>\n",
       "      <td>23.663528</td>\n",
       "      <td>8.811172</td>\n",
       "    </tr>\n",
       "    <tr>\n",
       "      <td>1</td>\n",
       "      <td>2019/12/06</td>\n",
       "      <td>09:05:28 AM</td>\n",
       "      <td>23.728594</td>\n",
       "      <td>8.840874</td>\n",
       "    </tr>\n",
       "    <tr>\n",
       "      <td>2</td>\n",
       "      <td>2019/12/06</td>\n",
       "      <td>09:05:29 AM</td>\n",
       "      <td>23.745982</td>\n",
       "      <td>8.869581</td>\n",
       "    </tr>\n",
       "    <tr>\n",
       "      <td>3</td>\n",
       "      <td>2019/12/06</td>\n",
       "      <td>09:05:30 AM</td>\n",
       "      <td>23.771789</td>\n",
       "      <td>8.926380</td>\n",
       "    </tr>\n",
       "    <tr>\n",
       "      <td>4</td>\n",
       "      <td>2019/12/06</td>\n",
       "      <td>09:05:31 AM</td>\n",
       "      <td>23.800850</td>\n",
       "      <td>8.969278</td>\n",
       "    </tr>\n",
       "    <tr>\n",
       "      <td>...</td>\n",
       "      <td>...</td>\n",
       "      <td>...</td>\n",
       "      <td>...</td>\n",
       "      <td>...</td>\n",
       "    </tr>\n",
       "    <tr>\n",
       "      <td>441537</td>\n",
       "      <td>2019/12/11</td>\n",
       "      <td>11:47:37 AM</td>\n",
       "      <td>35.395972</td>\n",
       "      <td>6.388283</td>\n",
       "    </tr>\n",
       "    <tr>\n",
       "      <td>441538</td>\n",
       "      <td>2019/12/11</td>\n",
       "      <td>11:47:38 AM</td>\n",
       "      <td>35.396218</td>\n",
       "      <td>6.476632</td>\n",
       "    </tr>\n",
       "    <tr>\n",
       "      <td>441539</td>\n",
       "      <td>2019/12/11</td>\n",
       "      <td>11:47:39 AM</td>\n",
       "      <td>35.396955</td>\n",
       "      <td>6.282884</td>\n",
       "    </tr>\n",
       "    <tr>\n",
       "      <td>441540</td>\n",
       "      <td>2019/12/11</td>\n",
       "      <td>11:47:40 AM</td>\n",
       "      <td>35.396326</td>\n",
       "      <td>6.272546</td>\n",
       "    </tr>\n",
       "    <tr>\n",
       "      <td>441541</td>\n",
       "      <td>2019/12/11</td>\n",
       "      <td>11:47:41 AM</td>\n",
       "      <td>35.396346</td>\n",
       "      <td>6.463889</td>\n",
       "    </tr>\n",
       "  </tbody>\n",
       "</table>\n",
       "<p>390820 rows × 4 columns</p>\n",
       "</div>"
      ],
      "text/plain": [
       "              Date         Time       Temp        pH\n",
       "0       2019/12/06  09:05:27 AM  23.663528  8.811172\n",
       "1       2019/12/06  09:05:28 AM  23.728594  8.840874\n",
       "2       2019/12/06  09:05:29 AM  23.745982  8.869581\n",
       "3       2019/12/06  09:05:30 AM  23.771789  8.926380\n",
       "4       2019/12/06  09:05:31 AM  23.800850  8.969278\n",
       "...            ...          ...        ...       ...\n",
       "441537  2019/12/11  11:47:37 AM  35.395972  6.388283\n",
       "441538  2019/12/11  11:47:38 AM  35.396218  6.476632\n",
       "441539  2019/12/11  11:47:39 AM  35.396955  6.282884\n",
       "441540  2019/12/11  11:47:40 AM  35.396326  6.272546\n",
       "441541  2019/12/11  11:47:41 AM  35.396346  6.463889\n",
       "\n",
       "[390820 rows x 4 columns]"
      ]
     },
     "execution_count": 22,
     "metadata": {},
     "output_type": "execute_result"
    }
   ],
   "source": [
    "test_1_data_trimmed = test_1_data[(z1 < threshold)]\n",
    "test_1_data_trimmed"
   ]
  },
  {
   "cell_type": "code",
   "execution_count": 23,
   "metadata": {},
   "outputs": [
    {
     "data": {
      "text/plain": [
       "<matplotlib.axes._subplots.AxesSubplot at 0x26eb03cd548>"
      ]
     },
     "execution_count": 23,
     "metadata": {},
     "output_type": "execute_result"
    },
    {
     "data": {
      "image/png": "[encoded data removed]",
      "text/plain": [
       "<Figure size 432x288 with 1 Axes>"
      ]
     },
     "metadata": {
      "needs_background": "light"
     },
     "output_type": "display_data"
    },
    {
     "data": {
      "image/png": "[encoded data removed]",
      "text/plain": [
       "<Figure size 432x288 with 1 Axes>"
      ]
     },
     "metadata": {
      "needs_background": "light"
     },
     "output_type": "display_data"
    }
   ],
   "source": [
    "test_1_data_trimmed.plot(y = \"pH\")\n",
    "test_1_data_trimmed.plot(y = \"Temp\")"
   ]
  },
  {
   "cell_type": "code",
   "execution_count": 24,
   "metadata": {},
   "outputs": [],
   "source": [
    "rolling_window = 240"
   ]
  },
  {
   "cell_type": "code",
   "execution_count": 25,
   "metadata": {},
   "outputs": [
    {
     "data": {
      "text/plain": [
       "0         8.811172\n",
       "1         8.840874\n",
       "2         8.869581\n",
       "3         8.926380\n",
       "4         8.969278\n",
       "            ...   \n",
       "441537    6.388283\n",
       "441538    6.476632\n",
       "441539    6.282884\n",
       "441540    6.272546\n",
       "441541    6.463889\n",
       "Name: pH, Length: 390820, dtype: float64"
      ]
     },
     "execution_count": 25,
     "metadata": {},
     "output_type": "execute_result"
    }
   ],
   "source": [
    "test_1_data_trimmed.pH"
   ]
  },
  {
   "cell_type": "code",
   "execution_count": 26,
   "metadata": {},
   "outputs": [],
   "source": [
    "test_1_data_rolling = test_1_data_trimmed.rolling(rolling_window).mean().dropna()"
   ]
  },
  {
   "cell_type": "code",
   "execution_count": 27,
   "metadata": {},
   "outputs": [
    {
     "data": {
      "text/html": [
       "<div>\n",
       "<style scoped>\n",
       "    .dataframe tbody tr th:only-of-type {\n",
       "        vertical-align: middle;\n",
       "    }\n",
       "\n",
       "    .dataframe tbody tr th {\n",
       "        vertical-align: top;\n",
       "    }\n",
       "\n",
       "    .dataframe thead th {\n",
       "        text-align: right;\n",
       "    }\n",
       "</style>\n",
       "<table border=\"1\" class=\"dataframe\">\n",
       "  <thead>\n",
       "    <tr style=\"text-align: right;\">\n",
       "      <th></th>\n",
       "      <th>Temp</th>\n",
       "      <th>pH</th>\n",
       "    </tr>\n",
       "  </thead>\n",
       "  <tbody>\n",
       "    <tr>\n",
       "      <td>239</td>\n",
       "      <td>25.579632</td>\n",
       "      <td>8.444710</td>\n",
       "    </tr>\n",
       "    <tr>\n",
       "      <td>240</td>\n",
       "      <td>25.593168</td>\n",
       "      <td>8.441596</td>\n",
       "    </tr>\n",
       "    <tr>\n",
       "      <td>241</td>\n",
       "      <td>25.606562</td>\n",
       "      <td>8.438066</td>\n",
       "    </tr>\n",
       "    <tr>\n",
       "      <td>242</td>\n",
       "      <td>25.620011</td>\n",
       "      <td>8.434281</td>\n",
       "    </tr>\n",
       "    <tr>\n",
       "      <td>243</td>\n",
       "      <td>25.633406</td>\n",
       "      <td>8.430283</td>\n",
       "    </tr>\n",
       "    <tr>\n",
       "      <td>...</td>\n",
       "      <td>...</td>\n",
       "      <td>...</td>\n",
       "    </tr>\n",
       "    <tr>\n",
       "      <td>441537</td>\n",
       "      <td>35.395430</td>\n",
       "      <td>6.347762</td>\n",
       "    </tr>\n",
       "    <tr>\n",
       "      <td>441538</td>\n",
       "      <td>35.395426</td>\n",
       "      <td>6.348333</td>\n",
       "    </tr>\n",
       "    <tr>\n",
       "      <td>441539</td>\n",
       "      <td>35.395430</td>\n",
       "      <td>6.348577</td>\n",
       "    </tr>\n",
       "    <tr>\n",
       "      <td>441540</td>\n",
       "      <td>35.395429</td>\n",
       "      <td>6.348011</td>\n",
       "    </tr>\n",
       "    <tr>\n",
       "      <td>441541</td>\n",
       "      <td>35.395431</td>\n",
       "      <td>6.348219</td>\n",
       "    </tr>\n",
       "  </tbody>\n",
       "</table>\n",
       "<p>390581 rows × 2 columns</p>\n",
       "</div>"
      ],
      "text/plain": [
       "             Temp        pH\n",
       "239     25.579632  8.444710\n",
       "240     25.593168  8.441596\n",
       "241     25.606562  8.438066\n",
       "242     25.620011  8.434281\n",
       "243     25.633406  8.430283\n",
       "...           ...       ...\n",
       "441537  35.395430  6.347762\n",
       "441538  35.395426  6.348333\n",
       "441539  35.395430  6.348577\n",
       "441540  35.395429  6.348011\n",
       "441541  35.395431  6.348219\n",
       "\n",
       "[390581 rows x 2 columns]"
      ]
     },
     "execution_count": 27,
     "metadata": {},
     "output_type": "execute_result"
    }
   ],
   "source": [
    "test_1_data_rolling"
   ]
  },
  {
   "cell_type": "code",
   "execution_count": 28,
   "metadata": {},
   "outputs": [
    {
     "data": {
      "text/plain": [
       "<matplotlib.axes._subplots.AxesSubplot at 0x26ead4e3c48>"
      ]
     },
     "execution_count": 28,
     "metadata": {},
     "output_type": "execute_result"
    },
    {
     "data": {
      "image/png": "[encoded data removed]",
      "text/plain": [
       "<Figure size 432x288 with 1 Axes>"
      ]
     },
     "metadata": {
      "needs_background": "light"
     },
     "output_type": "display_data"
    },
    {
     "data": {
      "image/png": "[encoded data removed]",
      "text/plain": [
       "<Figure size 432x288 with 1 Axes>"
      ]
     },
     "metadata": {
      "needs_background": "light"
     },
     "output_type": "display_data"
    }
   ],
   "source": [
    "test_1_data_rolling.plot(y = \"pH\")\n",
    "test_1_data_rolling.plot(y = \"Temp\")"
   ]
  },
  {
   "cell_type": "code",
   "execution_count": null,
   "metadata": {},
   "outputs": [],
   "source": []
  },
  {
   "cell_type": "code",
   "execution_count": 29,
   "metadata": {},
   "outputs": [],
   "source": [
    "x1 = numpy.arange(skips1,len(test_1_data_rolling.pH)+skips1)\n",
    "order1 = 1"
   ]
  },
  {
   "cell_type": "code",
   "execution_count": 30,
   "metadata": {},
   "outputs": [],
   "source": [
    "x1_extended = numpy.arange(skips1,len(test_1_data.pH)+10000+skips1)"
   ]
  },
  {
   "cell_type": "code",
   "execution_count": 31,
   "metadata": {},
   "outputs": [
    {
     "name": "stdout",
     "output_type": "stream",
     "text": [
      " \n",
      "-5.501e-08 x + 6.116\n"
     ]
    }
   ],
   "source": [
    "test_1_ph_rolling_poly = numpy.poly1d(numpy.polyfit( x1, test_1_data_rolling.pH, order1))\n",
    "print(test_1_ph_rolling_poly)"
   ]
  },
  {
   "cell_type": "code",
   "execution_count": 32,
   "metadata": {},
   "outputs": [],
   "source": [
    "fit_1_ph_poly = pandas.DataFrame(test_1_ph_rolling_poly(x1_extended))"
   ]
  },
  {
   "cell_type": "code",
   "execution_count": 33,
   "metadata": {},
   "outputs": [],
   "source": [
    "test_1_ph_comp = pandas.concat([test_1_data_rolling.pH,fit_1_ph_poly], axis = 1)\n",
    "test_1_ph_comp.columns = [\"Experimental\", \"Polyfit\"]"
   ]
  },
  {
   "cell_type": "code",
   "execution_count": 34,
   "metadata": {},
   "outputs": [
    {
     "data": {
      "text/plain": [
       "<matplotlib.axes._subplots.AxesSubplot at 0x26eafb1edc8>"
      ]
     },
     "execution_count": 34,
     "metadata": {},
     "output_type": "execute_result"
    },
    {
     "data": {
      "image/png": "[encoded data removed]",
      "text/plain": [
       "<Figure size 432x288 with 1 Axes>"
      ]
     },
     "metadata": {
      "needs_background": "light"
     },
     "output_type": "display_data"
    }
   ],
   "source": [
    "test_1_ph_comp.plot()"
   ]
  },
  {
   "cell_type": "markdown",
   "metadata": {},
   "source": [
    "# Test 2"
   ]
  },
  {
   "cell_type": "code",
   "execution_count": 36,
   "metadata": {},
   "outputs": [],
   "source": [
    "skips2 = skips1"
   ]
  },
  {
   "cell_type": "code",
   "execution_count": 38,
   "metadata": {},
   "outputs": [],
   "source": [
    "test_2_data = pandas.read_csv(datadir/'20191211 pH Drift 2.txt', sep='\t', header = None, \n",
    "                              usecols = [0, 1, 2, 3],\n",
    "                              names = [\"Date\", \"Time\", \"Temp\", \"pH\"],\n",
    "                              skiprows = skips2)"
   ]
  },
  {
   "cell_type": "code",
   "execution_count": 39,
   "metadata": {},
   "outputs": [
    {
     "data": {
      "text/html": [
       "<div>\n",
       "<style scoped>\n",
       "    .dataframe tbody tr th:only-of-type {\n",
       "        vertical-align: middle;\n",
       "    }\n",
       "\n",
       "    .dataframe tbody tr th {\n",
       "        vertical-align: top;\n",
       "    }\n",
       "\n",
       "    .dataframe thead th {\n",
       "        text-align: right;\n",
       "    }\n",
       "</style>\n",
       "<table border=\"1\" class=\"dataframe\">\n",
       "  <thead>\n",
       "    <tr style=\"text-align: right;\">\n",
       "      <th></th>\n",
       "      <th>Date</th>\n",
       "      <th>Time</th>\n",
       "      <th>Temp</th>\n",
       "      <th>pH</th>\n",
       "    </tr>\n",
       "  </thead>\n",
       "  <tbody>\n",
       "    <tr>\n",
       "      <td>0</td>\n",
       "      <td>2019/12/11</td>\n",
       "      <td>12:13:30 PM</td>\n",
       "      <td>26.575789</td>\n",
       "      <td>5.660700</td>\n",
       "    </tr>\n",
       "    <tr>\n",
       "      <td>1</td>\n",
       "      <td>2019/12/11</td>\n",
       "      <td>12:13:31 PM</td>\n",
       "      <td>26.575219</td>\n",
       "      <td>5.660709</td>\n",
       "    </tr>\n",
       "    <tr>\n",
       "      <td>2</td>\n",
       "      <td>2019/12/11</td>\n",
       "      <td>12:13:32 PM</td>\n",
       "      <td>26.574864</td>\n",
       "      <td>5.665180</td>\n",
       "    </tr>\n",
       "    <tr>\n",
       "      <td>3</td>\n",
       "      <td>2019/12/11</td>\n",
       "      <td>12:13:33 PM</td>\n",
       "      <td>26.575445</td>\n",
       "      <td>5.665019</td>\n",
       "    </tr>\n",
       "    <tr>\n",
       "      <td>4</td>\n",
       "      <td>2019/12/11</td>\n",
       "      <td>12:13:34 PM</td>\n",
       "      <td>26.575622</td>\n",
       "      <td>5.665168</td>\n",
       "    </tr>\n",
       "    <tr>\n",
       "      <td>...</td>\n",
       "      <td>...</td>\n",
       "      <td>...</td>\n",
       "      <td>...</td>\n",
       "      <td>...</td>\n",
       "    </tr>\n",
       "    <tr>\n",
       "      <td>510515</td>\n",
       "      <td>2019/12/17</td>\n",
       "      <td>10:01:55 AM</td>\n",
       "      <td>34.938508</td>\n",
       "      <td>5.867898</td>\n",
       "    </tr>\n",
       "    <tr>\n",
       "      <td>510516</td>\n",
       "      <td>2019/12/17</td>\n",
       "      <td>10:01:56 AM</td>\n",
       "      <td>34.938173</td>\n",
       "      <td>5.863336</td>\n",
       "    </tr>\n",
       "    <tr>\n",
       "      <td>510517</td>\n",
       "      <td>2019/12/17</td>\n",
       "      <td>10:01:57 AM</td>\n",
       "      <td>34.938311</td>\n",
       "      <td>5.862251</td>\n",
       "    </tr>\n",
       "    <tr>\n",
       "      <td>510518</td>\n",
       "      <td>2019/12/17</td>\n",
       "      <td>10:01:58 AM</td>\n",
       "      <td>34.944763</td>\n",
       "      <td>5.862182</td>\n",
       "    </tr>\n",
       "    <tr>\n",
       "      <td>510519</td>\n",
       "      <td>2019/12/17</td>\n",
       "      <td>10:01:59 AM</td>\n",
       "      <td>34.937957</td>\n",
       "      <td>5.862088</td>\n",
       "    </tr>\n",
       "  </tbody>\n",
       "</table>\n",
       "<p>510520 rows × 4 columns</p>\n",
       "</div>"
      ],
      "text/plain": [
       "              Date         Time       Temp        pH\n",
       "0       2019/12/11  12:13:30 PM  26.575789  5.660700\n",
       "1       2019/12/11  12:13:31 PM  26.575219  5.660709\n",
       "2       2019/12/11  12:13:32 PM  26.574864  5.665180\n",
       "3       2019/12/11  12:13:33 PM  26.575445  5.665019\n",
       "4       2019/12/11  12:13:34 PM  26.575622  5.665168\n",
       "...            ...          ...        ...       ...\n",
       "510515  2019/12/17  10:01:55 AM  34.938508  5.867898\n",
       "510516  2019/12/17  10:01:56 AM  34.938173  5.863336\n",
       "510517  2019/12/17  10:01:57 AM  34.938311  5.862251\n",
       "510518  2019/12/17  10:01:58 AM  34.944763  5.862182\n",
       "510519  2019/12/17  10:01:59 AM  34.937957  5.862088\n",
       "\n",
       "[510520 rows x 4 columns]"
      ]
     },
     "execution_count": 39,
     "metadata": {},
     "output_type": "execute_result"
    }
   ],
   "source": [
    "test_2_data"
   ]
  },
  {
   "cell_type": "code",
   "execution_count": 44,
   "metadata": {},
   "outputs": [
    {
     "data": {
      "text/plain": [
       "<matplotlib.axes._subplots.AxesSubplot at 0x26ec25db608>"
      ]
     },
     "execution_count": 44,
     "metadata": {},
     "output_type": "execute_result"
    },
    {
     "data": {
      "image/png": "[encoded data removed]",
      "text/plain": [
       "<Figure size 432x288 with 1 Axes>"
      ]
     },
     "metadata": {
      "needs_background": "light"
     },
     "output_type": "display_data"
    },
    {
     "data": {
      "image/png": "[encoded data removed]",
      "text/plain": [
       "<Figure size 432x288 with 1 Axes>"
      ]
     },
     "metadata": {
      "needs_background": "light"
     },
     "output_type": "display_data"
    }
   ],
   "source": [
    "test_2_data.plot(y = \"pH\")\n",
    "test_2_data.plot(y = \"Temp\")"
   ]
  },
  {
   "cell_type": "code",
   "execution_count": null,
   "metadata": {},
   "outputs": [],
   "source": []
  },
  {
   "cell_type": "code",
   "execution_count": 45,
   "metadata": {},
   "outputs": [],
   "source": [
    "x2 = numpy.arange(skips2,len(test_2_data.pH)+skips2)\n",
    "order2 = 1"
   ]
  },
  {
   "cell_type": "code",
   "execution_count": 46,
   "metadata": {},
   "outputs": [
    {
     "data": {
      "text/plain": [
       "(510520, 510520)"
      ]
     },
     "execution_count": 46,
     "metadata": {},
     "output_type": "execute_result"
    }
   ],
   "source": [
    "len(x2), len(test_2_data.pH)"
   ]
  },
  {
   "cell_type": "code",
   "execution_count": 47,
   "metadata": {},
   "outputs": [],
   "source": [
    "x2_extended = numpy.arange(skips2,len(test_2_data.pH)+10000+skips2)"
   ]
  },
  {
   "cell_type": "code",
   "execution_count": 48,
   "metadata": {},
   "outputs": [
    {
     "name": "stdout",
     "output_type": "stream",
     "text": [
      " \n",
      "4.362e-07 x + 5.573\n"
     ]
    }
   ],
   "source": [
    "test_2_ph_poly = numpy.poly1d(numpy.polyfit( x2, test_2_data.pH, order2))\n",
    "print(test_2_ph_poly)"
   ]
  },
  {
   "cell_type": "code",
   "execution_count": 49,
   "metadata": {},
   "outputs": [],
   "source": [
    "fit_2_ph_poly = pandas.DataFrame(test_2_ph_poly(x2_extended))"
   ]
  },
  {
   "cell_type": "code",
   "execution_count": 50,
   "metadata": {},
   "outputs": [],
   "source": [
    "test_2_ph_comp = pandas.concat([test_2_data.pH,fit_2_ph_poly], axis = 1)\n",
    "test_2_ph_comp.columns = [\"Experimental\", \"Polyfit\"]"
   ]
  },
  {
   "cell_type": "code",
   "execution_count": 51,
   "metadata": {},
   "outputs": [
    {
     "data": {
      "text/plain": [
       "<matplotlib.axes._subplots.AxesSubplot at 0x26ec24f4688>"
      ]
     },
     "execution_count": 51,
     "metadata": {},
     "output_type": "execute_result"
    },
    {
     "data": {
      "image/png": "[encoded data removed]",
      "text/plain": [
       "<Figure size 432x288 with 1 Axes>"
      ]
     },
     "metadata": {
      "needs_background": "light"
     },
     "output_type": "display_data"
    }
   ],
   "source": [
    "test_2_ph_comp.plot()"
   ]
  },
  {
   "cell_type": "markdown",
   "metadata": {},
   "source": [
    "## Noise Reduction\n",
    "Reduce noise via rolling average"
   ]
  },
  {
   "cell_type": "code",
   "execution_count": 52,
   "metadata": {},
   "outputs": [],
   "source": [
    "rolling_window = 240"
   ]
  },
  {
   "cell_type": "code",
   "execution_count": 53,
   "metadata": {},
   "outputs": [
    {
     "data": {
      "text/plain": [
       "239       5.674022\n",
       "240       5.674064\n",
       "241       5.674119\n",
       "242       5.674166\n",
       "243       5.674232\n",
       "            ...   \n",
       "510515    5.886351\n",
       "510516    5.886226\n",
       "510517    5.886108\n",
       "510518    5.885990\n",
       "510519    5.885871\n",
       "Name: pH, Length: 510281, dtype: float64"
      ]
     },
     "execution_count": 53,
     "metadata": {},
     "output_type": "execute_result"
    }
   ],
   "source": [
    "test_2_data_rolling = test_2_data.rolling(rolling_window).mean().pH.dropna()\n",
    "test_2_data_rolling"
   ]
  },
  {
   "cell_type": "code",
   "execution_count": 54,
   "metadata": {},
   "outputs": [
    {
     "name": "stdout",
     "output_type": "stream",
     "text": [
      " \n",
      "4.362e-07 x + 5.573\n"
     ]
    }
   ],
   "source": [
    "test_2_ph_rolling_poly = numpy.poly1d(numpy.polyfit( x2[rolling_window-1:], test_2_data_rolling, order2))\n",
    "print(test_2_ph_rolling_poly)"
   ]
  },
  {
   "cell_type": "code",
   "execution_count": 55,
   "metadata": {},
   "outputs": [],
   "source": [
    "fit_2_ph_rolling_poly = pandas.DataFrame(test_2_ph_rolling_poly(x2_extended))"
   ]
  },
  {
   "cell_type": "code",
   "execution_count": 56,
   "metadata": {},
   "outputs": [],
   "source": [
    "test_2_ph_comp_2 = pandas.concat([test_2_ph_comp, test_2_data_rolling, fit_2_ph_rolling_poly], axis = 1)\n",
    "test_2_ph_comp_2.columns = [\"Experimental\", \"Polyfit\", \"Moving Average\",\"Fit after Noise Reduction\"]"
   ]
  },
  {
   "cell_type": "code",
   "execution_count": 57,
   "metadata": {},
   "outputs": [
    {
     "data": {
      "text/plain": [
       "<matplotlib.axes._subplots.AxesSubplot at 0x26ec2ac0fc8>"
      ]
     },
     "execution_count": 57,
     "metadata": {},
     "output_type": "execute_result"
    },
    {
     "data": {
      "image/png": "[encoded data removed]",
      "text/plain": [
       "<Figure size 432x288 with 1 Axes>"
      ]
     },
     "metadata": {
      "needs_background": "light"
     },
     "output_type": "display_data"
    }
   ],
   "source": [
    "test_2_ph_comp_2.plot()"
   ]
  },
  {
   "cell_type": "code",
   "execution_count": 58,
   "metadata": {},
   "outputs": [
    {
     "name": "stdout",
     "output_type": "stream",
     "text": [
      " \n",
      "4.362e-07 x + 5.573\n",
      " \n",
      "4.362e-07 x + 5.573\n"
     ]
    }
   ],
   "source": [
    "print(test_2_ph_rolling_poly)\n",
    "print(test_2_ph_poly)"
   ]
  },
  {
   "cell_type": "markdown",
   "metadata": {},
   "source": [
    "# Test 3"
   ]
  },
  {
   "cell_type": "code",
   "execution_count": 60,
   "metadata": {},
   "outputs": [],
   "source": [
    "skips3 = skips2\n",
    "Nrows = 290000-skips3"
   ]
  },
  {
   "cell_type": "code",
   "execution_count": 61,
   "metadata": {},
   "outputs": [],
   "source": [
    "test_3_data = pandas.read_csv(datadir / '20191217 pH Drift 3.txt', sep='\t', header = None, \n",
    "                              usecols = [0, 1, 2, 3],\n",
    "                              names = [\"Date\", \"Time\", \"Temp\", \"pH\"], nrows = Nrows, skiprows = skips3)"
   ]
  },
  {
   "cell_type": "code",
   "execution_count": 62,
   "metadata": {},
   "outputs": [
    {
     "data": {
      "text/html": [
       "<div>\n",
       "<style scoped>\n",
       "    .dataframe tbody tr th:only-of-type {\n",
       "        vertical-align: middle;\n",
       "    }\n",
       "\n",
       "    .dataframe tbody tr th {\n",
       "        vertical-align: top;\n",
       "    }\n",
       "\n",
       "    .dataframe thead th {\n",
       "        text-align: right;\n",
       "    }\n",
       "</style>\n",
       "<table border=\"1\" class=\"dataframe\">\n",
       "  <thead>\n",
       "    <tr style=\"text-align: right;\">\n",
       "      <th></th>\n",
       "      <th>Date</th>\n",
       "      <th>Time</th>\n",
       "      <th>Temp</th>\n",
       "      <th>pH</th>\n",
       "    </tr>\n",
       "  </thead>\n",
       "  <tbody>\n",
       "    <tr>\n",
       "      <td>0</td>\n",
       "      <td>2019/12/17</td>\n",
       "      <td>10:59:24 AM</td>\n",
       "      <td>18.548190</td>\n",
       "      <td>8.444315</td>\n",
       "    </tr>\n",
       "    <tr>\n",
       "      <td>1</td>\n",
       "      <td>2019/12/17</td>\n",
       "      <td>10:59:25 AM</td>\n",
       "      <td>18.547846</td>\n",
       "      <td>8.437364</td>\n",
       "    </tr>\n",
       "    <tr>\n",
       "      <td>2</td>\n",
       "      <td>2019/12/17</td>\n",
       "      <td>10:59:26 AM</td>\n",
       "      <td>18.548219</td>\n",
       "      <td>8.435781</td>\n",
       "    </tr>\n",
       "    <tr>\n",
       "      <td>3</td>\n",
       "      <td>2019/12/17</td>\n",
       "      <td>10:59:27 AM</td>\n",
       "      <td>18.548121</td>\n",
       "      <td>8.438819</td>\n",
       "    </tr>\n",
       "    <tr>\n",
       "      <td>4</td>\n",
       "      <td>2019/12/17</td>\n",
       "      <td>10:59:28 AM</td>\n",
       "      <td>18.548328</td>\n",
       "      <td>8.463300</td>\n",
       "    </tr>\n",
       "    <tr>\n",
       "      <td>...</td>\n",
       "      <td>...</td>\n",
       "      <td>...</td>\n",
       "      <td>...</td>\n",
       "      <td>...</td>\n",
       "    </tr>\n",
       "    <tr>\n",
       "      <td>289995</td>\n",
       "      <td>2019/12/20</td>\n",
       "      <td>07:32:45 PM</td>\n",
       "      <td>24.977649</td>\n",
       "      <td>7.296660</td>\n",
       "    </tr>\n",
       "    <tr>\n",
       "      <td>289996</td>\n",
       "      <td>2019/12/20</td>\n",
       "      <td>07:32:46 PM</td>\n",
       "      <td>24.977384</td>\n",
       "      <td>7.296749</td>\n",
       "    </tr>\n",
       "    <tr>\n",
       "      <td>289997</td>\n",
       "      <td>2019/12/20</td>\n",
       "      <td>07:32:47 PM</td>\n",
       "      <td>24.964864</td>\n",
       "      <td>7.296616</td>\n",
       "    </tr>\n",
       "    <tr>\n",
       "      <td>289998</td>\n",
       "      <td>2019/12/20</td>\n",
       "      <td>07:32:48 PM</td>\n",
       "      <td>24.964903</td>\n",
       "      <td>7.296442</td>\n",
       "    </tr>\n",
       "    <tr>\n",
       "      <td>289999</td>\n",
       "      <td>2019/12/20</td>\n",
       "      <td>07:32:49 PM</td>\n",
       "      <td>24.953043</td>\n",
       "      <td>7.296745</td>\n",
       "    </tr>\n",
       "  </tbody>\n",
       "</table>\n",
       "<p>290000 rows × 4 columns</p>\n",
       "</div>"
      ],
      "text/plain": [
       "              Date         Time       Temp        pH\n",
       "0       2019/12/17  10:59:24 AM  18.548190  8.444315\n",
       "1       2019/12/17  10:59:25 AM  18.547846  8.437364\n",
       "2       2019/12/17  10:59:26 AM  18.548219  8.435781\n",
       "3       2019/12/17  10:59:27 AM  18.548121  8.438819\n",
       "4       2019/12/17  10:59:28 AM  18.548328  8.463300\n",
       "...            ...          ...        ...       ...\n",
       "289995  2019/12/20  07:32:45 PM  24.977649  7.296660\n",
       "289996  2019/12/20  07:32:46 PM  24.977384  7.296749\n",
       "289997  2019/12/20  07:32:47 PM  24.964864  7.296616\n",
       "289998  2019/12/20  07:32:48 PM  24.964903  7.296442\n",
       "289999  2019/12/20  07:32:49 PM  24.953043  7.296745\n",
       "\n",
       "[290000 rows x 4 columns]"
      ]
     },
     "execution_count": 62,
     "metadata": {},
     "output_type": "execute_result"
    }
   ],
   "source": [
    "test_3_data"
   ]
  },
  {
   "cell_type": "code",
   "execution_count": 73,
   "metadata": {},
   "outputs": [
    {
     "data": {
      "text/plain": [
       "<matplotlib.axes._subplots.AxesSubplot at 0x26ed37520c8>"
      ]
     },
     "execution_count": 73,
     "metadata": {},
     "output_type": "execute_result"
    },
    {
     "data": {
      "image/png": "[encoded data removed]",
      "text/plain": [
       "<Figure size 432x288 with 1 Axes>"
      ]
     },
     "metadata": {
      "needs_background": "light"
     },
     "output_type": "display_data"
    },
    {
     "data": {
      "image/png": "[encoded data removed]",
      "text/plain": [
       "<Figure size 432x288 with 1 Axes>"
      ]
     },
     "metadata": {
      "needs_background": "light"
     },
     "output_type": "display_data"
    }
   ],
   "source": [
    "test_3_data[10000:10300].plot(y = \"pH\")\n",
    "test_3_data.plot(y = \"Temp\")"
   ]
  },
  {
   "cell_type": "code",
   "execution_count": 64,
   "metadata": {},
   "outputs": [],
   "source": [
    "x3 = numpy.arange(skips3,len(test_3_data.pH)+skips3)\n",
    "order3 = 1"
   ]
  },
  {
   "cell_type": "code",
   "execution_count": 65,
   "metadata": {},
   "outputs": [
    {
     "data": {
      "text/plain": [
       "(290000, 290000)"
      ]
     },
     "execution_count": 65,
     "metadata": {},
     "output_type": "execute_result"
    }
   ],
   "source": [
    "len(x3), len(test_3_data.pH)"
   ]
  },
  {
   "cell_type": "code",
   "execution_count": 66,
   "metadata": {},
   "outputs": [],
   "source": [
    "x3_extended = numpy.arange(skips3,len(test_3_data.pH)+10000+skips3)"
   ]
  },
  {
   "cell_type": "code",
   "execution_count": 67,
   "metadata": {},
   "outputs": [
    {
     "name": "stdout",
     "output_type": "stream",
     "text": [
      " \n",
      "2.832e-07 x + 7.222\n"
     ]
    }
   ],
   "source": [
    "test_3_ph_poly = numpy.poly1d(numpy.polyfit( x3, test_3_data.pH, order3))\n",
    "print(test_3_ph_poly)"
   ]
  },
  {
   "cell_type": "code",
   "execution_count": 68,
   "metadata": {},
   "outputs": [],
   "source": [
    "fit_3_ph_poly = pandas.DataFrame(test_3_ph_poly(x3_extended))"
   ]
  },
  {
   "cell_type": "code",
   "execution_count": 69,
   "metadata": {},
   "outputs": [],
   "source": [
    "test_3_ph_comp = pandas.concat([test_3_data.pH,fit_3_ph_poly], axis = 1)\n",
    "test_3_ph_comp.columns = [\"Experimental\", \"Polyfit\"]"
   ]
  },
  {
   "cell_type": "code",
   "execution_count": 70,
   "metadata": {},
   "outputs": [
    {
     "data": {
      "text/plain": [
       "<matplotlib.axes._subplots.AxesSubplot at 0x26ed357b848>"
      ]
     },
     "execution_count": 70,
     "metadata": {},
     "output_type": "execute_result"
    },
    {
     "data": {
      "image/png": "[encoded data removed]",
      "text/plain": [
       "<Figure size 432x288 with 1 Axes>"
      ]
     },
     "metadata": {
      "needs_background": "light"
     },
     "output_type": "display_data"
    }
   ],
   "source": [
    "test_3_ph_comp.plot()"
   ]
  },
  {
   "cell_type": "markdown",
   "metadata": {},
   "source": [
    "## Noise Reduction\n",
    "Reduce noise via rolling average"
   ]
  },
  {
   "cell_type": "code",
   "execution_count": null,
   "metadata": {},
   "outputs": [],
   "source": [
    "rolling_window = 240"
   ]
  },
  {
   "cell_type": "code",
   "execution_count": null,
   "metadata": {},
   "outputs": [],
   "source": [
    "test_3_data_rolling = test_3_data.rolling(rolling_window).mean().pH.dropna()\n",
    "test_3_data_rolling"
   ]
  },
  {
   "cell_type": "code",
   "execution_count": null,
   "metadata": {},
   "outputs": [],
   "source": [
    "test_3_ph_rolling_poly = numpy.poly1d(numpy.polyfit( x3[rolling_window-1:], test_3_data_rolling, order3))\n",
    "print(test_3_ph_rolling_poly)"
   ]
  },
  {
   "cell_type": "code",
   "execution_count": null,
   "metadata": {},
   "outputs": [],
   "source": [
    "fit_3_ph_rolling_poly = pandas.DataFrame(test_3_ph_rolling_poly(x3_extended))"
   ]
  },
  {
   "cell_type": "code",
   "execution_count": null,
   "metadata": {},
   "outputs": [],
   "source": [
    "test_3_ph_comp_2 = pandas.concat([test_3_ph_comp, test_3_data_rolling, fit_3_ph_rolling_poly], axis = 1)\n",
    "test_3_ph_comp_2.columns = [\"Experimental\", \"Polyfit\", \"Moving Average\",\"Fit after Noise Reduction\"]"
   ]
  },
  {
   "cell_type": "code",
   "execution_count": null,
   "metadata": {},
   "outputs": [],
   "source": [
    "test_3_ph_comp_2.plot()"
   ]
  },
  {
   "cell_type": "code",
   "execution_count": null,
   "metadata": {},
   "outputs": [],
   "source": [
    "print(test_3_ph_rolling_poly)\n",
    "print(test_3_ph_poly)"
   ]
  },
  {
   "cell_type": "code",
   "execution_count": null,
   "metadata": {},
   "outputs": [],
   "source": []
  },
  {
   "cell_type": "markdown",
   "metadata": {},
   "source": [
    "# All Poly Comp"
   ]
  },
  {
   "cell_type": "code",
   "execution_count": null,
   "metadata": {},
   "outputs": [],
   "source": [
    "print(\"Test 1\", \"\\n\",test_1_ph_rolling_poly, \"\\n\", \"\\n\")\n",
    "\n",
    "print(\"Test 2\", \"\\n\",test_2_ph_poly)\n",
    "print(test_2_ph_rolling_poly, \"\\n\", \"\\n\")\n",
    "\n",
    "print(\"Test 3\", \"\\n\",test_3_ph_poly)\n",
    "print(test_3_ph_rolling_poly, \"\\n\", \"\\n\")"
   ]
  },
  {
   "cell_type": "code",
   "execution_count": null,
   "metadata": {},
   "outputs": [],
   "source": []
  },
  {
   "cell_type": "code",
   "execution_count": null,
   "metadata": {},
   "outputs": [],
   "source": []
  },
  {
   "cell_type": "code",
   "execution_count": null,
   "metadata": {},
   "outputs": [],
   "source": []
  }
 ],
 "metadata": {
  "kernelspec": {
   "display_name": "Python 3",
   "language": "python",
   "name": "python3"
  },
  "language_info": {
   "codemirror_mode": {
    "name": "ipython",
    "version": 3
   },
   "file_extension": ".py",
   "mimetype": "text/x-python",
   "name": "python",
   "nbconvert_exporter": "python",
   "pygments_lexer": "ipython3",
   "version": "3.7.4"
  }
 },
 "nbformat": 4,
 "nbformat_minor": 2
}
