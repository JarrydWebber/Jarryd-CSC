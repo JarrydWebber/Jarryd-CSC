{
 "cells": [
  {
   "cell_type": "code",
   "execution_count": 1,
   "metadata": {},
   "outputs": [],
   "source": [
    "import pandas\n",
    "import numpy\n",
    "import scipy\n",
    "from scipy import stats\n",
    "from config import datadir\n",
    "\n",
    "import matplotlib.pyplot as plot\n",
    "%matplotlib inline"
   ]
  },
  {
   "cell_type": "code",
   "execution_count": 2,
   "metadata": {},
   "outputs": [
    {
     "data": {
      "text/plain": [
       "WindowsPath('C:/Users/jarry/Google Drive/University/CSC411/CSC 2020 Webber J/Data/Drift Test ph and temp 06 12 2019 - 11')"
      ]
     },
     "execution_count": 2,
     "metadata": {},
     "output_type": "execute_result"
    }
   ],
   "source": [
    "datadir / 'Drift Test ph and temp 06 12 2019 - 11'"
   ]
  },
  {
   "cell_type": "markdown",
   "metadata": {},
   "source": [
    "# Test 1"
   ]
  },
  {
   "cell_type": "code",
   "execution_count": 3,
   "metadata": {},
   "outputs": [],
   "source": [
    "skips1 = 0"
   ]
  },
  {
   "cell_type": "code",
   "execution_count": 6,
   "metadata": {},
   "outputs": [],
   "source": [
    "test_1_data = pandas.read_csv(datadir / 'Drift Test ph and temp 06 12 2019 - 11', sep='\t', header = None, \n",
    "                              usecols = [0, 1, 2, 3],\n",
    "                              names = [\"Date\", \"Time\", \"Temp\", \"pH\"],\n",
    "                              skiprows = skips1)"
   ]
  },
  {
   "cell_type": "markdown",
   "metadata": {},
   "source": [
    "test_1_data = pandas.read_csv('Drift Test ph and temp 06 12 2019 - 09', sep='\t', header = None, \n",
    "                              usecols = [0, 1, 2, 3],\n",
    "                              names = [\"Date\", \"Time\", \"Temp\", \"pH\"],\n",
    "                              skiprows = skips1)"
   ]
  },
  {
   "cell_type": "code",
   "execution_count": 7,
   "metadata": {},
   "outputs": [
    {
     "data": {
      "text/html": [
       "<div>\n",
       "<style scoped>\n",
       "    .dataframe tbody tr th:only-of-type {\n",
       "        vertical-align: middle;\n",
       "    }\n",
       "\n",
       "    .dataframe tbody tr th {\n",
       "        vertical-align: top;\n",
       "    }\n",
       "\n",
       "    .dataframe thead th {\n",
       "        text-align: right;\n",
       "    }\n",
       "</style>\n",
       "<table border=\"1\" class=\"dataframe\">\n",
       "  <thead>\n",
       "    <tr style=\"text-align: right;\">\n",
       "      <th></th>\n",
       "      <th>Date</th>\n",
       "      <th>Time</th>\n",
       "      <th>Temp</th>\n",
       "      <th>pH</th>\n",
       "    </tr>\n",
       "  </thead>\n",
       "  <tbody>\n",
       "    <tr>\n",
       "      <td>0</td>\n",
       "      <td>2019/12/06</td>\n",
       "      <td>09:05:27 AM</td>\n",
       "      <td>23.663528</td>\n",
       "      <td>8.811172</td>\n",
       "    </tr>\n",
       "    <tr>\n",
       "      <td>1</td>\n",
       "      <td>2019/12/06</td>\n",
       "      <td>09:05:28 AM</td>\n",
       "      <td>23.728594</td>\n",
       "      <td>8.840874</td>\n",
       "    </tr>\n",
       "    <tr>\n",
       "      <td>2</td>\n",
       "      <td>2019/12/06</td>\n",
       "      <td>09:05:29 AM</td>\n",
       "      <td>23.745982</td>\n",
       "      <td>8.869581</td>\n",
       "    </tr>\n",
       "    <tr>\n",
       "      <td>3</td>\n",
       "      <td>2019/12/06</td>\n",
       "      <td>09:05:30 AM</td>\n",
       "      <td>23.771789</td>\n",
       "      <td>8.926380</td>\n",
       "    </tr>\n",
       "    <tr>\n",
       "      <td>4</td>\n",
       "      <td>2019/12/06</td>\n",
       "      <td>09:05:31 AM</td>\n",
       "      <td>23.800850</td>\n",
       "      <td>8.969278</td>\n",
       "    </tr>\n",
       "    <tr>\n",
       "      <td>...</td>\n",
       "      <td>...</td>\n",
       "      <td>...</td>\n",
       "      <td>...</td>\n",
       "      <td>...</td>\n",
       "    </tr>\n",
       "    <tr>\n",
       "      <td>441556</td>\n",
       "      <td>2019/12/11</td>\n",
       "      <td>11:47:56 AM</td>\n",
       "      <td>35.396296</td>\n",
       "      <td>15.749999</td>\n",
       "    </tr>\n",
       "    <tr>\n",
       "      <td>441557</td>\n",
       "      <td>2019/12/11</td>\n",
       "      <td>11:47:57 AM</td>\n",
       "      <td>35.396296</td>\n",
       "      <td>15.749999</td>\n",
       "    </tr>\n",
       "    <tr>\n",
       "      <td>441558</td>\n",
       "      <td>2019/12/11</td>\n",
       "      <td>11:47:58 AM</td>\n",
       "      <td>35.396119</td>\n",
       "      <td>15.749999</td>\n",
       "    </tr>\n",
       "    <tr>\n",
       "      <td>441559</td>\n",
       "      <td>2019/12/11</td>\n",
       "      <td>11:47:59 AM</td>\n",
       "      <td>35.396936</td>\n",
       "      <td>15.749999</td>\n",
       "    </tr>\n",
       "    <tr>\n",
       "      <td>441560</td>\n",
       "      <td>2019/12/11</td>\n",
       "      <td>11:48:00 AM</td>\n",
       "      <td>35.396808</td>\n",
       "      <td>15.749999</td>\n",
       "    </tr>\n",
       "  </tbody>\n",
       "</table>\n",
       "<p>441561 rows × 4 columns</p>\n",
       "</div>"
      ],
      "text/plain": [
       "              Date         Time       Temp         pH\n",
       "0       2019/12/06  09:05:27 AM  23.663528   8.811172\n",
       "1       2019/12/06  09:05:28 AM  23.728594   8.840874\n",
       "2       2019/12/06  09:05:29 AM  23.745982   8.869581\n",
       "3       2019/12/06  09:05:30 AM  23.771789   8.926380\n",
       "4       2019/12/06  09:05:31 AM  23.800850   8.969278\n",
       "...            ...          ...        ...        ...\n",
       "441556  2019/12/11  11:47:56 AM  35.396296  15.749999\n",
       "441557  2019/12/11  11:47:57 AM  35.396296  15.749999\n",
       "441558  2019/12/11  11:47:58 AM  35.396119  15.749999\n",
       "441559  2019/12/11  11:47:59 AM  35.396936  15.749999\n",
       "441560  2019/12/11  11:48:00 AM  35.396808  15.749999\n",
       "\n",
       "[441561 rows x 4 columns]"
      ]
     },
     "execution_count": 7,
     "metadata": {},
     "output_type": "execute_result"
    }
   ],
   "source": [
    "test_1_data"
   ]
  },
  {
   "cell_type": "code",
   "execution_count": 8,
   "metadata": {},
   "outputs": [
    {
     "data": {
      "text/plain": [
       "<matplotlib.axes._subplots.AxesSubplot at 0x20cc3b62808>"
      ]
     },
     "execution_count": 8,
     "metadata": {},
     "output_type": "execute_result"
    },
    {
     "data": {
      "image/png": "[encoded data removed]",
      "text/plain": [
       "<Figure size 432x288 with 1 Axes>"
      ]
     },
     "metadata": {
      "needs_background": "light"
     },
     "output_type": "display_data"
    },
    {
     "data": {
      "image/png": "[encoded data removed]",
      "text/plain": [
       "<Figure size 432x288 with 1 Axes>"
      ]
     },
     "metadata": {
      "needs_background": "light"
     },
     "output_type": "display_data"
    }
   ],
   "source": [
    "test_1_data.plot(y = \"pH\")\n",
    "test_1_data.plot(y = \"Temp\")"
   ]
  },
  {
   "cell_type": "code",
   "execution_count": null,
   "metadata": {},
   "outputs": [],
   "source": [
    "z1 = numpy.abs(stats.zscore(test_1_data.pH))\n",
    "print(z1, len(z1))"
   ]
  },
  {
   "cell_type": "code",
   "execution_count": null,
   "metadata": {},
   "outputs": [],
   "source": [
    "threshold = 1\n",
    "print(numpy.where(z1 > threshold))"
   ]
  },
  {
   "cell_type": "code",
   "execution_count": null,
   "metadata": {},
   "outputs": [],
   "source": [
    "test_1_data_trimmed = test_1_data[(z1 < threshold)]\n",
    "test_1_data_trimmed"
   ]
  },
  {
   "cell_type": "code",
   "execution_count": null,
   "metadata": {},
   "outputs": [],
   "source": [
    "test_1_data_trimmed.plot(y = \"pH\")\n",
    "test_1_data_trimmed.plot(y = \"Temp\")"
   ]
  },
  {
   "cell_type": "code",
   "execution_count": null,
   "metadata": {},
   "outputs": [],
   "source": [
    "rolling_window = 240"
   ]
  },
  {
   "cell_type": "code",
   "execution_count": null,
   "metadata": {},
   "outputs": [],
   "source": [
    "test_1_data_trimmed.pH"
   ]
  },
  {
   "cell_type": "code",
   "execution_count": null,
   "metadata": {},
   "outputs": [],
   "source": [
    "test_1_data_rolling = test_1_data_trimmed.rolling(rolling_window).mean().dropna()"
   ]
  },
  {
   "cell_type": "code",
   "execution_count": null,
   "metadata": {},
   "outputs": [],
   "source": [
    "test_1_data_rolling"
   ]
  },
  {
   "cell_type": "code",
   "execution_count": null,
   "metadata": {},
   "outputs": [],
   "source": [
    "test_1_data_rolling.plot(y = \"pH\")\n",
    "test_1_data_rolling.plot(y = \"Temp\")"
   ]
  },
  {
   "cell_type": "code",
   "execution_count": null,
   "metadata": {},
   "outputs": [],
   "source": []
  },
  {
   "cell_type": "code",
   "execution_count": null,
   "metadata": {},
   "outputs": [],
   "source": [
    "x1 = numpy.arange(skips1,len(test_1_data_rolling.pH)+skips1)\n",
    "order1 = 1"
   ]
  },
  {
   "cell_type": "code",
   "execution_count": null,
   "metadata": {},
   "outputs": [],
   "source": [
    "x1_extended = numpy.arange(skips1,len(test_1_data.pH)+10000+skips1)"
   ]
  },
  {
   "cell_type": "code",
   "execution_count": null,
   "metadata": {},
   "outputs": [],
   "source": [
    "test_1_ph_rolling_poly = numpy.poly1d(numpy.polyfit( x1, test_1_data_rolling.pH, order1))\n",
    "print(test_1_ph_rolling_poly)"
   ]
  },
  {
   "cell_type": "code",
   "execution_count": null,
   "metadata": {},
   "outputs": [],
   "source": [
    "fit_1_ph_poly = pandas.DataFrame(test_1_ph_rolling_poly(x1_extended))"
   ]
  },
  {
   "cell_type": "code",
   "execution_count": null,
   "metadata": {},
   "outputs": [],
   "source": [
    "test_1_ph_comp = pandas.concat([test_1_data_rolling.pH,fit_1_ph_poly], axis = 1)\n",
    "test_1_ph_comp.columns = [\"Experimental\", \"Polyfit\"]"
   ]
  },
  {
   "cell_type": "code",
   "execution_count": null,
   "metadata": {},
   "outputs": [],
   "source": [
    "test_1_ph_comp.plot()"
   ]
  },
  {
   "cell_type": "markdown",
   "metadata": {},
   "source": [
    "# Test 2"
   ]
  },
  {
   "cell_type": "code",
   "execution_count": null,
   "metadata": {},
   "outputs": [],
   "source": [
    "skips2 = skips1"
   ]
  },
  {
   "cell_type": "code",
   "execution_count": null,
   "metadata": {},
   "outputs": [],
   "source": [
    "test_2_data = pandas.read_csv('Drift Test 2 ph and temp 11 12 2019 - Finished', sep='\t', header = None, \n",
    "                              usecols = [0, 1, 2, 3],\n",
    "                              names = [\"Date\", \"Time\", \"Temp\", \"pH\"],\n",
    "                              skiprows = skips2)"
   ]
  },
  {
   "cell_type": "code",
   "execution_count": null,
   "metadata": {},
   "outputs": [],
   "source": [
    "test_2_data"
   ]
  },
  {
   "cell_type": "code",
   "execution_count": null,
   "metadata": {},
   "outputs": [],
   "source": [
    "test_2_data.plot(y = \"pH\")\n",
    "test_2_data.plot(y = \"Temp\")"
   ]
  },
  {
   "cell_type": "code",
   "execution_count": null,
   "metadata": {},
   "outputs": [],
   "source": []
  },
  {
   "cell_type": "code",
   "execution_count": null,
   "metadata": {},
   "outputs": [],
   "source": [
    "x2 = numpy.arange(skips2,len(test_2_data.pH)+skips2)\n",
    "order2 = 1"
   ]
  },
  {
   "cell_type": "code",
   "execution_count": null,
   "metadata": {},
   "outputs": [],
   "source": [
    "len(x2), len(test_2_data.pH)"
   ]
  },
  {
   "cell_type": "code",
   "execution_count": null,
   "metadata": {},
   "outputs": [],
   "source": [
    "x2_extended = numpy.arange(skips2,len(test_2_data.pH)+10000+skips2)"
   ]
  },
  {
   "cell_type": "code",
   "execution_count": null,
   "metadata": {},
   "outputs": [],
   "source": [
    "test_2_ph_poly = numpy.poly1d(numpy.polyfit( x2, test_2_data.pH, order2))\n",
    "print(test_2_ph_poly)"
   ]
  },
  {
   "cell_type": "code",
   "execution_count": null,
   "metadata": {},
   "outputs": [],
   "source": [
    "fit_2_ph_poly = pandas.DataFrame(test_2_ph_poly(x2_extended))"
   ]
  },
  {
   "cell_type": "code",
   "execution_count": null,
   "metadata": {},
   "outputs": [],
   "source": [
    "test_2_ph_comp = pandas.concat([test_2_data.pH,fit_2_ph_poly], axis = 1)\n",
    "test_2_ph_comp.columns = [\"Experimental\", \"Polyfit\"]"
   ]
  },
  {
   "cell_type": "code",
   "execution_count": null,
   "metadata": {},
   "outputs": [],
   "source": [
    "test_2_ph_comp.plot()"
   ]
  },
  {
   "cell_type": "markdown",
   "metadata": {},
   "source": [
    "## Noise Reduction\n",
    "Reduce noise via rolling average"
   ]
  },
  {
   "cell_type": "code",
   "execution_count": null,
   "metadata": {},
   "outputs": [],
   "source": [
    "rolling_window = 240"
   ]
  },
  {
   "cell_type": "code",
   "execution_count": null,
   "metadata": {},
   "outputs": [],
   "source": [
    "test_2_data_rolling = test_2_data.rolling(rolling_window).mean().pH.dropna()\n",
    "test_2_data_rolling"
   ]
  },
  {
   "cell_type": "code",
   "execution_count": null,
   "metadata": {},
   "outputs": [],
   "source": [
    "test_2_ph_rolling_poly = numpy.poly1d(numpy.polyfit( x2[rolling_window-1:], test_2_data_rolling, order2))\n",
    "print(test_2_ph_rolling_poly)"
   ]
  },
  {
   "cell_type": "code",
   "execution_count": null,
   "metadata": {},
   "outputs": [],
   "source": [
    "fit_2_ph_rolling_poly = pandas.DataFrame(test_2_ph_rolling_poly(x2_extended))"
   ]
  },
  {
   "cell_type": "code",
   "execution_count": null,
   "metadata": {},
   "outputs": [],
   "source": [
    "test_2_ph_comp_2 = pandas.concat([test_2_ph_comp, test_2_data_rolling, fit_2_ph_rolling_poly], axis = 1)\n",
    "test_2_ph_comp_2.columns = [\"Experimental\", \"Polyfit\", \"Moving Average\",\"Fit after Noise Reduction\"]"
   ]
  },
  {
   "cell_type": "code",
   "execution_count": null,
   "metadata": {},
   "outputs": [],
   "source": [
    "test_2_ph_comp_2.plot()"
   ]
  },
  {
   "cell_type": "code",
   "execution_count": null,
   "metadata": {},
   "outputs": [],
   "source": [
    "print(test_2_ph_rolling_poly)\n",
    "print(test_2_ph_poly)"
   ]
  },
  {
   "cell_type": "code",
   "execution_count": null,
   "metadata": {},
   "outputs": [],
   "source": []
  },
  {
   "cell_type": "code",
   "execution_count": null,
   "metadata": {},
   "outputs": [],
   "source": []
  },
  {
   "cell_type": "markdown",
   "metadata": {},
   "source": [
    "# Test 3"
   ]
  },
  {
   "cell_type": "code",
   "execution_count": null,
   "metadata": {},
   "outputs": [],
   "source": [
    "skips3 = skips2\n",
    "Nrows = 290000-skips3"
   ]
  },
  {
   "cell_type": "code",
   "execution_count": null,
   "metadata": {},
   "outputs": [],
   "source": [
    "test_3_data = pandas.read_csv('Drift Test 3 ph and temp 17 12 2019 pH7 Buffer secondary rig', sep='\t', header = None, \n",
    "                              usecols = [0, 1, 2, 3],\n",
    "                              names = [\"Date\", \"Time\", \"Temp\", \"pH\"], nrows = Nrows, skiprows = skips3)"
   ]
  },
  {
   "cell_type": "code",
   "execution_count": null,
   "metadata": {},
   "outputs": [],
   "source": [
    "test_3_data"
   ]
  },
  {
   "cell_type": "code",
   "execution_count": null,
   "metadata": {},
   "outputs": [],
   "source": [
    "test_3_data.plot(y = \"pH\")\n",
    "test_3_data.plot(y = \"Temp\")"
   ]
  },
  {
   "cell_type": "code",
   "execution_count": null,
   "metadata": {},
   "outputs": [],
   "source": [
    "x3 = numpy.arange(skips3,len(test_3_data.pH)+skips3)\n",
    "order3 = 1"
   ]
  },
  {
   "cell_type": "code",
   "execution_count": null,
   "metadata": {},
   "outputs": [],
   "source": [
    "len(x3), len(test_3_data.pH)"
   ]
  },
  {
   "cell_type": "code",
   "execution_count": null,
   "metadata": {},
   "outputs": [],
   "source": [
    "x3_extended = numpy.arange(skips3,len(test_3_data.pH)+10000+skips3)"
   ]
  },
  {
   "cell_type": "code",
   "execution_count": null,
   "metadata": {},
   "outputs": [],
   "source": [
    "test_3_ph_poly = numpy.poly1d(numpy.polyfit( x3, test_3_data.pH, order3))\n",
    "print(test_3_ph_poly)"
   ]
  },
  {
   "cell_type": "code",
   "execution_count": null,
   "metadata": {},
   "outputs": [],
   "source": [
    "fit_3_ph_poly = pandas.DataFrame(test_3_ph_poly(x3_extended))"
   ]
  },
  {
   "cell_type": "code",
   "execution_count": null,
   "metadata": {},
   "outputs": [],
   "source": [
    "test_3_ph_comp = pandas.concat([test_3_data.pH,fit_3_ph_poly], axis = 1)\n",
    "test_3_ph_comp.columns = [\"Experimental\", \"Polyfit\"]"
   ]
  },
  {
   "cell_type": "code",
   "execution_count": null,
   "metadata": {},
   "outputs": [],
   "source": [
    "test_3_ph_comp.plot()"
   ]
  },
  {
   "cell_type": "markdown",
   "metadata": {},
   "source": [
    "## Noise Reduction\n",
    "Reduce noise via rolling average"
   ]
  },
  {
   "cell_type": "code",
   "execution_count": null,
   "metadata": {},
   "outputs": [],
   "source": [
    "rolling_window = 240"
   ]
  },
  {
   "cell_type": "code",
   "execution_count": null,
   "metadata": {},
   "outputs": [],
   "source": [
    "test_3_data_rolling = test_3_data.rolling(rolling_window).mean().pH.dropna()\n",
    "test_3_data_rolling"
   ]
  },
  {
   "cell_type": "code",
   "execution_count": null,
   "metadata": {},
   "outputs": [],
   "source": [
    "test_3_ph_rolling_poly = numpy.poly1d(numpy.polyfit( x3[rolling_window-1:], test_3_data_rolling, order3))\n",
    "print(test_3_ph_rolling_poly)"
   ]
  },
  {
   "cell_type": "code",
   "execution_count": null,
   "metadata": {},
   "outputs": [],
   "source": [
    "fit_3_ph_rolling_poly = pandas.DataFrame(test_3_ph_rolling_poly(x3_extended))"
   ]
  },
  {
   "cell_type": "code",
   "execution_count": null,
   "metadata": {},
   "outputs": [],
   "source": [
    "test_3_ph_comp_2 = pandas.concat([test_3_ph_comp, test_3_data_rolling, fit_3_ph_rolling_poly], axis = 1)\n",
    "test_3_ph_comp_2.columns = [\"Experimental\", \"Polyfit\", \"Moving Average\",\"Fit after Noise Reduction\"]"
   ]
  },
  {
   "cell_type": "code",
   "execution_count": null,
   "metadata": {},
   "outputs": [],
   "source": [
    "test_3_ph_comp_2.plot()"
   ]
  },
  {
   "cell_type": "code",
   "execution_count": null,
   "metadata": {},
   "outputs": [],
   "source": [
    "print(test_3_ph_rolling_poly)\n",
    "print(test_3_ph_poly)"
   ]
  },
  {
   "cell_type": "code",
   "execution_count": null,
   "metadata": {},
   "outputs": [],
   "source": []
  },
  {
   "cell_type": "markdown",
   "metadata": {},
   "source": [
    "# All Poly Comp"
   ]
  },
  {
   "cell_type": "code",
   "execution_count": null,
   "metadata": {},
   "outputs": [],
   "source": [
    "print(\"Test 1\", \"\\n\",test_1_ph_rolling_poly, \"\\n\", \"\\n\")\n",
    "\n",
    "print(\"Test 2\", \"\\n\",test_2_ph_poly)\n",
    "print(test_2_ph_rolling_poly, \"\\n\", \"\\n\")\n",
    "\n",
    "print(\"Test 3\", \"\\n\",test_3_ph_poly)\n",
    "print(test_3_ph_rolling_poly, \"\\n\", \"\\n\")"
   ]
  },
  {
   "cell_type": "code",
   "execution_count": null,
   "metadata": {},
   "outputs": [],
   "source": []
  },
  {
   "cell_type": "code",
   "execution_count": null,
   "metadata": {},
   "outputs": [],
   "source": []
  },
  {
   "cell_type": "code",
   "execution_count": null,
   "metadata": {},
   "outputs": [],
   "source": []
  }
 ],
 "metadata": {
  "kernelspec": {
   "display_name": "Python 3",
   "language": "python",
   "name": "python3"
  },
  "language_info": {
   "codemirror_mode": {
    "name": "ipython",
    "version": 3
   },
   "file_extension": ".py",
   "mimetype": "text/x-python",
   "name": "python",
   "nbconvert_exporter": "python",
   "pygments_lexer": "ipython3",
   "version": "3.7.4"
  }
 },
 "nbformat": 4,
 "nbformat_minor": 2
}
