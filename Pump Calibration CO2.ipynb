{
 "cells": [
  {
   "cell_type": "code",
   "execution_count": 1,
   "metadata": {},
   "outputs": [],
   "source": [
    "import pandas\n",
    "import numpy\n",
    "import scipy\n",
    "from scipy import stats\n",
    "import sympy\n",
    "import matplotlib.pyplot as plot\n",
    "\n",
    "sympy.init_printing() "
   ]
  },
  {
   "cell_type": "markdown",
   "metadata": {},
   "source": [
    "# CO2 Pump"
   ]
  },
  {
   "cell_type": "code",
   "execution_count": 10,
   "metadata": {},
   "outputs": [
    {
     "data": {
      "text/html": [
       "<div>\n",
       "<style scoped>\n",
       "    .dataframe tbody tr th:only-of-type {\n",
       "        vertical-align: middle;\n",
       "    }\n",
       "\n",
       "    .dataframe tbody tr th {\n",
       "        vertical-align: top;\n",
       "    }\n",
       "\n",
       "    .dataframe thead th {\n",
       "        text-align: right;\n",
       "    }\n",
       "</style>\n",
       "<table border=\"1\" class=\"dataframe\">\n",
       "  <thead>\n",
       "    <tr style=\"text-align: right;\">\n",
       "      <th></th>\n",
       "      <th>mA Signal</th>\n",
       "      <th>Volume/Time (ml/s)</th>\n",
       "    </tr>\n",
       "  </thead>\n",
       "  <tbody>\n",
       "    <tr>\n",
       "      <td>0</td>\n",
       "      <td>0.007</td>\n",
       "      <td>0.028337</td>\n",
       "    </tr>\n",
       "    <tr>\n",
       "      <td>1</td>\n",
       "      <td>0.007</td>\n",
       "      <td>0.028443</td>\n",
       "    </tr>\n",
       "    <tr>\n",
       "      <td>2</td>\n",
       "      <td>0.007</td>\n",
       "      <td>0.029054</td>\n",
       "    </tr>\n",
       "    <tr>\n",
       "      <td>3</td>\n",
       "      <td>0.007</td>\n",
       "      <td>0.029258</td>\n",
       "    </tr>\n",
       "    <tr>\n",
       "      <td>4</td>\n",
       "      <td>0.008</td>\n",
       "      <td>0.059767</td>\n",
       "    </tr>\n",
       "    <tr>\n",
       "      <td>5</td>\n",
       "      <td>0.008</td>\n",
       "      <td>0.059349</td>\n",
       "    </tr>\n",
       "    <tr>\n",
       "      <td>6</td>\n",
       "      <td>0.008</td>\n",
       "      <td>0.058207</td>\n",
       "    </tr>\n",
       "    <tr>\n",
       "      <td>7</td>\n",
       "      <td>0.009</td>\n",
       "      <td>0.093996</td>\n",
       "    </tr>\n",
       "    <tr>\n",
       "      <td>8</td>\n",
       "      <td>0.009</td>\n",
       "      <td>0.093075</td>\n",
       "    </tr>\n",
       "    <tr>\n",
       "      <td>9</td>\n",
       "      <td>0.010</td>\n",
       "      <td>0.128118</td>\n",
       "    </tr>\n",
       "    <tr>\n",
       "      <td>10</td>\n",
       "      <td>0.010</td>\n",
       "      <td>0.128579</td>\n",
       "    </tr>\n",
       "    <tr>\n",
       "      <td>11</td>\n",
       "      <td>0.011</td>\n",
       "      <td>0.165295</td>\n",
       "    </tr>\n",
       "    <tr>\n",
       "      <td>12</td>\n",
       "      <td>0.011</td>\n",
       "      <td>0.168135</td>\n",
       "    </tr>\n",
       "    <tr>\n",
       "      <td>13</td>\n",
       "      <td>0.012</td>\n",
       "      <td>0.203062</td>\n",
       "    </tr>\n",
       "    <tr>\n",
       "      <td>14</td>\n",
       "      <td>0.012</td>\n",
       "      <td>0.202536</td>\n",
       "    </tr>\n",
       "    <tr>\n",
       "      <td>15</td>\n",
       "      <td>0.013</td>\n",
       "      <td>0.236961</td>\n",
       "    </tr>\n",
       "    <tr>\n",
       "      <td>16</td>\n",
       "      <td>0.013</td>\n",
       "      <td>0.239866</td>\n",
       "    </tr>\n",
       "    <tr>\n",
       "      <td>17</td>\n",
       "      <td>0.014</td>\n",
       "      <td>0.274944</td>\n",
       "    </tr>\n",
       "    <tr>\n",
       "      <td>18</td>\n",
       "      <td>0.014</td>\n",
       "      <td>0.279259</td>\n",
       "    </tr>\n",
       "    <tr>\n",
       "      <td>19</td>\n",
       "      <td>0.015</td>\n",
       "      <td>0.314852</td>\n",
       "    </tr>\n",
       "    <tr>\n",
       "      <td>20</td>\n",
       "      <td>0.015</td>\n",
       "      <td>0.315796</td>\n",
       "    </tr>\n",
       "    <tr>\n",
       "      <td>21</td>\n",
       "      <td>0.016</td>\n",
       "      <td>0.355379</td>\n",
       "    </tr>\n",
       "    <tr>\n",
       "      <td>22</td>\n",
       "      <td>0.016</td>\n",
       "      <td>0.352920</td>\n",
       "    </tr>\n",
       "    <tr>\n",
       "      <td>23</td>\n",
       "      <td>0.017</td>\n",
       "      <td>0.397204</td>\n",
       "    </tr>\n",
       "    <tr>\n",
       "      <td>24</td>\n",
       "      <td>0.017</td>\n",
       "      <td>0.393856</td>\n",
       "    </tr>\n",
       "    <tr>\n",
       "      <td>25</td>\n",
       "      <td>0.018</td>\n",
       "      <td>0.427131</td>\n",
       "    </tr>\n",
       "    <tr>\n",
       "      <td>26</td>\n",
       "      <td>0.018</td>\n",
       "      <td>0.439522</td>\n",
       "    </tr>\n",
       "    <tr>\n",
       "      <td>27</td>\n",
       "      <td>0.019</td>\n",
       "      <td>0.477213</td>\n",
       "    </tr>\n",
       "    <tr>\n",
       "      <td>28</td>\n",
       "      <td>0.019</td>\n",
       "      <td>0.476236</td>\n",
       "    </tr>\n",
       "    <tr>\n",
       "      <td>29</td>\n",
       "      <td>0.020</td>\n",
       "      <td>0.511091</td>\n",
       "    </tr>\n",
       "    <tr>\n",
       "      <td>30</td>\n",
       "      <td>0.020</td>\n",
       "      <td>0.518807</td>\n",
       "    </tr>\n",
       "    <tr>\n",
       "      <td>31</td>\n",
       "      <td>0.020</td>\n",
       "      <td>0.520644</td>\n",
       "    </tr>\n",
       "    <tr>\n",
       "      <td>32</td>\n",
       "      <td>0.020</td>\n",
       "      <td>0.518027</td>\n",
       "    </tr>\n",
       "  </tbody>\n",
       "</table>\n",
       "</div>"
      ],
      "text/plain": [
       "    mA Signal  Volume/Time (ml/s)\n",
       "0       0.007            0.028337\n",
       "1       0.007            0.028443\n",
       "2       0.007            0.029054\n",
       "3       0.007            0.029258\n",
       "4       0.008            0.059767\n",
       "5       0.008            0.059349\n",
       "6       0.008            0.058207\n",
       "7       0.009            0.093996\n",
       "8       0.009            0.093075\n",
       "9       0.010            0.128118\n",
       "10      0.010            0.128579\n",
       "11      0.011            0.165295\n",
       "12      0.011            0.168135\n",
       "13      0.012            0.203062\n",
       "14      0.012            0.202536\n",
       "15      0.013            0.236961\n",
       "16      0.013            0.239866\n",
       "17      0.014            0.274944\n",
       "18      0.014            0.279259\n",
       "19      0.015            0.314852\n",
       "20      0.015            0.315796\n",
       "21      0.016            0.355379\n",
       "22      0.016            0.352920\n",
       "23      0.017            0.397204\n",
       "24      0.017            0.393856\n",
       "25      0.018            0.427131\n",
       "26      0.018            0.439522\n",
       "27      0.019            0.477213\n",
       "28      0.019            0.476236\n",
       "29      0.020            0.511091\n",
       "30      0.020            0.518807\n",
       "31      0.020            0.520644\n",
       "32      0.020            0.518027"
      ]
     },
     "execution_count": 10,
     "metadata": {},
     "output_type": "execute_result"
    }
   ],
   "source": [
    "CO2_rpm = pandas.read_excel(\"Pump Calibration.xlsx\", sheet_name = 3, usecols = [\"mA Signal\", \"Volume/Time (ml/s)\"], nrows = 33)\n",
    "CO2_rpm[\"mA Signal\"]/=1000\n",
    "CO2_rpm"
   ]
  },
  {
   "cell_type": "code",
   "execution_count": 11,
   "metadata": {},
   "outputs": [
    {
     "data": {
      "text/plain": [
       "<matplotlib.axes._subplots.AxesSubplot at 0x1f5149d2748>"
      ]
     },
     "execution_count": 11,
     "metadata": {},
     "output_type": "execute_result"
    },
    {
     "data": {
      "image/png": "[encoded data removed]",
      "text/plain": [
       "<Figure size 432x288 with 1 Axes>"
      ]
     },
     "metadata": {
      "needs_background": "light"
     },
     "output_type": "display_data"
    }
   ],
   "source": [
    "CO2_rpm.plot(y = \"mA Signal\", x = \"Volume/Time (ml/s)\")"
   ]
  },
  {
   "cell_type": "code",
   "execution_count": 12,
   "metadata": {},
   "outputs": [
    {
     "name": "stdout",
     "output_type": "stream",
     "text": [
      "[0.02649264 0.00648947]\n"
     ]
    }
   ],
   "source": [
    "CO2_r1 = (numpy.polyfit(CO2_rpm[\"Volume/Time (ml/s)\"], CO2_rpm[\"mA Signal\"], 1))\n",
    "print(CO2_r1)"
   ]
  },
  {
   "cell_type": "code",
   "execution_count": 15,
   "metadata": {},
   "outputs": [
    {
     "data": {
      "image/png": "[encoded data removed]",
      "text/latex": [
       "$\\displaystyle \\left( mA, \\  ml/s\\right)$"
      ],
      "text/plain": [
       "(mA, ml/s)"
      ]
     },
     "execution_count": 15,
     "metadata": {},
     "output_type": "execute_result"
    }
   ],
   "source": [
    "mA, mlpers = sympy.symbols((\"mA\",\"ml/s\"))\n",
    "mA, mlpers"
   ]
  },
  {
   "cell_type": "code",
   "execution_count": 17,
   "metadata": {},
   "outputs": [
    {
     "data": {
      "image/png": "[encoded data removed]",
      "text/latex": [
       "$\\displaystyle 0.0264926442552245 ml/s + 0.00648946600275481$"
      ],
      "text/plain": [
       "0.0264926442552245⋅ml/s + 0.00648946600275481"
      ]
     },
     "execution_count": 17,
     "metadata": {},
     "output_type": "execute_result"
    }
   ],
   "source": [
    "Eq1 = mA = CO2_r1[0]*mlpers + CO2_r1[1]\n",
    "Eq1"
   ]
  },
  {
   "cell_type": "code",
   "execution_count": null,
   "metadata": {},
   "outputs": [],
   "source": []
  }
 ],
 "metadata": {
  "kernelspec": {
   "display_name": "Python 3",
   "language": "python",
   "name": "python3"
  },
  "language_info": {
   "codemirror_mode": {
    "name": "ipython",
    "version": 3
   },
   "file_extension": ".py",
   "mimetype": "text/x-python",
   "name": "python",
   "nbconvert_exporter": "python",
   "pygments_lexer": "ipython3",
   "version": "3.7.4"
  }
 },
 "nbformat": 4,
 "nbformat_minor": 2
}
