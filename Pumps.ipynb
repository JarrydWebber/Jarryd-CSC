{
 "cells": [
  {
   "cell_type": "code",
   "execution_count": 1,
   "metadata": {},
   "outputs": [],
   "source": [
    "import pandas\n",
    "import pathlib\n",
    "from config import datadir\n",
    "import numpy\n",
    "import matplotlib.pyplot as plt\n",
    "from latex_figure import plotfigure\n",
    "import scipy.signal as sig\n",
    "import statsmodels.nonparametric.smoothers_lowess as smoother\n",
    "\n",
    "import sympy\n",
    "\n",
    "import pint"
   ]
  },
  {
   "cell_type": "code",
   "execution_count": 2,
   "metadata": {},
   "outputs": [
    {
     "data": {
      "text/html": [
       "<div>\n",
       "<style scoped>\n",
       "    .dataframe tbody tr th:only-of-type {\n",
       "        vertical-align: middle;\n",
       "    }\n",
       "\n",
       "    .dataframe tbody tr th {\n",
       "        vertical-align: top;\n",
       "    }\n",
       "\n",
       "    .dataframe thead th {\n",
       "        text-align: right;\n",
       "    }\n",
       "</style>\n",
       "<table border=\"1\" class=\"dataframe\">\n",
       "  <thead>\n",
       "    <tr style=\"text-align: right;\">\n",
       "      <th></th>\n",
       "      <th>End Date</th>\n",
       "      <th>Equipment</th>\n",
       "      <th>Type</th>\n",
       "      <th>Purpose</th>\n",
       "      <th>Filename</th>\n",
       "      <th>Run</th>\n",
       "      <th>Description</th>\n",
       "    </tr>\n",
       "    <tr>\n",
       "      <th>Start Date</th>\n",
       "      <th></th>\n",
       "      <th></th>\n",
       "      <th></th>\n",
       "      <th></th>\n",
       "      <th></th>\n",
       "      <th></th>\n",
       "      <th></th>\n",
       "    </tr>\n",
       "  </thead>\n",
       "  <tbody>\n",
       "    <tr>\n",
       "      <td>2019-12-06</td>\n",
       "      <td>2019-12-11</td>\n",
       "      <td>pH Probe</td>\n",
       "      <td>Drift</td>\n",
       "      <td>Test Drift on pH probe</td>\n",
       "      <td>20191206 pH Drift 1.txt</td>\n",
       "      <td>1</td>\n",
       "      <td>long run of pH probe drift, performed inside t...</td>\n",
       "    </tr>\n",
       "    <tr>\n",
       "      <td>2019-12-11</td>\n",
       "      <td>2019-12-17</td>\n",
       "      <td>pH Probe</td>\n",
       "      <td>Drift</td>\n",
       "      <td>Test Drift on pH probe</td>\n",
       "      <td>20191211 pH Drift 2.txt</td>\n",
       "      <td>2</td>\n",
       "      <td>long run of pH probe drift, performed inside t...</td>\n",
       "    </tr>\n",
       "    <tr>\n",
       "      <td>2019-12-17</td>\n",
       "      <td>2019-12-23</td>\n",
       "      <td>pH Probe</td>\n",
       "      <td>Drift</td>\n",
       "      <td>Test Drift on pH probe</td>\n",
       "      <td>20191217 pH Drift 3.txt</td>\n",
       "      <td>3</td>\n",
       "      <td>long run of pH probe Drift, circulating ph7 bu...</td>\n",
       "    </tr>\n",
       "    <tr>\n",
       "      <td>2020-01-16</td>\n",
       "      <td>2020-01-16</td>\n",
       "      <td>pH Probe</td>\n",
       "      <td>Step Test</td>\n",
       "      <td>Step Test</td>\n",
       "      <td>20200116 pH Step 3.txt</td>\n",
       "      <td>3</td>\n",
       "      <td>pH stepped outside of rig</td>\n",
       "    </tr>\n",
       "    <tr>\n",
       "      <td>2020-01-14</td>\n",
       "      <td>2020-01-14</td>\n",
       "      <td>pH Probe</td>\n",
       "      <td>Step Test</td>\n",
       "      <td>Step Test</td>\n",
       "      <td>20200116 pH Step 1.txt</td>\n",
       "      <td>1</td>\n",
       "      <td>pH stepped outside of rig. Probe Broke, Dump run</td>\n",
       "    </tr>\n",
       "    <tr>\n",
       "      <td>2020-01-15</td>\n",
       "      <td>2020-01-15</td>\n",
       "      <td>pH Probe</td>\n",
       "      <td>Step Test</td>\n",
       "      <td>Step Test</td>\n",
       "      <td>20200116 pH Step 2.txt</td>\n",
       "      <td>2</td>\n",
       "      <td>pH stepped outside of rig</td>\n",
       "    </tr>\n",
       "    <tr>\n",
       "      <td>2020-01-01</td>\n",
       "      <td>2020-01-01</td>\n",
       "      <td>Pumps</td>\n",
       "      <td>Calibration</td>\n",
       "      <td>Calibration</td>\n",
       "      <td>Pump Calibration.xlsx</td>\n",
       "      <td>1</td>\n",
       "      <td>Calibration data for all pumps</td>\n",
       "    </tr>\n",
       "  </tbody>\n",
       "</table>\n",
       "</div>"
      ],
      "text/plain": [
       "             End Date Equipment         Type                 Purpose  \\\n",
       "Start Date                                                             \n",
       "2019-12-06 2019-12-11  pH Probe        Drift  Test Drift on pH probe   \n",
       "2019-12-11 2019-12-17  pH Probe        Drift  Test Drift on pH probe   \n",
       "2019-12-17 2019-12-23  pH Probe        Drift  Test Drift on pH probe   \n",
       "2020-01-16 2020-01-16  pH Probe    Step Test               Step Test   \n",
       "2020-01-14 2020-01-14  pH Probe    Step Test               Step Test   \n",
       "2020-01-15 2020-01-15  pH Probe    Step Test               Step Test   \n",
       "2020-01-01 2020-01-01     Pumps  Calibration             Calibration   \n",
       "\n",
       "                           Filename  Run  \\\n",
       "Start Date                                 \n",
       "2019-12-06  20191206 pH Drift 1.txt    1   \n",
       "2019-12-11  20191211 pH Drift 2.txt    2   \n",
       "2019-12-17  20191217 pH Drift 3.txt    3   \n",
       "2020-01-16   20200116 pH Step 3.txt    3   \n",
       "2020-01-14   20200116 pH Step 1.txt    1   \n",
       "2020-01-15   20200116 pH Step 2.txt    2   \n",
       "2020-01-01    Pump Calibration.xlsx    1   \n",
       "\n",
       "                                                  Description  \n",
       "Start Date                                                     \n",
       "2019-12-06  long run of pH probe drift, performed inside t...  \n",
       "2019-12-11  long run of pH probe drift, performed inside t...  \n",
       "2019-12-17  long run of pH probe Drift, circulating ph7 bu...  \n",
       "2020-01-16                          pH stepped outside of rig  \n",
       "2020-01-14   pH stepped outside of rig. Probe Broke, Dump run  \n",
       "2020-01-15                          pH stepped outside of rig  \n",
       "2020-01-01                     Calibration data for all pumps  "
      ]
     },
     "execution_count": 2,
     "metadata": {},
     "output_type": "execute_result"
    }
   ],
   "source": [
    "excel_directory = pandas.read_excel(datadir/'Data Description.xlsx', parse_dates=True, index_col='Start Date')\n",
    "excel_directory"
   ]
  },
  {
   "cell_type": "code",
   "execution_count": 3,
   "metadata": {},
   "outputs": [],
   "source": [
    "glucose_rpm = pandas.read_excel(datadir/\"Pump Calibration.xlsx\", sheet_name = 2, usecols = [\"Rpm\", \"Volume/Time (ml/s)\"], nrows = 13)"
   ]
  },
  {
   "cell_type": "code",
   "execution_count": 4,
   "metadata": {},
   "outputs": [],
   "source": [
    "glucose_ma = pandas.read_excel(datadir/\"Pump Calibration.xlsx\", sheet_name = 2, usecols = [\"Signal Output (mA)\", \"200\", \"100\"], nrows = 31)\n",
    "glucose_ma[\"Signal Output (mA)\"]/=1000"
   ]
  },
  {
   "cell_type": "code",
   "execution_count": 5,
   "metadata": {},
   "outputs": [],
   "source": [
    "dosing_rpm = pandas.read_excel(datadir/\"Pump Calibration.xlsx\", sheet_name = 0, usecols = [\"Rpm\", \"Volume/Time (ml/s)\"], nrows = 10)"
   ]
  },
  {
   "cell_type": "code",
   "execution_count": 6,
   "metadata": {},
   "outputs": [],
   "source": [
    "dosing_ma = pandas.read_excel(datadir/\"Pump Calibration.xlsx\", sheet_name = 0, usecols = [\"Signal Output (mA)\", \"200\", \"100\"], nrows = 31)\n",
    "dosing_ma[\"Signal Output (mA)\"]/=1000"
   ]
  },
  {
   "cell_type": "code",
   "execution_count": 7,
   "metadata": {},
   "outputs": [],
   "source": [
    "mineral_rpm = pandas.read_excel(datadir/\"Pump Calibration.xlsx\", sheet_name = 1, usecols = [\"Rpm\", \"Volume/Time (ml/s)\"], nrows = 10)"
   ]
  },
  {
   "cell_type": "code",
   "execution_count": 8,
   "metadata": {},
   "outputs": [],
   "source": [
    "mineral_ma = pandas.read_excel(datadir/\"Pump Calibration.xlsx\", sheet_name = 1, usecols = [\"Signal Output (mA)\", \"200\", \"100\"], nrows = 31)\n",
    "mineral_ma[\"Signal Output (mA)\"]/=1000"
   ]
  },
  {
   "cell_type": "code",
   "execution_count": 9,
   "metadata": {},
   "outputs": [],
   "source": [
    "rpms = [dosing_rpm['Rpm'], mineral_rpm['Rpm'], glucose_rpm['Rpm']]\n",
    "vols = [dosing_rpm['Volume/Time (ml/s)'], mineral_rpm['Volume/Time (ml/s)'], glucose_rpm['Volume/Time (ml/s)']]\n",
    "frac_200 = [dosing_ma['200'], mineral_ma['200'], glucose_ma['200']]\n",
    "frac_100 = [dosing_ma['100'], mineral_ma['100'], glucose_ma['100']]\n",
    "frac_avg = [(frac_200[pump] + frac_100[pump])/2 for pump,_ in enumerate(frac_200)]\n",
    "\n",
    "mas = [dosing_ma['Signal Output (mA)'], mineral_ma['Signal Output (mA)'], glucose_ma['Signal Output (mA)']]"
   ]
  },
  {
   "cell_type": "code",
   "execution_count": 10,
   "metadata": {},
   "outputs": [],
   "source": [
    "# Names and line types for the different plot series\n",
    "YNAMES = [\"Dosing Pump\", \"Mineral Pump\", \"Glucose Pump\", \"Dosing Pump fit\", \"Mineral Pump fit\", \"Glucose Pump fit\",]\n",
    "LINETYPES = [\"c:\", \"b-.\", \"r--\",\"c.\", \"bo\", \"r2\"]\n",
    "\n",
    "aspect_ratio = 4 / 5\n",
    "FULLSIZE = 5, 5 * aspect_ratio\n",
    "HALFSIZE = 3, 3 * aspect_ratio\n",
    "\n",
    "xlabel = \"RPM\"\n",
    "ylabel = \"Flowrate (ml/s)\""
   ]
  },
  {
   "cell_type": "code",
   "execution_count": 11,
   "metadata": {},
   "outputs": [],
   "source": [
    "order = 1\n",
    "\n",
    "rates_rpm_flow = [(numpy.polyfit(rpms[pump], vols[pump],order)) for pump,_ in enumerate(vols)]"
   ]
  },
  {
   "cell_type": "code",
   "execution_count": 12,
   "metadata": {},
   "outputs": [],
   "source": [
    "rpm_predictions = numpy.linspace(0,200,10)"
   ]
  },
  {
   "cell_type": "code",
   "execution_count": 13,
   "metadata": {},
   "outputs": [],
   "source": [
    "rpm_flow_fitlines = [rates_rpm_flow[pump][0]*rpm_predictions + rates_rpm_flow[pump][1] for pump,_ in enumerate(vols)]\n",
    "\n",
    "for vol_pred in rpm_flow_fitlines:\n",
    "    rpms.append(rpm_predictions)\n",
    "    vols.append(vol_pred)"
   ]
  },
  {
   "cell_type": "code",
   "execution_count": 14,
   "metadata": {},
   "outputs": [
    {
     "data": {
      "image/png": "[encoded data removed]",
      "text/plain": [
       "<Figure size 360x288 with 1 Axes>"
      ]
     },
     "metadata": {
      "needs_background": "light"
     },
     "output_type": "display_data"
    }
   ],
   "source": [
    "plotfigure(rpms, vols, YNAMES, LINETYPES, xlabel, ylabel, figsize=FULLSIZE, filename=str(datadir)+\"/RPM to Flowrate.pdf\")"
   ]
  },
  {
   "cell_type": "code",
   "execution_count": 15,
   "metadata": {},
   "outputs": [],
   "source": [
    "# Names and line types for the different plot series\n",
    "YNAMES = [\"Dosing Pump\", \"Mineral Pump\", \"Glucose Pump\", \"Dosing Pump fit\", \"Mineral Pump fit\", \"Glucose Pump fit\",]\n",
    "LINETYPES = [\"c-\", \"b-.\", \"r--\",\"c.\", \"bo\", \"r2\"]\n",
    "\n",
    "aspect_ratio = 4 / 5\n",
    "FULLSIZE = 5, 5 * aspect_ratio\n",
    "HALFSIZE = 3, 3 * aspect_ratio\n",
    "\n",
    "xlabel = \"Control Signal (mA)\"\n",
    "ylabel = \"RPM Fraction\""
   ]
  },
  {
   "cell_type": "code",
   "execution_count": 16,
   "metadata": {},
   "outputs": [],
   "source": [
    "order = 1\n",
    "\n",
    "rates_mas_rpm = [(numpy.polyfit(mas[pump], frac_avg[pump],order)) for pump,_ in enumerate(mas)]"
   ]
  },
  {
   "cell_type": "code",
   "execution_count": 17,
   "metadata": {},
   "outputs": [],
   "source": [
    "mas_predictions = numpy.linspace(0,0.02,10)"
   ]
  },
  {
   "cell_type": "code",
   "execution_count": 18,
   "metadata": {},
   "outputs": [],
   "source": [
    "mas_rpm_fitlines = [rates_mas_rpm[pump][0]*mas_predictions + rates_mas_rpm[pump][1] for pump,_ in enumerate(mas)]\n",
    "\n",
    "for frac_pred in mas_rpm_fitlines:\n",
    "    mas.append(mas_predictions)\n",
    "    frac_avg.append(frac_pred)"
   ]
  },
  {
   "cell_type": "code",
   "execution_count": 19,
   "metadata": {},
   "outputs": [
    {
     "data": {
      "image/png": "[encoded data removed]",
      "text/plain": [
       "<Figure size 360x288 with 1 Axes>"
      ]
     },
     "metadata": {
      "needs_background": "light"
     },
     "output_type": "display_data"
    }
   ],
   "source": [
    "plotfigure(mas, frac_avg, YNAMES, LINETYPES, xlabel, ylabel, figsize=FULLSIZE, filename=str(datadir)+\"/CS to RPM.pdf\")"
   ]
  },
  {
   "cell_type": "code",
   "execution_count": 20,
   "metadata": {},
   "outputs": [
    {
     "name": "stdout",
     "output_type": "stream",
     "text": [
      "Flowrate Output Dosing Pump = 0.000845 RPM + 0.00013\n",
      "Flowrate Output Mineral Pump = 0.000375 RPM + -1.5e-05\n",
      "Flowrate Output Glucose Pump = 0.000287 RPM + 0.000435\n"
     ]
    }
   ],
   "source": [
    "for pump,rate_pair in zip(YNAMES, rates_rpm_flow):\n",
    "    print (\"Flowrate Output {} = {} RPM + {}\".format( pump, round(rate_pair[0],6), round(rate_pair[1],6)))"
   ]
  },
  {
   "cell_type": "code",
   "execution_count": 23,
   "metadata": {},
   "outputs": [
    {
     "name": "stdout",
     "output_type": "stream",
     "text": [
      "RPM Output Dosing Pump = ( 62.609045 mA CS + -0.255281 ) x RPM Max Dosing Pump\n",
      "RPM Output Mineral Pump = ( 48.131494 mA CS + -0.001458 ) x RPM Max Mineral Pump\n",
      "RPM Output Glucose Pump = ( 62.821078 mA CS + -0.25425 ) x RPM Max Glucose Pump\n"
     ]
    }
   ],
   "source": [
    "for pump,rate_pair in zip(YNAMES, rates_mas_rpm):\n",
    "    print (\"RPM Output {} = ( {} mA CS + {} ) x RPM Max {}\".format( pump, round(rate_pair[0],6), round(rate_pair[1],6), pump))"
   ]
  },
  {
   "cell_type": "code",
   "execution_count": 24,
   "metadata": {},
   "outputs": [
    {
     "name": "stdout",
     "output_type": "stream",
     "text": [
      "Flowrate Output Dosing Pump = 0.000845 x ( 62.609045 mA CS + -0.255281 ) x RPM Max Dosing Pump  + 0.00013\n",
      "Flowrate Output Mineral Pump = 0.000375 x ( 48.131494 mA CS + -0.001458 ) x RPM Max Mineral Pump  + -1.5e-05\n",
      "Flowrate Output Glucose Pump = 0.000287 x ( 62.821078 mA CS + -0.25425 ) x RPM Max Glucose Pump  + 0.000435\n"
     ]
    }
   ],
   "source": [
    "for pump,rate_pair_rpm, rate_pair_ma in zip(YNAMES, rates_rpm_flow, rates_mas_rpm):\n",
    "    print (\"Flowrate Output {} = {} x ( {} mA CS + {} ) x RPM Max {}  + {}\".format( pump, \n",
    "                                                                                  round(rate_pair_rpm[0],6), \n",
    "                                                                                  round(rate_pair_ma[0],6), \n",
    "                                                                                  round(rate_pair_ma[1],6), \n",
    "                                                                                  pump, \n",
    "                                                                                  round(rate_pair_rpm[1],6)))"
   ]
  },
  {
   "cell_type": "code",
   "execution_count": null,
   "metadata": {},
   "outputs": [],
   "source": []
  }
 ],
 "metadata": {
  "kernelspec": {
   "display_name": "Python 3",
   "language": "python",
   "name": "python3"
  },
  "language_info": {
   "codemirror_mode": {
    "name": "ipython",
    "version": 3
   },
   "file_extension": ".py",
   "mimetype": "text/x-python",
   "name": "python",
   "nbconvert_exporter": "python",
   "pygments_lexer": "ipython3",
   "version": "3.7.4"
  }
 },
 "nbformat": 4,
 "nbformat_minor": 2
}
