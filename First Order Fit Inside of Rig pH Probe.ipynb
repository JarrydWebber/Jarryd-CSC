{
 "cells": [
  {
   "cell_type": "code",
   "execution_count": 1,
   "metadata": {},
   "outputs": [],
   "source": [
    "import pandas\n",
    "import pathlib\n",
    "from matplotlib import pyplot as plt\n",
    "from config import datadir\n",
    "\n",
    "import scipy.optimize\n",
    "import numpy\n",
    "from tbcontrol.responses import fopdt, sopdt"
   ]
  },
  {
   "cell_type": "code",
   "execution_count": 2,
   "metadata": {},
   "outputs": [
    {
     "data": {
      "text/html": [
       "<div>\n",
       "<style scoped>\n",
       "    .dataframe tbody tr th:only-of-type {\n",
       "        vertical-align: middle;\n",
       "    }\n",
       "\n",
       "    .dataframe tbody tr th {\n",
       "        vertical-align: top;\n",
       "    }\n",
       "\n",
       "    .dataframe thead th {\n",
       "        text-align: right;\n",
       "    }\n",
       "</style>\n",
       "<table border=\"1\" class=\"dataframe\">\n",
       "  <thead>\n",
       "    <tr style=\"text-align: right;\">\n",
       "      <th></th>\n",
       "      <th>End Date</th>\n",
       "      <th>Equipment</th>\n",
       "      <th>Type</th>\n",
       "      <th>Purpose</th>\n",
       "      <th>Filename</th>\n",
       "      <th>Run</th>\n",
       "      <th>Description</th>\n",
       "    </tr>\n",
       "    <tr>\n",
       "      <th>Start Date</th>\n",
       "      <th></th>\n",
       "      <th></th>\n",
       "      <th></th>\n",
       "      <th></th>\n",
       "      <th></th>\n",
       "      <th></th>\n",
       "      <th></th>\n",
       "    </tr>\n",
       "  </thead>\n",
       "  <tbody>\n",
       "    <tr>\n",
       "      <td>2019-12-06</td>\n",
       "      <td>2019-12-11</td>\n",
       "      <td>pH Probe</td>\n",
       "      <td>Raw</td>\n",
       "      <td>Test Drift on pH probe</td>\n",
       "      <td>20191206 pH Drift 1.txt</td>\n",
       "      <td>1</td>\n",
       "      <td>long run of pH probe drift, performed inside t...</td>\n",
       "    </tr>\n",
       "    <tr>\n",
       "      <td>2019-12-11</td>\n",
       "      <td>2019-12-17</td>\n",
       "      <td>pH Probe</td>\n",
       "      <td>Raw</td>\n",
       "      <td>Test Drift on pH probe</td>\n",
       "      <td>20191211 pH Drift 2.txt</td>\n",
       "      <td>2</td>\n",
       "      <td>long run of pH probe drift, performed inside t...</td>\n",
       "    </tr>\n",
       "    <tr>\n",
       "      <td>2019-12-17</td>\n",
       "      <td>2019-12-23</td>\n",
       "      <td>pH Probe</td>\n",
       "      <td>Raw</td>\n",
       "      <td>Test Drift on pH probe</td>\n",
       "      <td>20191217 pH Drift 3.txt</td>\n",
       "      <td>3</td>\n",
       "      <td>long run of pH probe Drift, circulating ph7 bu...</td>\n",
       "    </tr>\n",
       "    <tr>\n",
       "      <td>2020-01-16</td>\n",
       "      <td>2020-01-16</td>\n",
       "      <td>pH Probe</td>\n",
       "      <td>Raw</td>\n",
       "      <td>Step Test</td>\n",
       "      <td>20200116 pH Step 3.txt</td>\n",
       "      <td>3</td>\n",
       "      <td>pH stepped outside of rig</td>\n",
       "    </tr>\n",
       "    <tr>\n",
       "      <td>2020-01-14</td>\n",
       "      <td>2020-01-14</td>\n",
       "      <td>pH Probe</td>\n",
       "      <td>Raw</td>\n",
       "      <td>Step Test</td>\n",
       "      <td>20200114 pH Step 1.broken</td>\n",
       "      <td>1</td>\n",
       "      <td>pH stepped outside of rig. Probe Broke, Dump run</td>\n",
       "    </tr>\n",
       "    <tr>\n",
       "      <td>2020-01-15</td>\n",
       "      <td>2020-01-15</td>\n",
       "      <td>pH Probe</td>\n",
       "      <td>Raw</td>\n",
       "      <td>Step Test</td>\n",
       "      <td>20200115 pH Step 2.txt</td>\n",
       "      <td>2</td>\n",
       "      <td>pH stepped outside of rig</td>\n",
       "    </tr>\n",
       "    <tr>\n",
       "      <td>2020-01-01</td>\n",
       "      <td>2020-01-01</td>\n",
       "      <td>Pumps</td>\n",
       "      <td>Calibration</td>\n",
       "      <td>Calibration</td>\n",
       "      <td>Pump Calibration.xlsx</td>\n",
       "      <td>1</td>\n",
       "      <td>Calibration data for all pumps</td>\n",
       "    </tr>\n",
       "    <tr>\n",
       "      <td>2019-12-06</td>\n",
       "      <td>2019-12-11</td>\n",
       "      <td>pH Probe</td>\n",
       "      <td>Drift</td>\n",
       "      <td>Test Drift on pH probe</td>\n",
       "      <td>20191206 pH Drift 1.csv</td>\n",
       "      <td>1</td>\n",
       "      <td>long run of pH probe drift, performed inside t...</td>\n",
       "    </tr>\n",
       "    <tr>\n",
       "      <td>2019-12-11</td>\n",
       "      <td>2019-12-17</td>\n",
       "      <td>pH Probe</td>\n",
       "      <td>Drift</td>\n",
       "      <td>Test Drift on pH probe</td>\n",
       "      <td>20191211 pH Drift 2.csv</td>\n",
       "      <td>2</td>\n",
       "      <td>long run of pH probe drift, performed inside t...</td>\n",
       "    </tr>\n",
       "    <tr>\n",
       "      <td>2019-12-17</td>\n",
       "      <td>2019-12-23</td>\n",
       "      <td>pH Probe</td>\n",
       "      <td>Drift</td>\n",
       "      <td>Test Drift on pH probe</td>\n",
       "      <td>20191217 pH Drift 3.csv</td>\n",
       "      <td>3</td>\n",
       "      <td>long run of pH probe Drift, circulating ph7 bu...</td>\n",
       "    </tr>\n",
       "    <tr>\n",
       "      <td>2020-01-16</td>\n",
       "      <td>2020-01-16</td>\n",
       "      <td>pH Probe</td>\n",
       "      <td>Step Test</td>\n",
       "      <td>Step Test</td>\n",
       "      <td>20200116 pH Step 3.csv</td>\n",
       "      <td>3</td>\n",
       "      <td>pH stepped inside rig</td>\n",
       "    </tr>\n",
       "    <tr>\n",
       "      <td>2020-01-15</td>\n",
       "      <td>2020-01-15</td>\n",
       "      <td>pH Probe</td>\n",
       "      <td>Step Test</td>\n",
       "      <td>Step Test</td>\n",
       "      <td>20200115 pH Step 2.csv</td>\n",
       "      <td>2</td>\n",
       "      <td>pH stepped outside of rig</td>\n",
       "    </tr>\n",
       "  </tbody>\n",
       "</table>\n",
       "</div>"
      ],
      "text/plain": [
       "             End Date Equipment         Type                 Purpose  \\\n",
       "Start Date                                                             \n",
       "2019-12-06 2019-12-11  pH Probe          Raw  Test Drift on pH probe   \n",
       "2019-12-11 2019-12-17  pH Probe          Raw  Test Drift on pH probe   \n",
       "2019-12-17 2019-12-23  pH Probe          Raw  Test Drift on pH probe   \n",
       "2020-01-16 2020-01-16  pH Probe          Raw               Step Test   \n",
       "2020-01-14 2020-01-14  pH Probe          Raw               Step Test   \n",
       "2020-01-15 2020-01-15  pH Probe          Raw               Step Test   \n",
       "2020-01-01 2020-01-01     Pumps  Calibration             Calibration   \n",
       "2019-12-06 2019-12-11  pH Probe        Drift  Test Drift on pH probe   \n",
       "2019-12-11 2019-12-17  pH Probe        Drift  Test Drift on pH probe   \n",
       "2019-12-17 2019-12-23  pH Probe        Drift  Test Drift on pH probe   \n",
       "2020-01-16 2020-01-16  pH Probe    Step Test               Step Test   \n",
       "2020-01-15 2020-01-15  pH Probe    Step Test               Step Test   \n",
       "\n",
       "                             Filename  Run  \\\n",
       "Start Date                                   \n",
       "2019-12-06    20191206 pH Drift 1.txt    1   \n",
       "2019-12-11    20191211 pH Drift 2.txt    2   \n",
       "2019-12-17    20191217 pH Drift 3.txt    3   \n",
       "2020-01-16     20200116 pH Step 3.txt    3   \n",
       "2020-01-14  20200114 pH Step 1.broken    1   \n",
       "2020-01-15     20200115 pH Step 2.txt    2   \n",
       "2020-01-01      Pump Calibration.xlsx    1   \n",
       "2019-12-06    20191206 pH Drift 1.csv    1   \n",
       "2019-12-11    20191211 pH Drift 2.csv    2   \n",
       "2019-12-17    20191217 pH Drift 3.csv    3   \n",
       "2020-01-16     20200116 pH Step 3.csv    3   \n",
       "2020-01-15     20200115 pH Step 2.csv    2   \n",
       "\n",
       "                                                  Description  \n",
       "Start Date                                                     \n",
       "2019-12-06  long run of pH probe drift, performed inside t...  \n",
       "2019-12-11  long run of pH probe drift, performed inside t...  \n",
       "2019-12-17  long run of pH probe Drift, circulating ph7 bu...  \n",
       "2020-01-16                          pH stepped outside of rig  \n",
       "2020-01-14   pH stepped outside of rig. Probe Broke, Dump run  \n",
       "2020-01-15                          pH stepped outside of rig  \n",
       "2020-01-01                     Calibration data for all pumps  \n",
       "2019-12-06  long run of pH probe drift, performed inside t...  \n",
       "2019-12-11  long run of pH probe drift, performed inside t...  \n",
       "2019-12-17  long run of pH probe Drift, circulating ph7 bu...  \n",
       "2020-01-16                              pH stepped inside rig  \n",
       "2020-01-15                          pH stepped outside of rig  "
      ]
     },
     "execution_count": 2,
     "metadata": {},
     "output_type": "execute_result"
    }
   ],
   "source": [
    "excel_directory = pandas.read_excel(datadir/'Data Description.xlsx', parse_dates=True, index_col='Start Date') #Loads complete excel directory used to organise datasets\n",
    "excel_directory"
   ]
  },
  {
   "cell_type": "code",
   "execution_count": 3,
   "metadata": {},
   "outputs": [],
   "source": [
    "steps = excel_directory[(excel_directory['Type']=='Step Test')]    # Creates a new directory of only the raw data files to be cleaned \n",
    "                                                            # Use '&' for multiple conditions"
   ]
  },
  {
   "cell_type": "code",
   "execution_count": 4,
   "metadata": {},
   "outputs": [
    {
     "data": {
      "text/html": [
       "<div>\n",
       "<style scoped>\n",
       "    .dataframe tbody tr th:only-of-type {\n",
       "        vertical-align: middle;\n",
       "    }\n",
       "\n",
       "    .dataframe tbody tr th {\n",
       "        vertical-align: top;\n",
       "    }\n",
       "\n",
       "    .dataframe thead th {\n",
       "        text-align: right;\n",
       "    }\n",
       "</style>\n",
       "<table border=\"1\" class=\"dataframe\">\n",
       "  <thead>\n",
       "    <tr style=\"text-align: right;\">\n",
       "      <th></th>\n",
       "      <th>DateTime</th>\n",
       "      <th>Temp</th>\n",
       "      <th>pH</th>\n",
       "      <th>Boolean Dosing Pump</th>\n",
       "      <th>Gas Analyser CO2</th>\n",
       "      <th>Gas Analyser O2</th>\n",
       "      <th>Air Feed Rate</th>\n",
       "      <th>Feed Rpm</th>\n",
       "      <th>Dosing Rpm</th>\n",
       "      <th>Dosing average?</th>\n",
       "    </tr>\n",
       "  </thead>\n",
       "  <tbody>\n",
       "    <tr>\n",
       "      <td>0</td>\n",
       "      <td>2020-01-16 13:28:52</td>\n",
       "      <td>294.924721</td>\n",
       "      <td>10.786179</td>\n",
       "      <td>1.0</td>\n",
       "      <td>-0.133883</td>\n",
       "      <td>20.509568</td>\n",
       "      <td>-0.579654</td>\n",
       "      <td>-0.267328</td>\n",
       "      <td>0.0</td>\n",
       "      <td>0.0</td>\n",
       "    </tr>\n",
       "    <tr>\n",
       "      <td>1</td>\n",
       "      <td>2020-01-16 13:28:53</td>\n",
       "      <td>294.942778</td>\n",
       "      <td>10.774530</td>\n",
       "      <td>1.0</td>\n",
       "      <td>-0.133290</td>\n",
       "      <td>20.505333</td>\n",
       "      <td>-0.580144</td>\n",
       "      <td>-0.263963</td>\n",
       "      <td>0.0</td>\n",
       "      <td>0.0</td>\n",
       "    </tr>\n",
       "    <tr>\n",
       "      <td>2</td>\n",
       "      <td>2020-01-16 13:28:54</td>\n",
       "      <td>294.973138</td>\n",
       "      <td>10.764867</td>\n",
       "      <td>1.0</td>\n",
       "      <td>-0.133203</td>\n",
       "      <td>20.509129</td>\n",
       "      <td>-0.579182</td>\n",
       "      <td>-0.284502</td>\n",
       "      <td>0.0</td>\n",
       "      <td>0.0</td>\n",
       "    </tr>\n",
       "    <tr>\n",
       "      <td>3</td>\n",
       "      <td>2020-01-16 13:28:55</td>\n",
       "      <td>295.034812</td>\n",
       "      <td>10.749010</td>\n",
       "      <td>1.0</td>\n",
       "      <td>-0.131788</td>\n",
       "      <td>20.513904</td>\n",
       "      <td>-0.579827</td>\n",
       "      <td>-0.325899</td>\n",
       "      <td>0.0</td>\n",
       "      <td>0.0</td>\n",
       "    </tr>\n",
       "    <tr>\n",
       "      <td>4</td>\n",
       "      <td>2020-01-16 13:28:56</td>\n",
       "      <td>295.084546</td>\n",
       "      <td>10.713271</td>\n",
       "      <td>1.0</td>\n",
       "      <td>-0.129265</td>\n",
       "      <td>20.510627</td>\n",
       "      <td>-0.582379</td>\n",
       "      <td>-0.342145</td>\n",
       "      <td>0.0</td>\n",
       "      <td>0.0</td>\n",
       "    </tr>\n",
       "    <tr>\n",
       "      <td>...</td>\n",
       "      <td>...</td>\n",
       "      <td>...</td>\n",
       "      <td>...</td>\n",
       "      <td>...</td>\n",
       "      <td>...</td>\n",
       "      <td>...</td>\n",
       "      <td>...</td>\n",
       "      <td>...</td>\n",
       "      <td>...</td>\n",
       "      <td>...</td>\n",
       "    </tr>\n",
       "    <tr>\n",
       "      <td>334796</td>\n",
       "      <td>2020-01-20 10:33:14</td>\n",
       "      <td>308.015229</td>\n",
       "      <td>8.382012</td>\n",
       "      <td>1.0</td>\n",
       "      <td>-0.145122</td>\n",
       "      <td>20.465213</td>\n",
       "      <td>-0.596105</td>\n",
       "      <td>-0.344398</td>\n",
       "      <td>0.0</td>\n",
       "      <td>0.0</td>\n",
       "    </tr>\n",
       "    <tr>\n",
       "      <td>334797</td>\n",
       "      <td>2020-01-20 10:33:15</td>\n",
       "      <td>308.015347</td>\n",
       "      <td>8.380403</td>\n",
       "      <td>1.0</td>\n",
       "      <td>-0.148401</td>\n",
       "      <td>20.465034</td>\n",
       "      <td>-0.595938</td>\n",
       "      <td>-0.303398</td>\n",
       "      <td>0.0</td>\n",
       "      <td>0.0</td>\n",
       "    </tr>\n",
       "    <tr>\n",
       "      <td>334798</td>\n",
       "      <td>2020-01-20 10:33:16</td>\n",
       "      <td>308.015760</td>\n",
       "      <td>8.380699</td>\n",
       "      <td>1.0</td>\n",
       "      <td>-0.147942</td>\n",
       "      <td>20.468310</td>\n",
       "      <td>-0.611222</td>\n",
       "      <td>-0.270270</td>\n",
       "      <td>0.0</td>\n",
       "      <td>0.0</td>\n",
       "    </tr>\n",
       "    <tr>\n",
       "      <td>334799</td>\n",
       "      <td>2020-01-20 10:33:17</td>\n",
       "      <td>308.015367</td>\n",
       "      <td>8.380578</td>\n",
       "      <td>1.0</td>\n",
       "      <td>-0.148446</td>\n",
       "      <td>20.467052</td>\n",
       "      <td>-0.611589</td>\n",
       "      <td>-0.345325</td>\n",
       "      <td>0.0</td>\n",
       "      <td>0.0</td>\n",
       "    </tr>\n",
       "    <tr>\n",
       "      <td>334800</td>\n",
       "      <td>2020-01-20 10:33:18</td>\n",
       "      <td>308.014835</td>\n",
       "      <td>8.385027</td>\n",
       "      <td>1.0</td>\n",
       "      <td>-0.148294</td>\n",
       "      <td>20.468091</td>\n",
       "      <td>-0.612501</td>\n",
       "      <td>-0.344239</td>\n",
       "      <td>0.0</td>\n",
       "      <td>0.0</td>\n",
       "    </tr>\n",
       "  </tbody>\n",
       "</table>\n",
       "<p>334801 rows × 10 columns</p>\n",
       "</div>"
      ],
      "text/plain": [
       "                   DateTime        Temp         pH  Boolean Dosing Pump  \\\n",
       "0       2020-01-16 13:28:52  294.924721  10.786179                  1.0   \n",
       "1       2020-01-16 13:28:53  294.942778  10.774530                  1.0   \n",
       "2       2020-01-16 13:28:54  294.973138  10.764867                  1.0   \n",
       "3       2020-01-16 13:28:55  295.034812  10.749010                  1.0   \n",
       "4       2020-01-16 13:28:56  295.084546  10.713271                  1.0   \n",
       "...                     ...         ...        ...                  ...   \n",
       "334796  2020-01-20 10:33:14  308.015229   8.382012                  1.0   \n",
       "334797  2020-01-20 10:33:15  308.015347   8.380403                  1.0   \n",
       "334798  2020-01-20 10:33:16  308.015760   8.380699                  1.0   \n",
       "334799  2020-01-20 10:33:17  308.015367   8.380578                  1.0   \n",
       "334800  2020-01-20 10:33:18  308.014835   8.385027                  1.0   \n",
       "\n",
       "        Gas Analyser CO2  Gas Analyser O2  Air Feed Rate  Feed Rpm  \\\n",
       "0              -0.133883        20.509568      -0.579654 -0.267328   \n",
       "1              -0.133290        20.505333      -0.580144 -0.263963   \n",
       "2              -0.133203        20.509129      -0.579182 -0.284502   \n",
       "3              -0.131788        20.513904      -0.579827 -0.325899   \n",
       "4              -0.129265        20.510627      -0.582379 -0.342145   \n",
       "...                  ...              ...            ...       ...   \n",
       "334796         -0.145122        20.465213      -0.596105 -0.344398   \n",
       "334797         -0.148401        20.465034      -0.595938 -0.303398   \n",
       "334798         -0.147942        20.468310      -0.611222 -0.270270   \n",
       "334799         -0.148446        20.467052      -0.611589 -0.345325   \n",
       "334800         -0.148294        20.468091      -0.612501 -0.344239   \n",
       "\n",
       "        Dosing Rpm  Dosing average?  \n",
       "0              0.0              0.0  \n",
       "1              0.0              0.0  \n",
       "2              0.0              0.0  \n",
       "3              0.0              0.0  \n",
       "4              0.0              0.0  \n",
       "...            ...              ...  \n",
       "334796         0.0              0.0  \n",
       "334797         0.0              0.0  \n",
       "334798         0.0              0.0  \n",
       "334799         0.0              0.0  \n",
       "334800         0.0              0.0  \n",
       "\n",
       "[334801 rows x 10 columns]"
      ]
     },
     "execution_count": 4,
     "metadata": {},
     "output_type": "execute_result"
    }
   ],
   "source": [
    "internal_steps = pandas.read_csv(datadir /'20200116 pH Step 3.csv')\n",
    "internal_steps"
   ]
  },
  {
   "cell_type": "code",
   "execution_count": 5,
   "metadata": {},
   "outputs": [
    {
     "data": {
      "text/plain": [
       "<matplotlib.axes._subplots.AxesSubplot at 0x1196a1f0e48>"
      ]
     },
     "execution_count": 5,
     "metadata": {},
     "output_type": "execute_result"
    },
    {
     "data": {
      "image/png": "[encoded data removed]",
      "text/plain": [
       "<Figure size 432x288 with 1 Axes>"
      ]
     },
     "metadata": {
      "needs_background": "light"
     },
     "output_type": "display_data"
    }
   ],
   "source": [
    "internal_steps.plot(y=[\"pH\", \"Dosing Rpm\"])"
   ]
  },
  {
   "cell_type": "code",
   "execution_count": 6,
   "metadata": {},
   "outputs": [
    {
     "data": {
      "text/html": [
       "<div>\n",
       "<style scoped>\n",
       "    .dataframe tbody tr th:only-of-type {\n",
       "        vertical-align: middle;\n",
       "    }\n",
       "\n",
       "    .dataframe tbody tr th {\n",
       "        vertical-align: top;\n",
       "    }\n",
       "\n",
       "    .dataframe thead th {\n",
       "        text-align: right;\n",
       "    }\n",
       "</style>\n",
       "<table border=\"1\" class=\"dataframe\">\n",
       "  <thead>\n",
       "    <tr style=\"text-align: right;\">\n",
       "      <th></th>\n",
       "      <th>DateTime</th>\n",
       "      <th>Temp</th>\n",
       "      <th>pH</th>\n",
       "      <th>Boolean Dosing Pump</th>\n",
       "      <th>Gas Analyser CO2</th>\n",
       "      <th>Gas Analyser O2</th>\n",
       "      <th>Air Feed Rate</th>\n",
       "      <th>Feed Rpm</th>\n",
       "      <th>Dosing Rpm</th>\n",
       "      <th>Dosing average?</th>\n",
       "    </tr>\n",
       "  </thead>\n",
       "  <tbody>\n",
       "    <tr>\n",
       "      <td>1178</td>\n",
       "      <td>2020-01-16 13:48:30</td>\n",
       "      <td>304.557856</td>\n",
       "      <td>8.211083</td>\n",
       "      <td>1.0</td>\n",
       "      <td>-0.122124</td>\n",
       "      <td>20.670185</td>\n",
       "      <td>-0.587941</td>\n",
       "      <td>-0.295501</td>\n",
       "      <td>1.0</td>\n",
       "      <td>0.0</td>\n",
       "    </tr>\n",
       "    <tr>\n",
       "      <td>1179</td>\n",
       "      <td>2020-01-16 13:48:31</td>\n",
       "      <td>304.588619</td>\n",
       "      <td>8.216586</td>\n",
       "      <td>1.0</td>\n",
       "      <td>-0.122379</td>\n",
       "      <td>20.668007</td>\n",
       "      <td>-0.587557</td>\n",
       "      <td>-0.264440</td>\n",
       "      <td>1.0</td>\n",
       "      <td>0.0</td>\n",
       "    </tr>\n",
       "    <tr>\n",
       "      <td>1180</td>\n",
       "      <td>2020-01-16 13:48:32</td>\n",
       "      <td>304.606302</td>\n",
       "      <td>8.216451</td>\n",
       "      <td>1.0</td>\n",
       "      <td>-0.122131</td>\n",
       "      <td>20.668327</td>\n",
       "      <td>-0.596039</td>\n",
       "      <td>-0.264307</td>\n",
       "      <td>1.0</td>\n",
       "      <td>0.0</td>\n",
       "    </tr>\n",
       "    <tr>\n",
       "      <td>1181</td>\n",
       "      <td>2020-01-16 13:48:33</td>\n",
       "      <td>304.630525</td>\n",
       "      <td>8.213782</td>\n",
       "      <td>1.0</td>\n",
       "      <td>-0.121692</td>\n",
       "      <td>20.668526</td>\n",
       "      <td>-0.579626</td>\n",
       "      <td>-0.264970</td>\n",
       "      <td>1.0</td>\n",
       "      <td>0.0</td>\n",
       "    </tr>\n",
       "    <tr>\n",
       "      <td>1182</td>\n",
       "      <td>2020-01-16 13:48:34</td>\n",
       "      <td>304.631302</td>\n",
       "      <td>8.206565</td>\n",
       "      <td>1.0</td>\n",
       "      <td>-0.122514</td>\n",
       "      <td>20.668806</td>\n",
       "      <td>-0.579732</td>\n",
       "      <td>-0.264440</td>\n",
       "      <td>1.0</td>\n",
       "      <td>0.0</td>\n",
       "    </tr>\n",
       "    <tr>\n",
       "      <td>...</td>\n",
       "      <td>...</td>\n",
       "      <td>...</td>\n",
       "      <td>...</td>\n",
       "      <td>...</td>\n",
       "      <td>...</td>\n",
       "      <td>...</td>\n",
       "      <td>...</td>\n",
       "      <td>...</td>\n",
       "      <td>...</td>\n",
       "      <td>...</td>\n",
       "    </tr>\n",
       "    <tr>\n",
       "      <td>92982</td>\n",
       "      <td>2020-01-17 15:23:04</td>\n",
       "      <td>308.340229</td>\n",
       "      <td>8.521620</td>\n",
       "      <td>1.0</td>\n",
       "      <td>-0.123204</td>\n",
       "      <td>20.396903</td>\n",
       "      <td>-0.556424</td>\n",
       "      <td>-0.264705</td>\n",
       "      <td>0.5</td>\n",
       "      <td>0.0</td>\n",
       "    </tr>\n",
       "    <tr>\n",
       "      <td>92983</td>\n",
       "      <td>2020-01-17 15:23:05</td>\n",
       "      <td>308.340966</td>\n",
       "      <td>8.500358</td>\n",
       "      <td>1.0</td>\n",
       "      <td>-0.122210</td>\n",
       "      <td>20.394685</td>\n",
       "      <td>-0.563114</td>\n",
       "      <td>-0.260279</td>\n",
       "      <td>0.5</td>\n",
       "      <td>0.0</td>\n",
       "    </tr>\n",
       "    <tr>\n",
       "      <td>92984</td>\n",
       "      <td>2020-01-17 15:23:06</td>\n",
       "      <td>308.340425</td>\n",
       "      <td>8.487565</td>\n",
       "      <td>1.0</td>\n",
       "      <td>-0.121316</td>\n",
       "      <td>20.398042</td>\n",
       "      <td>-0.562113</td>\n",
       "      <td>-0.264095</td>\n",
       "      <td>0.5</td>\n",
       "      <td>0.0</td>\n",
       "    </tr>\n",
       "    <tr>\n",
       "      <td>92985</td>\n",
       "      <td>2020-01-17 15:23:07</td>\n",
       "      <td>308.339973</td>\n",
       "      <td>8.481872</td>\n",
       "      <td>1.0</td>\n",
       "      <td>-0.117474</td>\n",
       "      <td>20.395445</td>\n",
       "      <td>-0.564416</td>\n",
       "      <td>-0.264784</td>\n",
       "      <td>0.5</td>\n",
       "      <td>0.0</td>\n",
       "    </tr>\n",
       "    <tr>\n",
       "      <td>92986</td>\n",
       "      <td>2020-01-17 15:23:08</td>\n",
       "      <td>308.339619</td>\n",
       "      <td>8.466141</td>\n",
       "      <td>1.0</td>\n",
       "      <td>-0.116994</td>\n",
       "      <td>20.395165</td>\n",
       "      <td>-0.564032</td>\n",
       "      <td>-0.261339</td>\n",
       "      <td>0.5</td>\n",
       "      <td>0.0</td>\n",
       "    </tr>\n",
       "  </tbody>\n",
       "</table>\n",
       "<p>3922 rows × 10 columns</p>\n",
       "</div>"
      ],
      "text/plain": [
       "                  DateTime        Temp        pH  Boolean Dosing Pump  \\\n",
       "1178   2020-01-16 13:48:30  304.557856  8.211083                  1.0   \n",
       "1179   2020-01-16 13:48:31  304.588619  8.216586                  1.0   \n",
       "1180   2020-01-16 13:48:32  304.606302  8.216451                  1.0   \n",
       "1181   2020-01-16 13:48:33  304.630525  8.213782                  1.0   \n",
       "1182   2020-01-16 13:48:34  304.631302  8.206565                  1.0   \n",
       "...                    ...         ...       ...                  ...   \n",
       "92982  2020-01-17 15:23:04  308.340229  8.521620                  1.0   \n",
       "92983  2020-01-17 15:23:05  308.340966  8.500358                  1.0   \n",
       "92984  2020-01-17 15:23:06  308.340425  8.487565                  1.0   \n",
       "92985  2020-01-17 15:23:07  308.339973  8.481872                  1.0   \n",
       "92986  2020-01-17 15:23:08  308.339619  8.466141                  1.0   \n",
       "\n",
       "       Gas Analyser CO2  Gas Analyser O2  Air Feed Rate  Feed Rpm  Dosing Rpm  \\\n",
       "1178          -0.122124        20.670185      -0.587941 -0.295501         1.0   \n",
       "1179          -0.122379        20.668007      -0.587557 -0.264440         1.0   \n",
       "1180          -0.122131        20.668327      -0.596039 -0.264307         1.0   \n",
       "1181          -0.121692        20.668526      -0.579626 -0.264970         1.0   \n",
       "1182          -0.122514        20.668806      -0.579732 -0.264440         1.0   \n",
       "...                 ...              ...            ...       ...         ...   \n",
       "92982         -0.123204        20.396903      -0.556424 -0.264705         0.5   \n",
       "92983         -0.122210        20.394685      -0.563114 -0.260279         0.5   \n",
       "92984         -0.121316        20.398042      -0.562113 -0.264095         0.5   \n",
       "92985         -0.117474        20.395445      -0.564416 -0.264784         0.5   \n",
       "92986         -0.116994        20.395165      -0.564032 -0.261339         0.5   \n",
       "\n",
       "       Dosing average?  \n",
       "1178               0.0  \n",
       "1179               0.0  \n",
       "1180               0.0  \n",
       "1181               0.0  \n",
       "1182               0.0  \n",
       "...                ...  \n",
       "92982              0.0  \n",
       "92983              0.0  \n",
       "92984              0.0  \n",
       "92985              0.0  \n",
       "92986              0.0  \n",
       "\n",
       "[3922 rows x 10 columns]"
      ]
     },
     "execution_count": 6,
     "metadata": {},
     "output_type": "execute_result"
    }
   ],
   "source": [
    "internal_steps[(internal_steps[\"Dosing Rpm\"]!=0)]"
   ]
  },
  {
   "cell_type": "code",
   "execution_count": 7,
   "metadata": {},
   "outputs": [],
   "source": [
    "pump_times = []\n",
    "\n",
    "for index, time in enumerate(internal_steps[(internal_steps[\"Dosing Rpm\"]!=0)].index):\n",
    "#     print(time[-2:])\n",
    "    try:\n",
    "        if (int(time) != (int(internal_steps[(internal_steps[\"Dosing Rpm\"]!=0)].index[index+1])-1) or internal_steps[\"Dosing Rpm\"][time] != internal_steps[\"Dosing Rpm\"][time-1]) and internal_steps[\"Dosing Rpm\"][time]==1:\n",
    "            pump_times.append(time)\n",
    "    except:\n",
    "        pass"
   ]
  },
  {
   "cell_type": "code",
   "execution_count": 8,
   "metadata": {},
   "outputs": [
    {
     "data": {
      "text/plain": [
       "[1178, 1187, 5737, 92730]"
      ]
     },
     "execution_count": 8,
     "metadata": {},
     "output_type": "execute_result"
    }
   ],
   "source": [
    "pump_times"
   ]
  },
  {
   "cell_type": "code",
   "execution_count": 9,
   "metadata": {},
   "outputs": [],
   "source": [
    "span = 20000"
   ]
  },
  {
   "cell_type": "code",
   "execution_count": 10,
   "metadata": {},
   "outputs": [
    {
     "name": "stdout",
     "output_type": "stream",
     "text": [
      "1.0 1178\n",
      "1.0 1187\n",
      "1.0 5737\n",
      "1.0 92730\n"
     ]
    }
   ],
   "source": [
    "pump_spans = []\n",
    "\n",
    "for time in pump_times:\n",
    "    print(internal_steps[\"Dosing Rpm\"][time], time)\n",
    "    pump_spans.append([time, time+span])"
   ]
  },
  {
   "cell_type": "code",
   "execution_count": 11,
   "metadata": {},
   "outputs": [
    {
     "data": {
      "text/plain": [
       "[[1178, 21178], [1187, 21187], [5737, 25737], [92730, 112730]]"
      ]
     },
     "execution_count": 11,
     "metadata": {},
     "output_type": "execute_result"
    }
   ],
   "source": [
    "pump_spans"
   ]
  },
  {
   "cell_type": "code",
   "execution_count": 12,
   "metadata": {},
   "outputs": [
    {
     "name": "stdout",
     "output_type": "stream",
     "text": [
      "[-6.248357133293846e-09, 0.7867783821776625, 4984.669025528263, 7.74631008297181e-09]\n",
      "[-6.250878202407287e-09, 0.7892539721648318, 4975.667255163918, 7.74938689464404e-09]\n",
      "[-7.016696156913227e-09, 1.2707421712013904, 424.67120445123555, 8.829280174470418e-09]\n",
      "[2.023099242693877e-09, 14.04672947257689, 194.44299014093951, 1.9472053342539013e-10]\n"
     ]
    },
    {
     "data": {
      "text/plain": [
       "<Figure size 432x288 with 0 Axes>"
      ]
     },
     "metadata": {},
     "output_type": "display_data"
    },
    {
     "data": {
      "image/png": "[encoded data removed]",
      "text/plain": [
       "<Figure size 432x288 with 1 Axes>"
      ]
     },
     "metadata": {
      "needs_background": "light"
     },
     "output_type": "display_data"
    },
    {
     "data": {
      "text/plain": [
       "<Figure size 432x288 with 0 Axes>"
      ]
     },
     "metadata": {},
     "output_type": "display_data"
    },
    {
     "data": {
      "image/png": "[encoded data removed]",
      "text/plain": [
       "<Figure size 432x288 with 1 Axes>"
      ]
     },
     "metadata": {
      "needs_background": "light"
     },
     "output_type": "display_data"
    },
    {
     "data": {
      "text/plain": [
       "<Figure size 432x288 with 0 Axes>"
      ]
     },
     "metadata": {},
     "output_type": "display_data"
    },
    {
     "data": {
      "image/png": "[encoded data removed]",
      "text/plain": [
       "<Figure size 432x288 with 1 Axes>"
      ]
     },
     "metadata": {
      "needs_background": "light"
     },
     "output_type": "display_data"
    },
    {
     "data": {
      "text/plain": [
       "<Figure size 432x288 with 0 Axes>"
      ]
     },
     "metadata": {},
     "output_type": "display_data"
    },
    {
     "data": {
      "image/png": "[encoded data removed]",
      "text/plain": [
       "<Figure size 432x288 with 1 Axes>"
      ]
     },
     "metadata": {
      "needs_background": "light"
     },
     "output_type": "display_data"
    }
   ],
   "source": [
    "# spans=[[11800,12450],[12250,12750],[12750,13100],[13050,14000],[13600,15000],[15000,17000]]\n",
    "\n",
    "\n",
    "ph_list = []\n",
    "poh_list = []\n",
    "ph_delogged = []\n",
    "poh_delogged = []\n",
    "time_list = []\n",
    "\n",
    "K_list, tau_list, theta_list, y0_list = [], [], [], []\n",
    "\n",
    "for span in pump_spans:\n",
    "    lower = span[0]\n",
    "    upper = span[1]\n",
    "    \n",
    "    time_set = numpy.array(internal_steps['DateTime'][lower:upper].index.tolist())-lower\n",
    "    ph_set = numpy.array(internal_steps['pH'][lower:upper].values)\n",
    "    poh_set = 14 - ph_set\n",
    "    ph_delogged_set = 10**(-ph_set)\n",
    "    poh_delogged_set = 10**(-poh_set)\n",
    "    \n",
    "    dosing_set = numpy.array(internal_steps['Dosing Rpm'][lower:upper].values)\n",
    "    \n",
    "#     print (poh_set)\n",
    "    \n",
    "    time_list.append(time_set)\n",
    "    \n",
    "    ph_list.append(ph_set)\n",
    "    poh_list.append(poh_set)\n",
    "    \n",
    "    ph_delogged.append(ph_delogged_set)\n",
    "    poh_delogged.append(poh_delogged_set)\n",
    "    \n",
    "    [K, tau, theta, y0], _ = scipy.optimize.curve_fit(fopdt, time_set, \n",
    "                                                      ph_delogged_set, [0.004, 4, 200, 50])\n",
    "    \n",
    "    K_list.append(K)\n",
    "    tau_list.append(tau)\n",
    "    theta_list.append(theta)\n",
    "    y0_list.append(y0)\n",
    "    \n",
    "    print([K, tau, theta, y0])\n",
    "    \n",
    "    figure = plt.figure()\n",
    "    \n",
    "    plt.figure()\n",
    "    plt.ylim(-1e-9,max(ph_delogged_set)*1.1)\n",
    "    plt.plot(time_set, ph_delogged_set)\n",
    "    plt.plot(time_set, dosing_set)\n",
    "    plt.plot(fopdt(time_set, K, tau, theta, y0))\n",
    "    \n"
   ]
  },
  {
   "cell_type": "code",
   "execution_count": 13,
   "metadata": {},
   "outputs": [
    {
     "data": {
      "text/plain": [
       "(-6.50531049753812e-09, 0.9489248418479616)"
      ]
     },
     "execution_count": 13,
     "metadata": {},
     "output_type": "execute_result"
    }
   ],
   "source": [
    "K = numpy.average(K_list[:-1])\n",
    "tau = numpy.average(tau_list[:-1])\n",
    "K, tau"
   ]
  },
  {
   "cell_type": "code",
   "execution_count": 14,
   "metadata": {},
   "outputs": [
    {
     "data": {
      "image/png": "[encoded data removed]",
      "text/plain": [
       "<Figure size 432x288 with 1 Axes>"
      ]
     },
     "metadata": {
      "needs_background": "light"
     },
     "output_type": "display_data"
    },
    {
     "data": {
      "image/png": "[encoded data removed]",
      "text/plain": [
       "<Figure size 432x288 with 1 Axes>"
      ]
     },
     "metadata": {
      "needs_background": "light"
     },
     "output_type": "display_data"
    },
    {
     "data": {
      "image/png": "[encoded data removed]",
      "text/plain": [
       "<Figure size 432x288 with 1 Axes>"
      ]
     },
     "metadata": {
      "needs_background": "light"
     },
     "output_type": "display_data"
    },
    {
     "data": {
      "image/png": "[encoded data removed]",
      "text/plain": [
       "<Figure size 432x288 with 1 Axes>"
      ]
     },
     "metadata": {
      "needs_background": "light"
     },
     "output_type": "display_data"
    }
   ],
   "source": [
    "for time_set, ph_delogged_set, theta, y0 in zip(time_list, ph_delogged, theta_list, y0_list):\n",
    "    figure = plt.figure()\n",
    "    \n",
    "    plt.plot(time_set, ph_delogged_set)\n",
    "    plt.plot(fopdt(time_set, K, tau, theta, y0))"
   ]
  },
  {
   "cell_type": "code",
   "execution_count": null,
   "metadata": {},
   "outputs": [],
   "source": []
  },
  {
   "cell_type": "code",
   "execution_count": null,
   "metadata": {},
   "outputs": [],
   "source": []
  },
  {
   "cell_type": "code",
   "execution_count": null,
   "metadata": {},
   "outputs": [],
   "source": []
  },
  {
   "cell_type": "code",
   "execution_count": null,
   "metadata": {},
   "outputs": [],
   "source": []
  },
  {
   "cell_type": "code",
   "execution_count": null,
   "metadata": {},
   "outputs": [],
   "source": []
  }
 ],
 "metadata": {
  "kernelspec": {
   "display_name": "Python 3",
   "language": "python",
   "name": "python3"
  },
  "language_info": {
   "codemirror_mode": {
    "name": "ipython",
    "version": 3
   },
   "file_extension": ".py",
   "mimetype": "text/x-python",
   "name": "python",
   "nbconvert_exporter": "python",
   "pygments_lexer": "ipython3",
   "version": "3.7.4"
  }
 },
 "nbformat": 4,
 "nbformat_minor": 4
}
