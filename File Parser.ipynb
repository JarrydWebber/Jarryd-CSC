{
 "cells": [
  {
   "cell_type": "code",
   "execution_count": 1,
   "metadata": {},
   "outputs": [],
   "source": [
    "import pandas\n",
    "import pathlib\n",
    "import matplotlib\n",
    "from config import datadir"
   ]
  },
  {
   "cell_type": "code",
   "execution_count": 2,
   "metadata": {},
   "outputs": [],
   "source": [
    "excel_directory = pandas.read_excel(datadir/'Data Description.xlsx', parse_dates=True, index_col='Start Date') #Loads complete excel directory used to organise datasets"
   ]
  },
  {
   "cell_type": "code",
   "execution_count": 3,
   "metadata": {},
   "outputs": [],
   "source": [
    "raws = excel_directory[(excel_directory['Type']=='Raw')]    # Creates a new directory of only the raw data files to be cleaned \n",
    "                                                            # Use '&' for multiple conditions"
   ]
  },
  {
   "cell_type": "code",
   "execution_count": 4,
   "metadata": {},
   "outputs": [
    {
     "name": "stdout",
     "output_type": "stream",
     "text": [
      "20191206 pH Drift 1.txt\n",
      "20191211 pH Drift 2.txt\n",
      "20191217 pH Drift 3.txt\n",
      "20200116 pH Step 3.txt\n",
      "20200114 pH Step 1.broken\n",
      "20200115 pH Step 2.txt\n"
     ]
    }
   ],
   "source": [
    "# durations = []\n",
    "\n",
    "for file in raws['Filename']:\n",
    "    print (file)\n",
    "    if file[-3:] == \"txt\":\n",
    "                \n",
    "        new_frame = pandas.read_csv(datadir /file, \n",
    "                                   sep ='\\t',header = None,\n",
    "                                   usecols = [0, 1, 2, 3, 4, 5, 6, 7, 8, 9, 10],\n",
    "                                   names = [\"Date\", \"Time\", \"Temp\", \"pH\", \"Boolean Dosing Pump\", \n",
    "                                            \"Gas Analyser CO2\", \"Gas Analyser O2\", \"Air Feed Rate\", \"Feed Rpm\", \"Dosing Rpm\", \"Dosing average?\"]) #Loads raw file\n",
    "\n",
    "        new_frame['DateTime'] = new_frame['Date'].astype(str) +' '+ new_frame['Time'].astype(str) #Creates datetime Column\n",
    "        \n",
    "        new_frame['DateTime'] = pandas.to_datetime(new_frame['DateTime'], format = r'%Y/%m/%d %I:%M:%S %p') #Formats datetime Column\n",
    "        \n",
    "        new_frame = new_frame.drop(columns=['Date','Time']).set_index('DateTime') #Sets datetime column as index\n",
    "        \n",
    "        new_frame['Temp'] = new_frame['Temp']+273.15 #Converts to kelvin\n",
    "\n",
    "        new_frame.to_csv(datadir /(file[:-3]+\"csv\")) #Saves to default as csv of origional filename\n",
    "        \n",
    "        #         durations.append([new_frame.index[0],new_frame.index[-1]]) #Checks duration of run"
   ]
  },
  {
   "cell_type": "code",
   "execution_count": null,
   "metadata": {},
   "outputs": [],
   "source": []
  },
  {
   "cell_type": "code",
   "execution_count": null,
   "metadata": {},
   "outputs": [],
   "source": []
  },
  {
   "cell_type": "code",
   "execution_count": null,
   "metadata": {},
   "outputs": [],
   "source": []
  },
  {
   "cell_type": "code",
   "execution_count": null,
   "metadata": {},
   "outputs": [],
   "source": []
  }
 ],
 "metadata": {
  "kernelspec": {
   "display_name": "Python 3",
   "language": "python",
   "name": "python3"
  },
  "language_info": {
   "codemirror_mode": {
    "name": "ipython",
    "version": 3
   },
   "file_extension": ".py",
   "mimetype": "text/x-python",
   "name": "python",
   "nbconvert_exporter": "python",
   "pygments_lexer": "ipython3",
   "version": "3.7.4"
  }
 },
 "nbformat": 4,
 "nbformat_minor": 4
}
