{
 "cells": [
  {
   "cell_type": "code",
   "execution_count": 1,
   "metadata": {},
   "outputs": [],
   "source": [
    "import numpy\n",
    "from matplotlib import pyplot as plt"
   ]
  },
  {
   "cell_type": "markdown",
   "metadata": {},
   "source": [
    "Will need to integrate with an euler loop over a custom function to implement tipping"
   ]
  },
  {
   "cell_type": "code",
   "execution_count": 2,
   "metadata": {},
   "outputs": [],
   "source": [
    "def droplet_size(pipe_diameter, surface_tension, g):\n",
    "#     pipe_diameter = 0.001 #m\n",
    "#     surface_tension = 72.75/1000 #N/m water-air at 21.5degC\n",
    "#     g = 9.81 #m/s^2\n",
    "\n",
    "    force_surface_tension = numpy.pi*pipe_diameter*surface_tension\n",
    "\n",
    "    mass_water_drop = force_surface_tension/g\n",
    "    \n",
    "#     print (\"{0}kg or {1}g\".format(mass_water_drop,mass_water_drop*1000))\n",
    "\n",
    "#     Q = 0.001 #l/min flowrate\n",
    "#     rho = 1 #kg/l\n",
    "\n",
    "#     time_droplet = mass_water_drop/rho/Q   #kg / kg/l / l/min\n",
    "#     print (\"{0}min or {1}sec\".format(time_droplet, time_droplet*60))\n",
    "    \n",
    "    return (mass_water_drop)"
   ]
  },
  {
   "cell_type": "code",
   "execution_count": 3,
   "metadata": {},
   "outputs": [],
   "source": [
    "pipe_diameter = 0.001 #m\n",
    "surface_tension = 72.75/1000 #N/m water-air at 21.5degC\n",
    "g = 9.81 #m/s^2"
   ]
  },
  {
   "cell_type": "code",
   "execution_count": 4,
   "metadata": {},
   "outputs": [
    {
     "data": {
      "text/plain": [
       "2.3297743684878434e-05"
      ]
     },
     "execution_count": 4,
     "metadata": {},
     "output_type": "execute_result"
    }
   ],
   "source": [
    "mass_water_drop = droplet_size (pipe_diameter, surface_tension, g)\n",
    "mass_water_drop"
   ]
  },
  {
   "cell_type": "code",
   "execution_count": 5,
   "metadata": {},
   "outputs": [],
   "source": [
    "def droplet(dt, Q, V):\n",
    "    \"\"\"\n",
    "    dt is the time interval of the euler loop\n",
    "    Q is flow rate to droplet with units of time of dt - If dt is 2 seconds, Q must be in L/s\n",
    "    V is previous volume of the droplet at time T-1 in L\n",
    "    \n",
    "    Returns Volume of droplet at T + dt\n",
    "    \"\"\"\n",
    "    V_new = V + Q*dt\n",
    "    return (V_new)"
   ]
  },
  {
   "cell_type": "code",
   "execution_count": 6,
   "metadata": {},
   "outputs": [],
   "source": [
    "def droplet_fall(V_droplet, V_max = mass_water_drop):\n",
    "    \"\"\"\n",
    "    Checks if the volume of the droplet is greater than the maximum allowed.\n",
    "    If the droplet is larger than the maximum, reduced droplet size, and move fluid from droplet to the tank\n",
    "    \n",
    "    Returns the Volume of the Droplet, and the volume moved to the system\n",
    "    \"\"\"\n",
    "    \n",
    "    if V_droplet > V_max:\n",
    "        V_addition = V_max\n",
    "        V_droplet_new = V_droplet - V_max\n",
    "        \n",
    "        return (V_droplet_new, V_addition)\n",
    "    \n",
    "    else:\n",
    "        return (V_droplet, 0)"
   ]
  },
  {
   "cell_type": "code",
   "execution_count": 13,
   "metadata": {},
   "outputs": [],
   "source": [
    "start = 0 #min\n",
    "end = 5 #min\n",
    "steps = end*10000\n",
    "\n",
    "span = numpy.linspace(start,end,steps)\n",
    "\n",
    "dt = (end-start)/steps #min\n",
    "\n",
    "Q = 0.001/60 #L/min\n",
    "\n",
    "V_drop = [0]\n",
    "V_tank = [0]\n",
    "\n",
    "for t in span: #Euler Loop \n",
    "    \n",
    "    drop_V = droplet(dt, Q, V_drop[-1])\n",
    "    \n",
    "    drop_V_new, tank_addition = droplet_fall(drop_V)\n",
    "    \n",
    "    V_drop.append(drop_V_new)\n",
    "    \n",
    "    V_tank.append(V_tank[-1] + tank_addition)\n",
    "\n",
    "span = numpy.append(span, span[-1]+dt)"
   ]
  },
  {
   "cell_type": "code",
   "execution_count": 14,
   "metadata": {},
   "outputs": [
    {
     "data": {
      "text/plain": [
       "[<matplotlib.lines.Line2D at 0x18a9044ef08>]"
      ]
     },
     "execution_count": 14,
     "metadata": {},
     "output_type": "execute_result"
    },
    {
     "data": {
      "image/png": "[encoded data removed]",
      "text/plain": [
       "<Figure size 432x288 with 1 Axes>"
      ]
     },
     "metadata": {
      "needs_background": "light"
     },
     "output_type": "display_data"
    }
   ],
   "source": [
    "plt.plot(span, V_drop)\n",
    "plt.plot(span, V_tank)"
   ]
  },
  {
   "cell_type": "code",
   "execution_count": null,
   "metadata": {},
   "outputs": [],
   "source": []
  },
  {
   "cell_type": "code",
   "execution_count": null,
   "metadata": {},
   "outputs": [],
   "source": []
  }
 ],
 "metadata": {
  "kernelspec": {
   "display_name": "Python 3",
   "language": "python",
   "name": "python3"
  },
  "language_info": {
   "codemirror_mode": {
    "name": "ipython",
    "version": 3
   },
   "file_extension": ".py",
   "mimetype": "text/x-python",
   "name": "python",
   "nbconvert_exporter": "python",
   "pygments_lexer": "ipython3",
   "version": "3.7.4"
  }
 },
 "nbformat": 4,
 "nbformat_minor": 4
}
