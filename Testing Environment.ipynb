{
 "cells": [
  {
   "cell_type": "code",
   "execution_count": 1,
   "metadata": {},
   "outputs": [],
   "source": [
    "import pandas\n",
    "import pathlib\n",
    "from config import datadir\n",
    "import numpy\n",
    "import matplotlib.pyplot as plt\n",
    "from latex_figure import plotfigure\n",
    "import scipy.signal as sig\n",
    "import statsmodels.nonparametric.smoothers_lowess as smoother"
   ]
  },
  {
   "cell_type": "code",
   "execution_count": 2,
   "metadata": {},
   "outputs": [],
   "source": [
    "import pint"
   ]
  },
  {
   "cell_type": "code",
   "execution_count": 3,
   "metadata": {},
   "outputs": [
    {
     "data": {
      "text/html": [
       "<div>\n",
       "<style scoped>\n",
       "    .dataframe tbody tr th:only-of-type {\n",
       "        vertical-align: middle;\n",
       "    }\n",
       "\n",
       "    .dataframe tbody tr th {\n",
       "        vertical-align: top;\n",
       "    }\n",
       "\n",
       "    .dataframe thead th {\n",
       "        text-align: right;\n",
       "    }\n",
       "</style>\n",
       "<table border=\"1\" class=\"dataframe\">\n",
       "  <thead>\n",
       "    <tr style=\"text-align: right;\">\n",
       "      <th></th>\n",
       "      <th>End Date</th>\n",
       "      <th>Equipment</th>\n",
       "      <th>Type</th>\n",
       "      <th>Purpose</th>\n",
       "      <th>Filename</th>\n",
       "      <th>Run</th>\n",
       "      <th>Description</th>\n",
       "    </tr>\n",
       "    <tr>\n",
       "      <th>Start Date</th>\n",
       "      <th></th>\n",
       "      <th></th>\n",
       "      <th></th>\n",
       "      <th></th>\n",
       "      <th></th>\n",
       "      <th></th>\n",
       "      <th></th>\n",
       "    </tr>\n",
       "  </thead>\n",
       "  <tbody>\n",
       "    <tr>\n",
       "      <td>2019-12-06</td>\n",
       "      <td>2019-12-11</td>\n",
       "      <td>pH Probe</td>\n",
       "      <td>Drift</td>\n",
       "      <td>Test Drift on pH probe</td>\n",
       "      <td>20191206 pH Drift 1.txt</td>\n",
       "      <td>1</td>\n",
       "      <td>long run of pH probe drift, performed inside t...</td>\n",
       "    </tr>\n",
       "    <tr>\n",
       "      <td>2019-12-11</td>\n",
       "      <td>2019-12-17</td>\n",
       "      <td>pH Probe</td>\n",
       "      <td>Drift</td>\n",
       "      <td>Test Drift on pH probe</td>\n",
       "      <td>20191211 pH Drift 2.txt</td>\n",
       "      <td>2</td>\n",
       "      <td>long run of pH probe Drift, circulating ph7 bu...</td>\n",
       "    </tr>\n",
       "    <tr>\n",
       "      <td>2019-12-17</td>\n",
       "      <td>2019-12-23</td>\n",
       "      <td>pH Probe</td>\n",
       "      <td>Drift</td>\n",
       "      <td>Test Drift on pH probe</td>\n",
       "      <td>20191217 pH Drift 3.txt</td>\n",
       "      <td>3</td>\n",
       "      <td>long run of pH probe drift, performed inside t...</td>\n",
       "    </tr>\n",
       "    <tr>\n",
       "      <td>2020-01-16</td>\n",
       "      <td>2020-01-16</td>\n",
       "      <td>pH Probe</td>\n",
       "      <td>Step Test</td>\n",
       "      <td>Step Test</td>\n",
       "      <td>20200116 pH Step 3.txt</td>\n",
       "      <td>3</td>\n",
       "      <td>pH stepped outside of rig</td>\n",
       "    </tr>\n",
       "    <tr>\n",
       "      <td>2020-01-14</td>\n",
       "      <td>2020-01-14</td>\n",
       "      <td>pH Probe</td>\n",
       "      <td>Step Test</td>\n",
       "      <td>Step Test</td>\n",
       "      <td>20200116 pH Step 1.txt</td>\n",
       "      <td>1</td>\n",
       "      <td>pH stepped outside of rig. Probe Broke, Dump run</td>\n",
       "    </tr>\n",
       "    <tr>\n",
       "      <td>2020-01-15</td>\n",
       "      <td>2020-01-15</td>\n",
       "      <td>pH Probe</td>\n",
       "      <td>Step Test</td>\n",
       "      <td>Step Test</td>\n",
       "      <td>20200116 pH Step 2.txt</td>\n",
       "      <td>2</td>\n",
       "      <td>pH stepped outside of rig</td>\n",
       "    </tr>\n",
       "  </tbody>\n",
       "</table>\n",
       "</div>"
      ],
      "text/plain": [
       "             End Date Equipment       Type                 Purpose  \\\n",
       "Start Date                                                           \n",
       "2019-12-06 2019-12-11  pH Probe      Drift  Test Drift on pH probe   \n",
       "2019-12-11 2019-12-17  pH Probe      Drift  Test Drift on pH probe   \n",
       "2019-12-17 2019-12-23  pH Probe      Drift  Test Drift on pH probe   \n",
       "2020-01-16 2020-01-16  pH Probe  Step Test               Step Test   \n",
       "2020-01-14 2020-01-14  pH Probe  Step Test               Step Test   \n",
       "2020-01-15 2020-01-15  pH Probe  Step Test               Step Test   \n",
       "\n",
       "                           Filename  Run  \\\n",
       "Start Date                                 \n",
       "2019-12-06  20191206 pH Drift 1.txt    1   \n",
       "2019-12-11  20191211 pH Drift 2.txt    2   \n",
       "2019-12-17  20191217 pH Drift 3.txt    3   \n",
       "2020-01-16   20200116 pH Step 3.txt    3   \n",
       "2020-01-14   20200116 pH Step 1.txt    1   \n",
       "2020-01-15   20200116 pH Step 2.txt    2   \n",
       "\n",
       "                                                  Description  \n",
       "Start Date                                                     \n",
       "2019-12-06  long run of pH probe drift, performed inside t...  \n",
       "2019-12-11  long run of pH probe Drift, circulating ph7 bu...  \n",
       "2019-12-17  long run of pH probe drift, performed inside t...  \n",
       "2020-01-16                          pH stepped outside of rig  \n",
       "2020-01-14   pH stepped outside of rig. Probe Broke, Dump run  \n",
       "2020-01-15                          pH stepped outside of rig  "
      ]
     },
     "execution_count": 3,
     "metadata": {},
     "output_type": "execute_result"
    }
   ],
   "source": [
    "excel_directory = pandas.read_excel(datadir/'Data Description.xlsx', parse_dates=True, index_col='Start Date')\n",
    "excel_directory"
   ]
  },
  {
   "cell_type": "code",
   "execution_count": 4,
   "metadata": {},
   "outputs": [
    {
     "data": {
      "text/html": [
       "<div>\n",
       "<style scoped>\n",
       "    .dataframe tbody tr th:only-of-type {\n",
       "        vertical-align: middle;\n",
       "    }\n",
       "\n",
       "    .dataframe tbody tr th {\n",
       "        vertical-align: top;\n",
       "    }\n",
       "\n",
       "    .dataframe thead th {\n",
       "        text-align: right;\n",
       "    }\n",
       "</style>\n",
       "<table border=\"1\" class=\"dataframe\">\n",
       "  <thead>\n",
       "    <tr style=\"text-align: right;\">\n",
       "      <th></th>\n",
       "      <th>End Date</th>\n",
       "      <th>Equipment</th>\n",
       "      <th>Type</th>\n",
       "      <th>Purpose</th>\n",
       "      <th>Filename</th>\n",
       "      <th>Run</th>\n",
       "      <th>Description</th>\n",
       "    </tr>\n",
       "    <tr>\n",
       "      <th>Start Date</th>\n",
       "      <th></th>\n",
       "      <th></th>\n",
       "      <th></th>\n",
       "      <th></th>\n",
       "      <th></th>\n",
       "      <th></th>\n",
       "      <th></th>\n",
       "    </tr>\n",
       "  </thead>\n",
       "  <tbody>\n",
       "    <tr>\n",
       "      <td>2019-12-06</td>\n",
       "      <td>2019-12-11</td>\n",
       "      <td>pH Probe</td>\n",
       "      <td>Drift</td>\n",
       "      <td>Test Drift on pH probe</td>\n",
       "      <td>20191206 pH Drift 1.txt</td>\n",
       "      <td>1</td>\n",
       "      <td>long run of pH probe drift, performed inside t...</td>\n",
       "    </tr>\n",
       "    <tr>\n",
       "      <td>2019-12-11</td>\n",
       "      <td>2019-12-17</td>\n",
       "      <td>pH Probe</td>\n",
       "      <td>Drift</td>\n",
       "      <td>Test Drift on pH probe</td>\n",
       "      <td>20191211 pH Drift 2.txt</td>\n",
       "      <td>2</td>\n",
       "      <td>long run of pH probe Drift, circulating ph7 bu...</td>\n",
       "    </tr>\n",
       "    <tr>\n",
       "      <td>2019-12-17</td>\n",
       "      <td>2019-12-23</td>\n",
       "      <td>pH Probe</td>\n",
       "      <td>Drift</td>\n",
       "      <td>Test Drift on pH probe</td>\n",
       "      <td>20191217 pH Drift 3.txt</td>\n",
       "      <td>3</td>\n",
       "      <td>long run of pH probe drift, performed inside t...</td>\n",
       "    </tr>\n",
       "  </tbody>\n",
       "</table>\n",
       "</div>"
      ],
      "text/plain": [
       "             End Date Equipment   Type                 Purpose  \\\n",
       "Start Date                                                       \n",
       "2019-12-06 2019-12-11  pH Probe  Drift  Test Drift on pH probe   \n",
       "2019-12-11 2019-12-17  pH Probe  Drift  Test Drift on pH probe   \n",
       "2019-12-17 2019-12-23  pH Probe  Drift  Test Drift on pH probe   \n",
       "\n",
       "                           Filename  Run  \\\n",
       "Start Date                                 \n",
       "2019-12-06  20191206 pH Drift 1.txt    1   \n",
       "2019-12-11  20191211 pH Drift 2.txt    2   \n",
       "2019-12-17  20191217 pH Drift 3.txt    3   \n",
       "\n",
       "                                                  Description  \n",
       "Start Date                                                     \n",
       "2019-12-06  long run of pH probe drift, performed inside t...  \n",
       "2019-12-11  long run of pH probe Drift, circulating ph7 bu...  \n",
       "2019-12-17  long run of pH probe drift, performed inside t...  "
      ]
     },
     "execution_count": 4,
     "metadata": {},
     "output_type": "execute_result"
    }
   ],
   "source": [
    "drifts = excel_directory[(excel_directory['Type']=='Drift')]   #Use '&' for multiple conditions\n",
    "drifts"
   ]
  },
  {
   "cell_type": "code",
   "execution_count": 5,
   "metadata": {},
   "outputs": [],
   "source": [
    "all_drifts_frames =[]\n",
    "durations = []\n",
    "for file in drifts['Filename']:\n",
    "    new_frame = pandas.read_csv(datadir /file, \n",
    "                               sep ='\\t',header = None,\n",
    "                               usecols = [0, 1, 2, 3],\n",
    "                               names = [\"Date\", \"Time\", \"Temp\", \"pH\"])\n",
    "    \n",
    "    durations.append([new_frame.index[0],new_frame.index[-1]])\n",
    "    \n",
    "    new_frame['DateTime'] = new_frame['Date'].astype(str) +' '+ new_frame['Time'].astype(str)\n",
    "    new_frame['DateTime'] = pandas.to_datetime(new_frame['DateTime'], format = r'%Y/%m/%d %I:%M:%S %p')\n",
    "    new_frame = new_frame.drop(columns=['Date','Time']).set_index('DateTime')\n",
    "    \n",
    "    new_frame['Temp'] = new_frame['Temp'].astype('pint[degC]') #Allows setting of units for data types\n",
    "    new_frame['Temp'] = new_frame['Temp'].pint.to('kelvin')\n",
    "    \n",
    "    all_drifts_frames.append(new_frame)\n",
    "        \n",
    "#     print (file)"
   ]
  },
  {
   "cell_type": "code",
   "execution_count": 6,
   "metadata": {},
   "outputs": [],
   "source": [
    "Skip_first = 100000"
   ]
  },
  {
   "cell_type": "code",
   "execution_count": 7,
   "metadata": {},
   "outputs": [],
   "source": [
    "times = []\n",
    "ph = []\n",
    "delta_times = []\n",
    "for frame in all_drifts_frames:\n",
    "    times.append(frame.index[Skip_first:])\n",
    "    ph.append(frame['pH'].values[Skip_first:])\n",
    "    delta_times.append((frame.index[Skip_first:] - frame.index[0]).astype('timedelta64[s]'))\n",
    "    \n",
    "# print (times, ph, delta_times)"
   ]
  },
  {
   "cell_type": "markdown",
   "metadata": {},
   "source": [
    "### Ploting Settings"
   ]
  },
  {
   "cell_type": "code",
   "execution_count": 8,
   "metadata": {},
   "outputs": [],
   "source": [
    "# Names and line types for the different plot series\n",
    "YNAMES = [\"Run 1\", \"Run 2\", \"Run 3\", \"Run 1 Filtered - 1\", \"Run 1 Filtered - 2\"]\n",
    "LINETYPES = [\"k-\", \"b-\", \"g-\", 'y-', 'r-']\n",
    "\n",
    "aspect_ratio = 4 / 5\n",
    "FULLSIZE = 5, 5 * aspect_ratio\n",
    "HALFSIZE = 3, 3 * aspect_ratio\n",
    "\n",
    "xlabel = \"Time since Start /s\"\n",
    "ylabel = \"pH\""
   ]
  },
  {
   "cell_type": "code",
   "execution_count": 9,
   "metadata": {},
   "outputs": [
    {
     "name": "stderr",
     "output_type": "stream",
     "text": [
      "F:\\Varsity\\CSC\\Jarryd CSC\\latex_figure.py:52: UserWarning: Creating legend with loc=\"best\" can be slow with large amounts of data.\n",
      "  plt.tight_layout()\n",
      "F:\\Varsity\\CSC\\Jarryd CSC\\latex_figure.py:61: UserWarning: Creating legend with loc=\"best\" can be slow with large amounts of data.\n",
      "  plt.savefig(filename.format(diff=\"model\"))\n",
      "C:\\ProgramData\\Anaconda3\\lib\\site-packages\\IPython\\core\\pylabtools.py:128: UserWarning: Creating legend with loc=\"best\" can be slow with large amounts of data.\n",
      "  fig.canvas.print_figure(bytes_io, **kw)\n"
     ]
    },
    {
     "data": {
      "image/png": "[encoded data removed]",
      "text/plain": [
       "<Figure size 360x288 with 1 Axes>"
      ]
     },
     "metadata": {
      "needs_background": "light"
     },
     "output_type": "display_data"
    }
   ],
   "source": [
    "plotfigure(delta_times, ph, YNAMES, LINETYPES, xlabel, ylabel, figsize=FULLSIZE, filename=str(datadir)+\"/pH Drifts.pdf\")\n",
    "# plotfigure(times, temps, figsize=HALFSIZE, filename=str(datadir)+\"/samplefigure_halfsize.pdf\")"
   ]
  },
  {
   "cell_type": "code",
   "execution_count": 10,
   "metadata": {},
   "outputs": [],
   "source": [
    "ph_filtered = [sig.savgol_filter(all_drifts_frames[0]['pH'][Skip_first:],100001,3)]\n",
    "time_for_filtered = [all_drifts_frames[0].index[Skip_first:]]"
   ]
  },
  {
   "cell_type": "code",
   "execution_count": 11,
   "metadata": {},
   "outputs": [],
   "source": [
    "frame = all_drifts_frames[0].copy()"
   ]
  },
  {
   "cell_type": "code",
   "execution_count": 12,
   "metadata": {},
   "outputs": [],
   "source": [
    "frame['deltas'] = (frame.index-frame.index[0]).astype('timedelta64[s]')\n",
    "frame['ph_shift'] = frame['pH'].shift(1)"
   ]
  },
  {
   "cell_type": "code",
   "execution_count": 13,
   "metadata": {},
   "outputs": [],
   "source": [
    "allowed_change=0.05\n",
    "cutoff = 7"
   ]
  },
  {
   "cell_type": "code",
   "execution_count": 14,
   "metadata": {},
   "outputs": [],
   "source": [
    "drops = frame['pH'][((frame['pH']-frame['ph_shift'])>allowed_change*frame['ph_shift']) | (frame['pH']>cutoff)].index #(frame['pH']<10) & "
   ]
  },
  {
   "cell_type": "code",
   "execution_count": 15,
   "metadata": {},
   "outputs": [],
   "source": [
    "mask = ~numpy.in1d(frame.index, drops)\n",
    "frame_trimmed = frame.loc[mask, :]"
   ]
  },
  {
   "cell_type": "code",
   "execution_count": 16,
   "metadata": {},
   "outputs": [],
   "source": [
    "ph.append(ph_filtered[0])\n",
    "\n",
    "delta_times.append(delta_times[0])\n",
    "\n",
    "ph.append(frame_trimmed['pH'][Skip_first:])\n",
    "\n",
    "delta_times.append(frame_trimmed['deltas'][Skip_first:])"
   ]
  },
  {
   "cell_type": "code",
   "execution_count": 17,
   "metadata": {},
   "outputs": [
    {
     "name": "stderr",
     "output_type": "stream",
     "text": [
      "F:\\Varsity\\CSC\\Jarryd CSC\\latex_figure.py:52: UserWarning: Creating legend with loc=\"best\" can be slow with large amounts of data.\n",
      "  plt.tight_layout()\n",
      "F:\\Varsity\\CSC\\Jarryd CSC\\latex_figure.py:61: UserWarning: Creating legend with loc=\"best\" can be slow with large amounts of data.\n",
      "  plt.savefig(filename.format(diff=\"model\"))\n",
      "C:\\ProgramData\\Anaconda3\\lib\\site-packages\\IPython\\core\\pylabtools.py:128: UserWarning: Creating legend with loc=\"best\" can be slow with large amounts of data.\n",
      "  fig.canvas.print_figure(bytes_io, **kw)\n"
     ]
    },
    {
     "data": {
      "image/png": "[encoded data removed]",
      "text/plain": [
       "<Figure size 360x288 with 1 Axes>"
      ]
     },
     "metadata": {
      "needs_background": "light"
     },
     "output_type": "display_data"
    }
   ],
   "source": [
    "plotfigure(delta_times, ph, YNAMES, LINETYPES, xlabel, ylabel, figsize=FULLSIZE, filename=str(datadir)+\"/pH Drifts.pdf\")\n",
    "# plotfigure(times, temps, figsize=HALFSIZE, filename=str(datadir)+\"/samplefigure_halfsize.pdf\")"
   ]
  },
  {
   "cell_type": "code",
   "execution_count": null,
   "metadata": {},
   "outputs": [],
   "source": []
  }
 ],
 "metadata": {
  "kernelspec": {
   "display_name": "Python 3",
   "language": "python",
   "name": "python3"
  },
  "language_info": {
   "codemirror_mode": {
    "name": "ipython",
    "version": 3
   },
   "file_extension": ".py",
   "mimetype": "text/x-python",
   "name": "python",
   "nbconvert_exporter": "python",
   "pygments_lexer": "ipython3",
   "version": "3.7.4"
  }
 },
 "nbformat": 4,
 "nbformat_minor": 2
}
