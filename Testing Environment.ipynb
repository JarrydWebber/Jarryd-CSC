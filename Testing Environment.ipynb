{
 "cells": [
  {
   "cell_type": "code",
   "execution_count": null,
   "metadata": {},
   "outputs": [],
   "source": [
    "import pandas\n",
    "import pathlib\n",
    "from config import datadir\n",
    "import numpy\n",
    "import matplotlib.pyplot as plt\n",
    "from latex_figure import plotfigure\n",
    "import scipy.signal as sig\n",
    "import statsmodels.nonparametric.smoothers_lowess as smoother\n",
    "\n",
    "import pint"
   ]
  },
  {
   "cell_type": "code",
   "execution_count": null,
   "metadata": {},
   "outputs": [],
   "source": [
    "excel_directory = pandas.read_excel(datadir/'Data Description.xlsx', parse_dates=True, index_col='Start Date')\n",
    "excel_directory"
   ]
  },
  {
   "cell_type": "code",
   "execution_count": null,
   "metadata": {},
   "outputs": [],
   "source": [
    "drifts = excel_directory[(excel_directory['Type']=='Drift')]   #Use '&' for multiple conditions\n",
    "drifts"
   ]
  },
  {
   "cell_type": "code",
   "execution_count": null,
   "metadata": {},
   "outputs": [],
   "source": [
    "all_drifts_frames =[]\n",
    "durations = []\n",
    "for file in drifts['Filename']:\n",
    "    new_frame = pandas.read_csv(datadir /file, \n",
    "                               sep ='\\t',header = None,\n",
    "                               usecols = [0, 1, 2, 3],\n",
    "                               names = [\"Date\", \"Time\", \"Temp\", \"pH\"])\n",
    "    \n",
    "    durations.append([new_frame.index[0],new_frame.index[-1]])\n",
    "    \n",
    "    new_frame['DateTime'] = new_frame['Date'].astype(str) +' '+ new_frame['Time'].astype(str)\n",
    "    new_frame['DateTime'] = pandas.to_datetime(new_frame['DateTime'], format = r'%Y/%m/%d %I:%M:%S %p')\n",
    "    new_frame = new_frame.drop(columns=['Date','Time']).set_index('DateTime')\n",
    "    \n",
    "    new_frame['Temp'] = new_frame['Temp'].astype('pint[degC]') #Allows setting of units for data types\n",
    "    new_frame['Temp'] = new_frame['Temp'].pint.to('kelvin')\n",
    "    \n",
    "    all_drifts_frames.append(new_frame)\n",
    "        \n",
    "#     print (file)"
   ]
  },
  {
   "cell_type": "code",
   "execution_count": null,
   "metadata": {},
   "outputs": [],
   "source": [
    "Skip_first = 0\n",
    "terminate_at = 400000"
   ]
  },
  {
   "cell_type": "code",
   "execution_count": null,
   "metadata": {},
   "outputs": [],
   "source": [
    "for index,frame in enumerate(all_drifts_frames):\n",
    "    all_drifts_frames[index] = frame[:terminate_at]"
   ]
  },
  {
   "cell_type": "code",
   "execution_count": null,
   "metadata": {},
   "outputs": [],
   "source": [
    "times = []\n",
    "ph = []\n",
    "delta_times = []\n",
    "for frame in all_drifts_frames:\n",
    "    times.append(frame.index[Skip_first:])\n",
    "    ph.append(frame['pH'].values[Skip_first:])\n",
    "    delta_times.append((frame.index[Skip_first:] - frame.index[0]).astype('timedelta64[s]'))\n",
    "    \n",
    "# print (times, ph, delta_times)"
   ]
  },
  {
   "cell_type": "markdown",
   "metadata": {},
   "source": [
    "### Ploting Settings"
   ]
  },
  {
   "cell_type": "code",
   "execution_count": null,
   "metadata": {},
   "outputs": [],
   "source": [
    "# Names and line types for the different plot series\n",
    "YNAMES = [\"Run 1\", \"Run 2\", \"Run 3\", \"Run 1 Filtered - 1\", \"Run 1 Filtered - 2\"]\n",
    "LINETYPES = [\"c*\", \"b-\", \"g--\", 'm-', 'r-']\n",
    "\n",
    "aspect_ratio = 4 / 5\n",
    "FULLSIZE = 5, 5 * aspect_ratio\n",
    "HALFSIZE = 3, 3 * aspect_ratio\n",
    "\n",
    "xlabel = \"Time since Start /s\"\n",
    "ylabel = \"pH\""
   ]
  },
  {
   "cell_type": "code",
   "execution_count": null,
   "metadata": {},
   "outputs": [],
   "source": [
    "plotfigure(delta_times, ph, YNAMES, LINETYPES, xlabel, ylabel, figsize=FULLSIZE, filename=str(datadir)+\"/pH Drifts.pdf\")\n",
    "# plotfigure(times, temps, figsize=HALFSIZE, filename=str(datadir)+\"/samplefigure_halfsize.pdf\")"
   ]
  },
  {
   "cell_type": "code",
   "execution_count": null,
   "metadata": {},
   "outputs": [],
   "source": [
    "ph_filtered = [sig.savgol_filter(all_drifts_frames[0]['pH'][Skip_first:],100001,3)]\n",
    "time_for_filtered = [all_drifts_frames[0].index[Skip_first:]]"
   ]
  },
  {
   "cell_type": "code",
   "execution_count": null,
   "metadata": {},
   "outputs": [],
   "source": [
    "frame = all_drifts_frames[0].copy()\n",
    "\n",
    "frame['deltas'] = (frame.index-frame.index[0]).astype('timedelta64[s]')\n",
    "frame['ph_shift'] = frame['pH'].shift(1)\n",
    "\n",
    "allowed_change=0.05\n",
    "cutoff = 7\n",
    "\n",
    "drops = frame['pH'][((frame['pH']-frame['ph_shift'])>allowed_change*frame['ph_shift']) | (frame['pH']>cutoff)].index #(frame['pH']<10) & \n",
    "\n",
    "mask = ~numpy.in1d(frame.index, drops)\n",
    "frame_trimmed = frame.loc[mask, :]"
   ]
  },
  {
   "cell_type": "code",
   "execution_count": null,
   "metadata": {},
   "outputs": [],
   "source": [
    "ph.append(ph_filtered[0])\n",
    "\n",
    "delta_times.append(delta_times[0])\n",
    "\n",
    "ph.append(frame_trimmed['pH'][Skip_first:])\n",
    "\n",
    "delta_times.append(frame_trimmed['deltas'][Skip_first:])"
   ]
  },
  {
   "cell_type": "code",
   "execution_count": null,
   "metadata": {
    "scrolled": true
   },
   "outputs": [],
   "source": [
    "plotfigure(delta_times, ph, YNAMES, LINETYPES, xlabel, ylabel, figsize=FULLSIZE, filename=str(datadir)+\"/pH Drifts.pdf\")\n",
    "# plotfigure(times, temps, figsize=HALFSIZE, filename=str(datadir)+\"/samplefigure_halfsize.pdf\")"
   ]
  },
  {
   "cell_type": "code",
   "execution_count": null,
   "metadata": {},
   "outputs": [],
   "source": []
  }
 ],
 "metadata": {
  "kernelspec": {
   "display_name": "Python 3",
   "language": "python",
   "name": "python3"
  },
  "language_info": {
   "codemirror_mode": {
    "name": "ipython",
    "version": 3
   },
   "file_extension": ".py",
   "mimetype": "text/x-python",
   "name": "python",
   "nbconvert_exporter": "python",
   "pygments_lexer": "ipython3",
   "version": "3.7.4"
  }
 },
 "nbformat": 4,
 "nbformat_minor": 2
}
