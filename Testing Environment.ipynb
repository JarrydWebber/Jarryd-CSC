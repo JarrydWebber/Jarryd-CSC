{
 "cells": [
  {
   "cell_type": "code",
   "execution_count": 1,
   "metadata": {},
   "outputs": [],
   "source": [
    "import pandas\n",
    "import pathlib\n",
    "from config import datadir\n",
    "import numpy\n",
    "import matplotlib.pyplot as plt"
   ]
  },
  {
   "cell_type": "code",
   "execution_count": 2,
   "metadata": {},
   "outputs": [
    {
     "data": {
      "text/plain": [
       "WindowsPath('C:/Users/jarry/Google Drive/University/CSC411/CSC 2020 Webber J/Data')"
      ]
     },
     "execution_count": 2,
     "metadata": {},
     "output_type": "execute_result"
    }
   ],
   "source": [
    "datadir"
   ]
  },
  {
   "cell_type": "code",
   "execution_count": 3,
   "metadata": {},
   "outputs": [
    {
     "data": {
      "text/html": [
       "<div>\n",
       "<style scoped>\n",
       "    .dataframe tbody tr th:only-of-type {\n",
       "        vertical-align: middle;\n",
       "    }\n",
       "\n",
       "    .dataframe tbody tr th {\n",
       "        vertical-align: top;\n",
       "    }\n",
       "\n",
       "    .dataframe thead th {\n",
       "        text-align: right;\n",
       "    }\n",
       "</style>\n",
       "<table border=\"1\" class=\"dataframe\">\n",
       "  <thead>\n",
       "    <tr style=\"text-align: right;\">\n",
       "      <th></th>\n",
       "      <th>End Date</th>\n",
       "      <th>Equipment</th>\n",
       "      <th>Type</th>\n",
       "      <th>Purpose</th>\n",
       "      <th>Filename</th>\n",
       "      <th>Run</th>\n",
       "      <th>Description</th>\n",
       "    </tr>\n",
       "    <tr>\n",
       "      <th>Start Date</th>\n",
       "      <th></th>\n",
       "      <th></th>\n",
       "      <th></th>\n",
       "      <th></th>\n",
       "      <th></th>\n",
       "      <th></th>\n",
       "      <th></th>\n",
       "    </tr>\n",
       "  </thead>\n",
       "  <tbody>\n",
       "    <tr>\n",
       "      <td>2019-12-06</td>\n",
       "      <td>2019-12-11</td>\n",
       "      <td>pH Probe</td>\n",
       "      <td>Drift</td>\n",
       "      <td>Test Drift on pH probe</td>\n",
       "      <td>20191206 pH Drift 1.txt</td>\n",
       "      <td>1</td>\n",
       "      <td>long run of pH probe drift, performed inside t...</td>\n",
       "    </tr>\n",
       "    <tr>\n",
       "      <td>2019-12-11</td>\n",
       "      <td>2019-12-17</td>\n",
       "      <td>pH Probe</td>\n",
       "      <td>Drift</td>\n",
       "      <td>Test Drift on pH probe</td>\n",
       "      <td>20191211 pH Drift 2.txt</td>\n",
       "      <td>2</td>\n",
       "      <td>long run of pH probe Drift, circulating ph7 bu...</td>\n",
       "    </tr>\n",
       "    <tr>\n",
       "      <td>2019-12-17</td>\n",
       "      <td>2019-12-23</td>\n",
       "      <td>pH Probe</td>\n",
       "      <td>Drift</td>\n",
       "      <td>Test Drift on pH probe</td>\n",
       "      <td>20191217 pH Drift 3.txt</td>\n",
       "      <td>3</td>\n",
       "      <td>long run of pH probe drift, performed inside t...</td>\n",
       "    </tr>\n",
       "    <tr>\n",
       "      <td>2020-01-16</td>\n",
       "      <td>2020-01-16</td>\n",
       "      <td>pH Probe</td>\n",
       "      <td>Step Test</td>\n",
       "      <td>NaN</td>\n",
       "      <td>20200116 pH Step 3.txt</td>\n",
       "      <td>3</td>\n",
       "      <td>pH stepped outside of rig</td>\n",
       "    </tr>\n",
       "    <tr>\n",
       "      <td>2020-01-14</td>\n",
       "      <td>2020-01-14</td>\n",
       "      <td>pH Probe</td>\n",
       "      <td>Step Test</td>\n",
       "      <td>NaN</td>\n",
       "      <td>20200116 pH Step 1.txt</td>\n",
       "      <td>1</td>\n",
       "      <td>pH stepped outside of rig. Probe Broke, Dump run</td>\n",
       "    </tr>\n",
       "    <tr>\n",
       "      <td>2020-01-15</td>\n",
       "      <td>2020-01-15</td>\n",
       "      <td>pH Probe</td>\n",
       "      <td>Step Test</td>\n",
       "      <td>NaN</td>\n",
       "      <td>20200116 pH Step 2.txt</td>\n",
       "      <td>2</td>\n",
       "      <td>pH stepped outside of rig</td>\n",
       "    </tr>\n",
       "  </tbody>\n",
       "</table>\n",
       "</div>"
      ],
      "text/plain": [
       "             End Date Equipment       Type                 Purpose  \\\n",
       "Start Date                                                           \n",
       "2019-12-06 2019-12-11  pH Probe      Drift  Test Drift on pH probe   \n",
       "2019-12-11 2019-12-17  pH Probe      Drift  Test Drift on pH probe   \n",
       "2019-12-17 2019-12-23  pH Probe      Drift  Test Drift on pH probe   \n",
       "2020-01-16 2020-01-16  pH Probe  Step Test                     NaN   \n",
       "2020-01-14 2020-01-14  pH Probe  Step Test                     NaN   \n",
       "2020-01-15 2020-01-15  pH Probe  Step Test                     NaN   \n",
       "\n",
       "                           Filename  Run  \\\n",
       "Start Date                                 \n",
       "2019-12-06  20191206 pH Drift 1.txt    1   \n",
       "2019-12-11  20191211 pH Drift 2.txt    2   \n",
       "2019-12-17  20191217 pH Drift 3.txt    3   \n",
       "2020-01-16   20200116 pH Step 3.txt    3   \n",
       "2020-01-14   20200116 pH Step 1.txt    1   \n",
       "2020-01-15   20200116 pH Step 2.txt    2   \n",
       "\n",
       "                                                  Description  \n",
       "Start Date                                                     \n",
       "2019-12-06  long run of pH probe drift, performed inside t...  \n",
       "2019-12-11  long run of pH probe Drift, circulating ph7 bu...  \n",
       "2019-12-17  long run of pH probe drift, performed inside t...  \n",
       "2020-01-16                          pH stepped outside of rig  \n",
       "2020-01-14   pH stepped outside of rig. Probe Broke, Dump run  \n",
       "2020-01-15                          pH stepped outside of rig  "
      ]
     },
     "execution_count": 3,
     "metadata": {},
     "output_type": "execute_result"
    }
   ],
   "source": [
    "excel_directory = pandas.read_excel(datadir/'Data Description.xlsx', parse_dates=True, index_col='Start Date')\n",
    "excel_directory"
   ]
  },
  {
   "cell_type": "code",
   "execution_count": 76,
   "metadata": {},
   "outputs": [
    {
     "data": {
      "text/html": [
       "<div>\n",
       "<style scoped>\n",
       "    .dataframe tbody tr th:only-of-type {\n",
       "        vertical-align: middle;\n",
       "    }\n",
       "\n",
       "    .dataframe tbody tr th {\n",
       "        vertical-align: top;\n",
       "    }\n",
       "\n",
       "    .dataframe thead th {\n",
       "        text-align: right;\n",
       "    }\n",
       "</style>\n",
       "<table border=\"1\" class=\"dataframe\">\n",
       "  <thead>\n",
       "    <tr style=\"text-align: right;\">\n",
       "      <th></th>\n",
       "      <th>End Date</th>\n",
       "      <th>Equipment</th>\n",
       "      <th>Type</th>\n",
       "      <th>Purpose</th>\n",
       "      <th>Filename</th>\n",
       "      <th>Run</th>\n",
       "      <th>Description</th>\n",
       "    </tr>\n",
       "    <tr>\n",
       "      <th>Start Date</th>\n",
       "      <th></th>\n",
       "      <th></th>\n",
       "      <th></th>\n",
       "      <th></th>\n",
       "      <th></th>\n",
       "      <th></th>\n",
       "      <th></th>\n",
       "    </tr>\n",
       "  </thead>\n",
       "  <tbody>\n",
       "    <tr>\n",
       "      <td>2019-12-06</td>\n",
       "      <td>2019-12-11</td>\n",
       "      <td>pH Probe</td>\n",
       "      <td>Drift</td>\n",
       "      <td>Test Drift on pH probe</td>\n",
       "      <td>20191206 pH Drift 1.txt</td>\n",
       "      <td>1</td>\n",
       "      <td>long run of pH probe drift, performed inside t...</td>\n",
       "    </tr>\n",
       "    <tr>\n",
       "      <td>2019-12-11</td>\n",
       "      <td>2019-12-17</td>\n",
       "      <td>pH Probe</td>\n",
       "      <td>Drift</td>\n",
       "      <td>Test Drift on pH probe</td>\n",
       "      <td>20191211 pH Drift 2.txt</td>\n",
       "      <td>2</td>\n",
       "      <td>long run of pH probe Drift, circulating ph7 bu...</td>\n",
       "    </tr>\n",
       "    <tr>\n",
       "      <td>2019-12-17</td>\n",
       "      <td>2019-12-23</td>\n",
       "      <td>pH Probe</td>\n",
       "      <td>Drift</td>\n",
       "      <td>Test Drift on pH probe</td>\n",
       "      <td>20191217 pH Drift 3.txt</td>\n",
       "      <td>3</td>\n",
       "      <td>long run of pH probe drift, performed inside t...</td>\n",
       "    </tr>\n",
       "  </tbody>\n",
       "</table>\n",
       "</div>"
      ],
      "text/plain": [
       "             End Date Equipment   Type                 Purpose  \\\n",
       "Start Date                                                       \n",
       "2019-12-06 2019-12-11  pH Probe  Drift  Test Drift on pH probe   \n",
       "2019-12-11 2019-12-17  pH Probe  Drift  Test Drift on pH probe   \n",
       "2019-12-17 2019-12-23  pH Probe  Drift  Test Drift on pH probe   \n",
       "\n",
       "                           Filename  Run  \\\n",
       "Start Date                                 \n",
       "2019-12-06  20191206 pH Drift 1.txt    1   \n",
       "2019-12-11  20191211 pH Drift 2.txt    2   \n",
       "2019-12-17  20191217 pH Drift 3.txt    3   \n",
       "\n",
       "                                                  Description  \n",
       "Start Date                                                     \n",
       "2019-12-06  long run of pH probe drift, performed inside t...  \n",
       "2019-12-11  long run of pH probe Drift, circulating ph7 bu...  \n",
       "2019-12-17  long run of pH probe drift, performed inside t...  "
      ]
     },
     "execution_count": 76,
     "metadata": {},
     "output_type": "execute_result"
    }
   ],
   "source": [
    "drifts = excel_directory[excel_directory['Type']=='Drift']\n",
    "drifts"
   ]
  },
  {
   "cell_type": "code",
   "execution_count": 70,
   "metadata": {},
   "outputs": [
    {
     "name": "stdout",
     "output_type": "stream",
     "text": [
      "C:\\Users\\jarry\\Google Drive\\University\\CSC411\\CSC 2020 Webber J\\Data\\20191206 pH Drift 1.txt\n",
      "C:\\Users\\jarry\\Google Drive\\University\\CSC411\\CSC 2020 Webber J\\Data\\20191211 pH Drift 2.txt\n",
      "C:\\Users\\jarry\\Google Drive\\University\\CSC411\\CSC 2020 Webber J\\Data\\20191217 pH Drift 3.txt\n"
     ]
    }
   ],
   "source": [
    "all_drifts_frames =[]\n",
    "durations = []\n",
    "for file in drifts['Filename']:\n",
    "    new_frame = pandas.read_csv(datadir /file, \n",
    "                               sep ='\\t',header = None,\n",
    "                               usecols = [0, 1, 2, 3],\n",
    "                               names = [\"Date\", \"Time\", \"Temp\", \"pH\"],\n",
    "                               parse_dates = [['Date', 'Time']],\n",
    "                               infer_datetime_format = True,\n",
    "                               index_col='Date_Time')\n",
    "    \n",
    "    durations.append([new_frame.index[0],new_frame.index[-1]])\n",
    "    all_drifts_frames.append(new_frame)\n",
    "        \n",
    "    print (datadir /file)"
   ]
  },
  {
   "cell_type": "code",
   "execution_count": 79,
   "metadata": {},
   "outputs": [
    {
     "data": {
      "text/plain": [
       "([[Timestamp('2019-12-06 09:05:27'), Timestamp('2019-12-11 11:48:00')],\n",
       "  [Timestamp('2019-12-11 12:13:30'), Timestamp('2019-12-17 10:01:59')],\n",
       "  [Timestamp('2019-12-17 10:59:24'), Timestamp('2019-12-23 09:52:57')]],\n",
       "                           Temp        pH\n",
       " Date_Time                               \n",
       " 2019-12-06 10:00:00  34.557765  6.741578\n",
       " 2019-12-06 10:00:01  34.558060  6.660625\n",
       " 2019-12-06 10:00:02  34.558414  6.623300\n",
       " 2019-12-06 10:00:03  34.558246  6.646065\n",
       " 2019-12-06 10:00:04  34.557381  6.714695\n",
       " ...                        ...       ...\n",
       " 2019-12-06 11:59:56  36.167234  6.380995\n",
       " 2019-12-06 11:59:57  36.167991  6.355328\n",
       " 2019-12-06 11:59:58  36.168512  6.439562\n",
       " 2019-12-06 11:59:59  36.167745  6.520760\n",
       " 2019-12-06 12:00:00  36.167490  6.494997\n",
       " \n",
       " [7201 rows x 2 columns])"
      ]
     },
     "execution_count": 79,
     "metadata": {},
     "output_type": "execute_result"
    }
   ],
   "source": [
    "durations, all_drifts_frames[0]['2019-12-06 10:00:00':'2019-12-06 12:00:00']"
   ]
  },
  {
   "cell_type": "code",
   "execution_count": 75,
   "metadata": {},
   "outputs": [
    {
     "name": "stdout",
     "output_type": "stream",
     "text": [
      "2019-12-06 09:05:27 2019-12-11 11:48:00\n",
      "2019-12-11 12:13:30 2019-12-17 10:01:59\n",
      "2019-12-17 10:59:24 2019-12-23 09:52:57\n"
     ]
    }
   ],
   "source": [
    "for frame in all_drifts_frames:\n",
    "    print(frame.index[0],frame.index[-1])"
   ]
  },
  {
   "cell_type": "code",
   "execution_count": null,
   "metadata": {},
   "outputs": [],
   "source": []
  }
 ],
 "metadata": {
  "kernelspec": {
   "display_name": "Python 3",
   "language": "python",
   "name": "python3"
  },
  "language_info": {
   "codemirror_mode": {
    "name": "ipython",
    "version": 3
   },
   "file_extension": ".py",
   "mimetype": "text/x-python",
   "name": "python",
   "nbconvert_exporter": "python",
   "pygments_lexer": "ipython3",
   "version": "3.7.4"
  }
 },
 "nbformat": 4,
 "nbformat_minor": 2
}
