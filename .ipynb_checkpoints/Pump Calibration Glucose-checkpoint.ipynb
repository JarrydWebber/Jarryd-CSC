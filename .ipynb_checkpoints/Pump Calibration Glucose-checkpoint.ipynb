{
 "cells": [
  {
   "cell_type": "code",
   "execution_count": 1,
   "metadata": {},
   "outputs": [],
   "source": [
    "import pandas\n",
    "import numpy\n",
    "import scipy\n",
    "from scipy import stats\n",
    "import sympy\n",
    "import matplotlib.pyplot as plot\n",
    "\n",
    "sympy.init_printing() "
   ]
  },
  {
   "cell_type": "markdown",
   "metadata": {},
   "source": [
    "# Mineral Pump"
   ]
  },
  {
   "cell_type": "code",
   "execution_count": 2,
   "metadata": {},
   "outputs": [
    {
     "data": {
      "text/html": [
       "<div>\n",
       "<style scoped>\n",
       "    .dataframe tbody tr th:only-of-type {\n",
       "        vertical-align: middle;\n",
       "    }\n",
       "\n",
       "    .dataframe tbody tr th {\n",
       "        vertical-align: top;\n",
       "    }\n",
       "\n",
       "    .dataframe thead th {\n",
       "        text-align: right;\n",
       "    }\n",
       "</style>\n",
       "<table border=\"1\" class=\"dataframe\">\n",
       "  <thead>\n",
       "    <tr style=\"text-align: right;\">\n",
       "      <th></th>\n",
       "      <th>Rpm</th>\n",
       "      <th>Volume/Time (ml/s)</th>\n",
       "    </tr>\n",
       "  </thead>\n",
       "  <tbody>\n",
       "    <tr>\n",
       "      <td>0</td>\n",
       "      <td>200</td>\n",
       "      <td>0.073631</td>\n",
       "    </tr>\n",
       "    <tr>\n",
       "      <td>1</td>\n",
       "      <td>200</td>\n",
       "      <td>0.076142</td>\n",
       "    </tr>\n",
       "    <tr>\n",
       "      <td>2</td>\n",
       "      <td>150</td>\n",
       "      <td>0.056608</td>\n",
       "    </tr>\n",
       "    <tr>\n",
       "      <td>3</td>\n",
       "      <td>150</td>\n",
       "      <td>0.056415</td>\n",
       "    </tr>\n",
       "    <tr>\n",
       "      <td>4</td>\n",
       "      <td>100</td>\n",
       "      <td>0.037311</td>\n",
       "    </tr>\n",
       "    <tr>\n",
       "      <td>5</td>\n",
       "      <td>100</td>\n",
       "      <td>0.037363</td>\n",
       "    </tr>\n",
       "    <tr>\n",
       "      <td>6</td>\n",
       "      <td>60</td>\n",
       "      <td>0.022495</td>\n",
       "    </tr>\n",
       "    <tr>\n",
       "      <td>7</td>\n",
       "      <td>60</td>\n",
       "      <td>0.022509</td>\n",
       "    </tr>\n",
       "    <tr>\n",
       "      <td>8</td>\n",
       "      <td>40</td>\n",
       "      <td>0.015008</td>\n",
       "    </tr>\n",
       "    <tr>\n",
       "      <td>9</td>\n",
       "      <td>40</td>\n",
       "      <td>0.014987</td>\n",
       "    </tr>\n",
       "  </tbody>\n",
       "</table>\n",
       "</div>"
      ],
      "text/plain": [
       "   Rpm  Volume/Time (ml/s)\n",
       "0  200            0.073631\n",
       "1  200            0.076142\n",
       "2  150            0.056608\n",
       "3  150            0.056415\n",
       "4  100            0.037311\n",
       "5  100            0.037363\n",
       "6   60            0.022495\n",
       "7   60            0.022509\n",
       "8   40            0.015008\n",
       "9   40            0.014987"
      ]
     },
     "execution_count": 2,
     "metadata": {},
     "output_type": "execute_result"
    }
   ],
   "source": [
    "mineral_rpm = pandas.read_excel(\"Pump Calibration.xlsx\", sheet_name = 1, usecols = [\"Rpm\", \"Volume/Time (ml/s)\"], nrows = 10)\n",
    "mineral_rpm"
   ]
  },
  {
   "cell_type": "code",
   "execution_count": 3,
   "metadata": {},
   "outputs": [
    {
     "data": {
      "text/plain": [
       "<matplotlib.axes._subplots.AxesSubplot at 0x1df553c1a88>"
      ]
     },
     "execution_count": 3,
     "metadata": {},
     "output_type": "execute_result"
    },
    {
     "data": {
      "image/png": "[encoded data removed]",
      "text/plain": [
       "<Figure size 432x288 with 1 Axes>"
      ]
     },
     "metadata": {
      "needs_background": "light"
     },
     "output_type": "display_data"
    }
   ],
   "source": [
    "mineral_rpm.plot(y = \"Rpm\", x = \"Volume/Time (ml/s)\")"
   ]
  },
  {
   "cell_type": "code",
   "execution_count": 4,
   "metadata": {},
   "outputs": [
    {
     "data": {
      "text/html": [
       "<div>\n",
       "<style scoped>\n",
       "    .dataframe tbody tr th:only-of-type {\n",
       "        vertical-align: middle;\n",
       "    }\n",
       "\n",
       "    .dataframe tbody tr th {\n",
       "        vertical-align: top;\n",
       "    }\n",
       "\n",
       "    .dataframe thead th {\n",
       "        text-align: right;\n",
       "    }\n",
       "</style>\n",
       "<table border=\"1\" class=\"dataframe\">\n",
       "  <thead>\n",
       "    <tr style=\"text-align: right;\">\n",
       "      <th></th>\n",
       "      <th>Signal Output (mA)</th>\n",
       "      <th>200</th>\n",
       "      <th>100</th>\n",
       "    </tr>\n",
       "  </thead>\n",
       "  <tbody>\n",
       "    <tr>\n",
       "      <td>0</td>\n",
       "      <td>0.0040</td>\n",
       "      <td>0.0000</td>\n",
       "      <td>0.000</td>\n",
       "    </tr>\n",
       "    <tr>\n",
       "      <td>1</td>\n",
       "      <td>0.0045</td>\n",
       "      <td>0.0285</td>\n",
       "      <td>0.028</td>\n",
       "    </tr>\n",
       "    <tr>\n",
       "      <td>2</td>\n",
       "      <td>0.0051</td>\n",
       "      <td>0.0625</td>\n",
       "      <td>0.062</td>\n",
       "    </tr>\n",
       "    <tr>\n",
       "      <td>3</td>\n",
       "      <td>0.0056</td>\n",
       "      <td>0.0965</td>\n",
       "      <td>0.096</td>\n",
       "    </tr>\n",
       "    <tr>\n",
       "      <td>4</td>\n",
       "      <td>0.0062</td>\n",
       "      <td>0.1305</td>\n",
       "      <td>0.130</td>\n",
       "    </tr>\n",
       "    <tr>\n",
       "      <td>5</td>\n",
       "      <td>0.0067</td>\n",
       "      <td>0.1645</td>\n",
       "      <td>0.164</td>\n",
       "    </tr>\n",
       "    <tr>\n",
       "      <td>6</td>\n",
       "      <td>0.0073</td>\n",
       "      <td>0.1985</td>\n",
       "      <td>0.198</td>\n",
       "    </tr>\n",
       "    <tr>\n",
       "      <td>7</td>\n",
       "      <td>0.0078</td>\n",
       "      <td>0.2325</td>\n",
       "      <td>0.232</td>\n",
       "    </tr>\n",
       "    <tr>\n",
       "      <td>8</td>\n",
       "      <td>0.0083</td>\n",
       "      <td>0.2660</td>\n",
       "      <td>0.266</td>\n",
       "    </tr>\n",
       "    <tr>\n",
       "      <td>9</td>\n",
       "      <td>0.0089</td>\n",
       "      <td>0.3000</td>\n",
       "      <td>0.300</td>\n",
       "    </tr>\n",
       "    <tr>\n",
       "      <td>10</td>\n",
       "      <td>0.0094</td>\n",
       "      <td>0.3340</td>\n",
       "      <td>0.334</td>\n",
       "    </tr>\n",
       "    <tr>\n",
       "      <td>11</td>\n",
       "      <td>0.0100</td>\n",
       "      <td>0.3685</td>\n",
       "      <td>0.368</td>\n",
       "    </tr>\n",
       "    <tr>\n",
       "      <td>12</td>\n",
       "      <td>0.0105</td>\n",
       "      <td>0.4025</td>\n",
       "      <td>0.402</td>\n",
       "    </tr>\n",
       "    <tr>\n",
       "      <td>13</td>\n",
       "      <td>0.0110</td>\n",
       "      <td>0.4360</td>\n",
       "      <td>0.436</td>\n",
       "    </tr>\n",
       "    <tr>\n",
       "      <td>14</td>\n",
       "      <td>0.0116</td>\n",
       "      <td>0.4700</td>\n",
       "      <td>0.470</td>\n",
       "    </tr>\n",
       "    <tr>\n",
       "      <td>15</td>\n",
       "      <td>0.0121</td>\n",
       "      <td>0.5040</td>\n",
       "      <td>0.504</td>\n",
       "    </tr>\n",
       "    <tr>\n",
       "      <td>16</td>\n",
       "      <td>0.0127</td>\n",
       "      <td>0.5380</td>\n",
       "      <td>0.538</td>\n",
       "    </tr>\n",
       "    <tr>\n",
       "      <td>17</td>\n",
       "      <td>0.0132</td>\n",
       "      <td>0.5720</td>\n",
       "      <td>0.572</td>\n",
       "    </tr>\n",
       "    <tr>\n",
       "      <td>18</td>\n",
       "      <td>0.0138</td>\n",
       "      <td>0.6060</td>\n",
       "      <td>0.606</td>\n",
       "    </tr>\n",
       "    <tr>\n",
       "      <td>19</td>\n",
       "      <td>0.0143</td>\n",
       "      <td>0.6400</td>\n",
       "      <td>0.640</td>\n",
       "    </tr>\n",
       "    <tr>\n",
       "      <td>20</td>\n",
       "      <td>0.0148</td>\n",
       "      <td>0.6740</td>\n",
       "      <td>0.674</td>\n",
       "    </tr>\n",
       "    <tr>\n",
       "      <td>21</td>\n",
       "      <td>0.0154</td>\n",
       "      <td>0.7080</td>\n",
       "      <td>0.708</td>\n",
       "    </tr>\n",
       "    <tr>\n",
       "      <td>22</td>\n",
       "      <td>0.0159</td>\n",
       "      <td>0.7415</td>\n",
       "      <td>0.741</td>\n",
       "    </tr>\n",
       "    <tr>\n",
       "      <td>23</td>\n",
       "      <td>0.0165</td>\n",
       "      <td>0.7755</td>\n",
       "      <td>0.775</td>\n",
       "    </tr>\n",
       "    <tr>\n",
       "      <td>24</td>\n",
       "      <td>0.0170</td>\n",
       "      <td>0.8095</td>\n",
       "      <td>0.809</td>\n",
       "    </tr>\n",
       "    <tr>\n",
       "      <td>25</td>\n",
       "      <td>0.0175</td>\n",
       "      <td>0.8435</td>\n",
       "      <td>0.843</td>\n",
       "    </tr>\n",
       "    <tr>\n",
       "      <td>26</td>\n",
       "      <td>0.0181</td>\n",
       "      <td>0.8775</td>\n",
       "      <td>0.877</td>\n",
       "    </tr>\n",
       "    <tr>\n",
       "      <td>27</td>\n",
       "      <td>0.0186</td>\n",
       "      <td>0.9115</td>\n",
       "      <td>0.911</td>\n",
       "    </tr>\n",
       "    <tr>\n",
       "      <td>28</td>\n",
       "      <td>0.0192</td>\n",
       "      <td>0.9455</td>\n",
       "      <td>0.945</td>\n",
       "    </tr>\n",
       "    <tr>\n",
       "      <td>29</td>\n",
       "      <td>0.0197</td>\n",
       "      <td>0.9795</td>\n",
       "      <td>0.979</td>\n",
       "    </tr>\n",
       "    <tr>\n",
       "      <td>30</td>\n",
       "      <td>0.0200</td>\n",
       "      <td>0.9965</td>\n",
       "      <td>0.996</td>\n",
       "    </tr>\n",
       "  </tbody>\n",
       "</table>\n",
       "</div>"
      ],
      "text/plain": [
       "    Signal Output (mA)     200    100\n",
       "0               0.0040  0.0000  0.000\n",
       "1               0.0045  0.0285  0.028\n",
       "2               0.0051  0.0625  0.062\n",
       "3               0.0056  0.0965  0.096\n",
       "4               0.0062  0.1305  0.130\n",
       "5               0.0067  0.1645  0.164\n",
       "6               0.0073  0.1985  0.198\n",
       "7               0.0078  0.2325  0.232\n",
       "8               0.0083  0.2660  0.266\n",
       "9               0.0089  0.3000  0.300\n",
       "10              0.0094  0.3340  0.334\n",
       "11              0.0100  0.3685  0.368\n",
       "12              0.0105  0.4025  0.402\n",
       "13              0.0110  0.4360  0.436\n",
       "14              0.0116  0.4700  0.470\n",
       "15              0.0121  0.5040  0.504\n",
       "16              0.0127  0.5380  0.538\n",
       "17              0.0132  0.5720  0.572\n",
       "18              0.0138  0.6060  0.606\n",
       "19              0.0143  0.6400  0.640\n",
       "20              0.0148  0.6740  0.674\n",
       "21              0.0154  0.7080  0.708\n",
       "22              0.0159  0.7415  0.741\n",
       "23              0.0165  0.7755  0.775\n",
       "24              0.0170  0.8095  0.809\n",
       "25              0.0175  0.8435  0.843\n",
       "26              0.0181  0.8775  0.877\n",
       "27              0.0186  0.9115  0.911\n",
       "28              0.0192  0.9455  0.945\n",
       "29              0.0197  0.9795  0.979\n",
       "30              0.0200  0.9965  0.996"
      ]
     },
     "execution_count": 4,
     "metadata": {},
     "output_type": "execute_result"
    }
   ],
   "source": [
    "mineral_ma = pandas.read_excel(\"Pump Calibration.xlsx\", sheet_name = 0, usecols = [\"Signal Output (mA)\", \"200\", \"100\"], nrows = 31)\n",
    "mineral_ma[\"Signal Output (mA)\"]/=1000\n",
    "mineral_ma"
   ]
  },
  {
   "cell_type": "code",
   "execution_count": 5,
   "metadata": {},
   "outputs": [
    {
     "data": {
      "text/plain": [
       "<matplotlib.axes._subplots.AxesSubplot at 0x1df575f5108>"
      ]
     },
     "execution_count": 5,
     "metadata": {},
     "output_type": "execute_result"
    },
    {
     "data": {
      "image/png": "[encoded data removed]",
      "text/plain": [
       "<Figure size 432x288 with 1 Axes>"
      ]
     },
     "metadata": {
      "needs_background": "light"
     },
     "output_type": "display_data"
    }
   ],
   "source": [
    "mineral_ma.plot(x = \"Signal Output (mA)\")"
   ]
  },
  {
   "cell_type": "markdown",
   "metadata": {},
   "source": [
    "We want to be able to go from Volumetric flow to mA output in Labview\n",
    "\n",
    "In relation 1:  \n",
    "x = Volume/Time (ml/s)  \n",
    "y = Rpm  \n",
    "\n",
    "In relation 2:  \n",
    "x = fraction max* max  \n",
    "y = Signal Output (mA)"
   ]
  },
  {
   "cell_type": "code",
   "execution_count": 6,
   "metadata": {},
   "outputs": [
    {
     "name": "stdout",
     "output_type": "stream",
     "text": [
      "[2.66402486e+03 1.16924761e-01]\n"
     ]
    }
   ],
   "source": [
    "mineral_r1 = (numpy.polyfit(mineral_rpm[\"Volume/Time (ml/s)\"], mineral_rpm[\"Rpm\"], 1))\n",
    "print(mineral_r1)"
   ]
  },
  {
   "cell_type": "code",
   "execution_count": 7,
   "metadata": {},
   "outputs": [
    {
     "name": "stdout",
     "output_type": "stream",
     "text": [
      "[0.01597215 0.00407969]\n"
     ]
    }
   ],
   "source": [
    "max_rpm = 100\n",
    "mineral_r2_100 = (numpy.polyfit(mineral_ma[\"100\"], mineral_ma[\"Signal Output (mA)\"], 1))\n",
    "print(mineral_r2_100)"
   ]
  },
  {
   "cell_type": "code",
   "execution_count": 8,
   "metadata": {},
   "outputs": [
    {
     "name": "stdout",
     "output_type": "stream",
     "text": [
      "[0.01597077 0.00407575]\n"
     ]
    }
   ],
   "source": [
    "max_rpm = 200\n",
    "mineral_r2_200 = (numpy.polyfit(mineral_ma[\"200\"], mineral_ma[\"Signal Output (mA)\"], 1))\n",
    "print(mineral_r2_200)"
   ]
  },
  {
   "cell_type": "code",
   "execution_count": 9,
   "metadata": {},
   "outputs": [],
   "source": [
    "concat_mineral_ma = pandas.concat([mineral_ma[\"100\"],mineral_ma[\"200\"]])\n",
    "concat_mineral_ma = pandas.concat([concat_mineral_ma,pandas.concat([mineral_ma[\"Signal Output (mA)\"],mineral_ma[\"Signal Output (mA)\"]])], axis=1)"
   ]
  },
  {
   "cell_type": "code",
   "execution_count": 10,
   "metadata": {},
   "outputs": [],
   "source": [
    "concat_mineral_ma.columns=[\"Fraction of Max\", \"Signal Output (mA)\"]"
   ]
  },
  {
   "cell_type": "code",
   "execution_count": 11,
   "metadata": {},
   "outputs": [
    {
     "name": "stdout",
     "output_type": "stream",
     "text": [
      "[0.01597146 0.00407773]\n"
     ]
    }
   ],
   "source": [
    "mineral_r2_concat = (numpy.polyfit(concat_mineral_ma[\"Fraction of Max\"], concat_mineral_ma[\"Signal Output (mA)\"], 1))\n",
    "print(mineral_r2_concat)"
   ]
  },
  {
   "cell_type": "code",
   "execution_count": 12,
   "metadata": {},
   "outputs": [
    {
     "name": "stdout",
     "output_type": "stream",
     "text": [
      "Relation 1: Desired Flowrate to Rpm: \n",
      "2664.0248599389456 x + 0.11692476092388554\n",
      "\n",
      "Relation 2: Desried Rpm to mA output: \n",
      "0.015971458705790826 x/max_rpm + 0.004077725380344\n"
     ]
    }
   ],
   "source": [
    "print(\"Relation 1: Desired Flowrate to Rpm: \\n%s x + %s\\n\" %(mineral_r1[0],mineral_r1[1]))\n",
    "print(\"Relation 2: Desried Rpm to mA output: \\n%s x/max_rpm + %s\" %(mineral_r2_concat[0],mineral_r2_concat[1]))"
   ]
  },
  {
   "cell_type": "markdown",
   "metadata": {},
   "source": [
    "Sub Relation 1 as x for relation 2"
   ]
  },
  {
   "cell_type": "code",
   "execution_count": 13,
   "metadata": {},
   "outputs": [
    {
     "data": {
      "image/png": "[encoded data removed]",
      "text/latex": [
       "$\\displaystyle \\left( Rpm, \\  mA, \\  ml/s, \\  ml/m, \\  MaxRpm\\right)$"
      ],
      "text/plain": [
       "(Rpm, mA, ml/s, ml/m, MaxRpm)"
      ]
     },
     "execution_count": 13,
     "metadata": {},
     "output_type": "execute_result"
    }
   ],
   "source": [
    "Rpm, mA, mlpers, mlperm, maxrpm = sympy.symbols((\"Rpm\", \"mA\", \"ml/s\", \"ml/m\", \"MaxRpm\"))\n",
    "Rpm, mA, mlpers, mlperm, maxrpm"
   ]
  },
  {
   "cell_type": "code",
   "execution_count": 14,
   "metadata": {},
   "outputs": [
    {
     "data": {
      "image/png": "[encoded data removed]",
      "text/latex": [
       "$\\displaystyle 2664.02485993895 ml/s + 0.116924760923886$"
      ],
      "text/plain": [
       "2664.02485993895⋅ml/s + 0.116924760923886"
      ]
     },
     "execution_count": 14,
     "metadata": {},
     "output_type": "execute_result"
    }
   ],
   "source": [
    "Eq1 = mineral_r1[0]*mlpers + mineral_r1[1]\n",
    "Eq1"
   ]
  },
  {
   "cell_type": "code",
   "execution_count": 15,
   "metadata": {},
   "outputs": [
    {
     "data": {
      "image/png": "[encoded data removed]",
      "text/latex": [
       "$\\displaystyle 0.0023378675659844065$"
      ],
      "text/plain": [
       "0.0023378675659844065"
      ]
     },
     "execution_count": 15,
     "metadata": {},
     "output_type": "execute_result"
    }
   ],
   "source": [
    "0.146377836179532*0.0159714587057908"
   ]
  },
  {
   "cell_type": "markdown",
   "metadata": {},
   "source": []
  },
  {
   "cell_type": "code",
   "execution_count": 16,
   "metadata": {},
   "outputs": [
    {
     "data": {
      "image/png": "[encoded data removed]",
      "text/latex": [
       "$\\displaystyle 0.004077725380344 + \\frac{0.0159714587057908 Rpm}{MaxRpm}$"
      ],
      "text/plain": [
       "                    0.0159714587057908⋅Rpm\n",
       "0.004077725380344 + ──────────────────────\n",
       "                            MaxRpm        "
      ]
     },
     "execution_count": 16,
     "metadata": {},
     "output_type": "execute_result"
    }
   ],
   "source": [
    "Eq2 = mA = (mineral_r2_concat[0]*Rpm/maxrpm + mineral_r2_concat[1])\n",
    "Eq2"
   ]
  },
  {
   "cell_type": "code",
   "execution_count": 17,
   "metadata": {},
   "outputs": [
    {
     "data": {
      "image/png": "[encoded data removed]",
      "text/latex": [
       "$\\displaystyle 0.004077725380344 + \\frac{0.0159714587057908 \\left(2664.02485993895 ml/s + 0.116924760923886\\right)}{MaxRpm}$"
      ],
      "text/plain": [
       "                    0.0159714587057908⋅(2664.02485993895⋅ml/s + 0.116924760923\n",
       "0.004077725380344 + ──────────────────────────────────────────────────────────\n",
       "                                                MaxRpm                        \n",
       "\n",
       "886)\n",
       "────\n",
       "    "
      ]
     },
     "execution_count": 17,
     "metadata": {},
     "output_type": "execute_result"
    }
   ],
   "source": [
    "Eq3 = Eq2.subs(Rpm, Eq1)\n",
    "Eq3"
   ]
  },
  {
   "cell_type": "code",
   "execution_count": 18,
   "metadata": {},
   "outputs": [
    {
     "data": {
      "image/png": "[encoded data removed]",
      "text/latex": [
       "$\\displaystyle 0.212741815208575 ml/s + 0.0040870626752979$"
      ],
      "text/plain": [
       "0.212741815208575⋅ml/s + 0.0040870626752979"
      ]
     },
     "execution_count": 18,
     "metadata": {},
     "output_type": "execute_result"
    }
   ],
   "source": [
    "Eq3.subs(maxrpm,200)"
   ]
  },
  {
   "cell_type": "code",
   "execution_count": 19,
   "metadata": {},
   "outputs": [
    {
     "data": {
      "text/plain": [
       "0    0.019751\n",
       "1    0.020286\n",
       "2    0.016130\n",
       "3    0.016089\n",
       "4    0.012025\n",
       "5    0.012036\n",
       "6    0.008873\n",
       "7    0.008876\n",
       "8    0.007280\n",
       "9    0.007275\n",
       "Name: Volume/Time (ml/s), dtype: float64"
      ]
     },
     "execution_count": 19,
     "metadata": {},
     "output_type": "execute_result"
    }
   ],
   "source": [
    "Amps = 0.212741815208575*mineral_rpm[\"Volume/Time (ml/s)\"]+0.0040870626752979\n",
    "Amps"
   ]
  },
  {
   "cell_type": "code",
   "execution_count": 20,
   "metadata": {},
   "outputs": [
    {
     "data": {
      "image/png": "[encoded data removed]",
      "text/latex": [
       "$\\displaystyle 0.004077725380344 + \\frac{0.0159714587057908 \\left(2664.02485993895 ml/s + 0.116924760923886\\right)}{MaxRpm}$"
      ],
      "text/plain": [
       "                    0.0159714587057908⋅(2664.02485993895⋅ml/s + 0.116924760923\n",
       "0.004077725380344 + ──────────────────────────────────────────────────────────\n",
       "                                                MaxRpm                        \n",
       "\n",
       "886)\n",
       "────\n",
       "    "
      ]
     },
     "execution_count": 20,
     "metadata": {},
     "output_type": "execute_result"
    }
   ],
   "source": [
    "Eq3"
   ]
  },
  {
   "cell_type": "code",
   "execution_count": null,
   "metadata": {},
   "outputs": [],
   "source": []
  },
  {
   "cell_type": "code",
   "execution_count": null,
   "metadata": {},
   "outputs": [],
   "source": []
  }
 ],
 "metadata": {
  "kernelspec": {
   "display_name": "Python 3",
   "language": "python",
   "name": "python3"
  },
  "language_info": {
   "codemirror_mode": {
    "name": "ipython",
    "version": 3
   },
   "file_extension": ".py",
   "mimetype": "text/x-python",
   "name": "python",
   "nbconvert_exporter": "python",
   "pygments_lexer": "ipython3",
   "version": "3.7.4"
  }
 },
 "nbformat": 4,
 "nbformat_minor": 2
}
