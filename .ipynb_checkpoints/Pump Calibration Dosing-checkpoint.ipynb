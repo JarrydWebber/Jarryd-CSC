{
 "cells": [
  {
   "cell_type": "code",
   "execution_count": 1,
   "metadata": {},
   "outputs": [],
   "source": [
    "import pandas\n",
    "import numpy\n",
    "import scipy\n",
    "from scipy import stats\n",
    "import sympy\n",
    "import matplotlib.pyplot as plot\n",
    "\n",
    "sympy.init_printing() "
   ]
  },
  {
   "cell_type": "markdown",
   "metadata": {},
   "source": [
    "# Dosing Pump"
   ]
  },
  {
   "cell_type": "code",
   "execution_count": 2,
   "metadata": {},
   "outputs": [
    {
     "data": {
      "text/html": [
       "<div>\n",
       "<style scoped>\n",
       "    .dataframe tbody tr th:only-of-type {\n",
       "        vertical-align: middle;\n",
       "    }\n",
       "\n",
       "    .dataframe tbody tr th {\n",
       "        vertical-align: top;\n",
       "    }\n",
       "\n",
       "    .dataframe thead th {\n",
       "        text-align: right;\n",
       "    }\n",
       "</style>\n",
       "<table border=\"1\" class=\"dataframe\">\n",
       "  <thead>\n",
       "    <tr style=\"text-align: right;\">\n",
       "      <th></th>\n",
       "      <th>Rpm</th>\n",
       "      <th>Volume/Time (ml/s)</th>\n",
       "    </tr>\n",
       "  </thead>\n",
       "  <tbody>\n",
       "    <tr>\n",
       "      <td>0</td>\n",
       "      <td>20</td>\n",
       "      <td>0.016928</td>\n",
       "    </tr>\n",
       "    <tr>\n",
       "      <td>1</td>\n",
       "      <td>40</td>\n",
       "      <td>0.033593</td>\n",
       "    </tr>\n",
       "    <tr>\n",
       "      <td>2</td>\n",
       "      <td>60</td>\n",
       "      <td>0.051072</td>\n",
       "    </tr>\n",
       "    <tr>\n",
       "      <td>3</td>\n",
       "      <td>80</td>\n",
       "      <td>0.069089</td>\n",
       "    </tr>\n",
       "    <tr>\n",
       "      <td>4</td>\n",
       "      <td>100</td>\n",
       "      <td>0.084425</td>\n",
       "    </tr>\n",
       "    <tr>\n",
       "      <td>5</td>\n",
       "      <td>150</td>\n",
       "      <td>0.127371</td>\n",
       "    </tr>\n",
       "    <tr>\n",
       "      <td>6</td>\n",
       "      <td>200</td>\n",
       "      <td>0.168461</td>\n",
       "    </tr>\n",
       "    <tr>\n",
       "      <td>7</td>\n",
       "      <td>20</td>\n",
       "      <td>0.016889</td>\n",
       "    </tr>\n",
       "    <tr>\n",
       "      <td>8</td>\n",
       "      <td>10</td>\n",
       "      <td>0.008335</td>\n",
       "    </tr>\n",
       "    <tr>\n",
       "      <td>9</td>\n",
       "      <td>10</td>\n",
       "      <td>0.008345</td>\n",
       "    </tr>\n",
       "  </tbody>\n",
       "</table>\n",
       "</div>"
      ],
      "text/plain": [
       "   Rpm  Volume/Time (ml/s)\n",
       "0   20            0.016928\n",
       "1   40            0.033593\n",
       "2   60            0.051072\n",
       "3   80            0.069089\n",
       "4  100            0.084425\n",
       "5  150            0.127371\n",
       "6  200            0.168461\n",
       "7   20            0.016889\n",
       "8   10            0.008335\n",
       "9   10            0.008345"
      ]
     },
     "execution_count": 2,
     "metadata": {},
     "output_type": "execute_result"
    }
   ],
   "source": [
    "dosing_rpm = pandas.read_excel(\"Pump Calibration.xlsx\", sheet_name = 0, usecols = [\"Rpm\", \"Volume/Time (ml/s)\"], nrows = 10)\n",
    "dosing_rpm"
   ]
  },
  {
   "cell_type": "code",
   "execution_count": 3,
   "metadata": {},
   "outputs": [
    {
     "data": {
      "text/plain": [
       "<matplotlib.axes._subplots.AxesSubplot at 0x18e9097c5c8>"
      ]
     },
     "execution_count": 3,
     "metadata": {},
     "output_type": "execute_result"
    },
    {
     "data": {
      "image/png": "[encoded data removed]",
      "text/plain": [
       "<Figure size 432x288 with 1 Axes>"
      ]
     },
     "metadata": {
      "needs_background": "light"
     },
     "output_type": "display_data"
    }
   ],
   "source": [
    "dosing_rpm.plot(x = \"Rpm\", y = \"Volume/Time (ml/s)\")"
   ]
  },
  {
   "cell_type": "code",
   "execution_count": 4,
   "metadata": {},
   "outputs": [
    {
     "data": {
      "text/html": [
       "<div>\n",
       "<style scoped>\n",
       "    .dataframe tbody tr th:only-of-type {\n",
       "        vertical-align: middle;\n",
       "    }\n",
       "\n",
       "    .dataframe tbody tr th {\n",
       "        vertical-align: top;\n",
       "    }\n",
       "\n",
       "    .dataframe thead th {\n",
       "        text-align: right;\n",
       "    }\n",
       "</style>\n",
       "<table border=\"1\" class=\"dataframe\">\n",
       "  <thead>\n",
       "    <tr style=\"text-align: right;\">\n",
       "      <th></th>\n",
       "      <th>Signal Output (mA)</th>\n",
       "      <th>200</th>\n",
       "      <th>100</th>\n",
       "    </tr>\n",
       "  </thead>\n",
       "  <tbody>\n",
       "    <tr>\n",
       "      <td>0</td>\n",
       "      <td>4.0</td>\n",
       "      <td>0.0000</td>\n",
       "      <td>0.000</td>\n",
       "    </tr>\n",
       "    <tr>\n",
       "      <td>1</td>\n",
       "      <td>4.5</td>\n",
       "      <td>0.0285</td>\n",
       "      <td>0.028</td>\n",
       "    </tr>\n",
       "    <tr>\n",
       "      <td>2</td>\n",
       "      <td>5.1</td>\n",
       "      <td>0.0625</td>\n",
       "      <td>0.062</td>\n",
       "    </tr>\n",
       "    <tr>\n",
       "      <td>3</td>\n",
       "      <td>5.6</td>\n",
       "      <td>0.0965</td>\n",
       "      <td>0.096</td>\n",
       "    </tr>\n",
       "    <tr>\n",
       "      <td>4</td>\n",
       "      <td>6.2</td>\n",
       "      <td>0.1305</td>\n",
       "      <td>0.130</td>\n",
       "    </tr>\n",
       "    <tr>\n",
       "      <td>5</td>\n",
       "      <td>6.7</td>\n",
       "      <td>0.1645</td>\n",
       "      <td>0.164</td>\n",
       "    </tr>\n",
       "    <tr>\n",
       "      <td>6</td>\n",
       "      <td>7.3</td>\n",
       "      <td>0.1985</td>\n",
       "      <td>0.198</td>\n",
       "    </tr>\n",
       "    <tr>\n",
       "      <td>7</td>\n",
       "      <td>7.8</td>\n",
       "      <td>0.2325</td>\n",
       "      <td>0.232</td>\n",
       "    </tr>\n",
       "    <tr>\n",
       "      <td>8</td>\n",
       "      <td>8.3</td>\n",
       "      <td>0.2660</td>\n",
       "      <td>0.266</td>\n",
       "    </tr>\n",
       "    <tr>\n",
       "      <td>9</td>\n",
       "      <td>8.9</td>\n",
       "      <td>0.3000</td>\n",
       "      <td>0.300</td>\n",
       "    </tr>\n",
       "    <tr>\n",
       "      <td>10</td>\n",
       "      <td>9.4</td>\n",
       "      <td>0.3340</td>\n",
       "      <td>0.334</td>\n",
       "    </tr>\n",
       "    <tr>\n",
       "      <td>11</td>\n",
       "      <td>10.0</td>\n",
       "      <td>0.3685</td>\n",
       "      <td>0.368</td>\n",
       "    </tr>\n",
       "    <tr>\n",
       "      <td>12</td>\n",
       "      <td>10.5</td>\n",
       "      <td>0.4025</td>\n",
       "      <td>0.402</td>\n",
       "    </tr>\n",
       "    <tr>\n",
       "      <td>13</td>\n",
       "      <td>11.0</td>\n",
       "      <td>0.4360</td>\n",
       "      <td>0.436</td>\n",
       "    </tr>\n",
       "    <tr>\n",
       "      <td>14</td>\n",
       "      <td>11.6</td>\n",
       "      <td>0.4700</td>\n",
       "      <td>0.470</td>\n",
       "    </tr>\n",
       "    <tr>\n",
       "      <td>15</td>\n",
       "      <td>12.1</td>\n",
       "      <td>0.5040</td>\n",
       "      <td>0.504</td>\n",
       "    </tr>\n",
       "    <tr>\n",
       "      <td>16</td>\n",
       "      <td>12.7</td>\n",
       "      <td>0.5380</td>\n",
       "      <td>0.538</td>\n",
       "    </tr>\n",
       "    <tr>\n",
       "      <td>17</td>\n",
       "      <td>13.2</td>\n",
       "      <td>0.5720</td>\n",
       "      <td>0.572</td>\n",
       "    </tr>\n",
       "    <tr>\n",
       "      <td>18</td>\n",
       "      <td>13.8</td>\n",
       "      <td>0.6060</td>\n",
       "      <td>0.606</td>\n",
       "    </tr>\n",
       "    <tr>\n",
       "      <td>19</td>\n",
       "      <td>14.3</td>\n",
       "      <td>0.6400</td>\n",
       "      <td>0.640</td>\n",
       "    </tr>\n",
       "    <tr>\n",
       "      <td>20</td>\n",
       "      <td>14.8</td>\n",
       "      <td>0.6740</td>\n",
       "      <td>0.674</td>\n",
       "    </tr>\n",
       "    <tr>\n",
       "      <td>21</td>\n",
       "      <td>15.4</td>\n",
       "      <td>0.7080</td>\n",
       "      <td>0.708</td>\n",
       "    </tr>\n",
       "    <tr>\n",
       "      <td>22</td>\n",
       "      <td>15.9</td>\n",
       "      <td>0.7415</td>\n",
       "      <td>0.741</td>\n",
       "    </tr>\n",
       "    <tr>\n",
       "      <td>23</td>\n",
       "      <td>16.5</td>\n",
       "      <td>0.7755</td>\n",
       "      <td>0.775</td>\n",
       "    </tr>\n",
       "    <tr>\n",
       "      <td>24</td>\n",
       "      <td>17.0</td>\n",
       "      <td>0.8095</td>\n",
       "      <td>0.809</td>\n",
       "    </tr>\n",
       "    <tr>\n",
       "      <td>25</td>\n",
       "      <td>17.5</td>\n",
       "      <td>0.8435</td>\n",
       "      <td>0.843</td>\n",
       "    </tr>\n",
       "    <tr>\n",
       "      <td>26</td>\n",
       "      <td>18.1</td>\n",
       "      <td>0.8775</td>\n",
       "      <td>0.877</td>\n",
       "    </tr>\n",
       "    <tr>\n",
       "      <td>27</td>\n",
       "      <td>18.6</td>\n",
       "      <td>0.9115</td>\n",
       "      <td>0.911</td>\n",
       "    </tr>\n",
       "    <tr>\n",
       "      <td>28</td>\n",
       "      <td>19.2</td>\n",
       "      <td>0.9455</td>\n",
       "      <td>0.945</td>\n",
       "    </tr>\n",
       "    <tr>\n",
       "      <td>29</td>\n",
       "      <td>19.7</td>\n",
       "      <td>0.9795</td>\n",
       "      <td>0.979</td>\n",
       "    </tr>\n",
       "    <tr>\n",
       "      <td>30</td>\n",
       "      <td>20.0</td>\n",
       "      <td>0.9965</td>\n",
       "      <td>0.996</td>\n",
       "    </tr>\n",
       "  </tbody>\n",
       "</table>\n",
       "</div>"
      ],
      "text/plain": [
       "    Signal Output (mA)     200    100\n",
       "0                  4.0  0.0000  0.000\n",
       "1                  4.5  0.0285  0.028\n",
       "2                  5.1  0.0625  0.062\n",
       "3                  5.6  0.0965  0.096\n",
       "4                  6.2  0.1305  0.130\n",
       "5                  6.7  0.1645  0.164\n",
       "6                  7.3  0.1985  0.198\n",
       "7                  7.8  0.2325  0.232\n",
       "8                  8.3  0.2660  0.266\n",
       "9                  8.9  0.3000  0.300\n",
       "10                 9.4  0.3340  0.334\n",
       "11                10.0  0.3685  0.368\n",
       "12                10.5  0.4025  0.402\n",
       "13                11.0  0.4360  0.436\n",
       "14                11.6  0.4700  0.470\n",
       "15                12.1  0.5040  0.504\n",
       "16                12.7  0.5380  0.538\n",
       "17                13.2  0.5720  0.572\n",
       "18                13.8  0.6060  0.606\n",
       "19                14.3  0.6400  0.640\n",
       "20                14.8  0.6740  0.674\n",
       "21                15.4  0.7080  0.708\n",
       "22                15.9  0.7415  0.741\n",
       "23                16.5  0.7755  0.775\n",
       "24                17.0  0.8095  0.809\n",
       "25                17.5  0.8435  0.843\n",
       "26                18.1  0.8775  0.877\n",
       "27                18.6  0.9115  0.911\n",
       "28                19.2  0.9455  0.945\n",
       "29                19.7  0.9795  0.979\n",
       "30                20.0  0.9965  0.996"
      ]
     },
     "execution_count": 4,
     "metadata": {},
     "output_type": "execute_result"
    }
   ],
   "source": [
    "dosing_ma = pandas.read_excel(\"Pump Calibration.xlsx\", sheet_name = 0, usecols = [\"Signal Output (mA)\", \"200\", \"100\"], nrows = 31)\n",
    "dosing_ma"
   ]
  },
  {
   "cell_type": "code",
   "execution_count": 5,
   "metadata": {},
   "outputs": [
    {
     "data": {
      "text/plain": [
       "<matplotlib.axes._subplots.AxesSubplot at 0x18e91155b88>"
      ]
     },
     "execution_count": 5,
     "metadata": {},
     "output_type": "execute_result"
    },
    {
     "data": {
      "image/png": "[encoded data removed]",
      "text/plain": [
       "<Figure size 432x288 with 1 Axes>"
      ]
     },
     "metadata": {
      "needs_background": "light"
     },
     "output_type": "display_data"
    }
   ],
   "source": [
    "dosing_ma.plot(x = \"Signal Output (mA)\")"
   ]
  },
  {
   "cell_type": "markdown",
   "metadata": {},
   "source": [
    "We want to be able to go from Volumetric flow to mA output in Labview\n",
    "\n",
    "In relation 1:  \n",
    "x = Volume/Time (ml/s)  \n",
    "y = Rpm  \n",
    "\n",
    "In relation 2:  \n",
    "x = fraction max* max  \n",
    "y = Signal Output (mA)"
   ]
  },
  {
   "cell_type": "code",
   "execution_count": 6,
   "metadata": {},
   "outputs": [
    {
     "name": "stdout",
     "output_type": "stream",
     "text": [
      "[ 1.18298513e+03 -1.46377836e-01]\n"
     ]
    }
   ],
   "source": [
    "dosing_r1 = (numpy.polyfit(dosing_rpm[\"Volume/Time (ml/s)\"], dosing_rpm[\"Rpm\"], 1))\n",
    "print(dosing_r1)"
   ]
  },
  {
   "cell_type": "code",
   "execution_count": 7,
   "metadata": {},
   "outputs": [
    {
     "name": "stdout",
     "output_type": "stream",
     "text": [
      "[15.97215324  4.07969422]\n"
     ]
    }
   ],
   "source": [
    "max_rpm = 100\n",
    "dosing_r2_100 = (numpy.polyfit(dosing_ma[\"100\"], dosing_ma[\"Signal Output (mA)\"], 1))\n",
    "print(dosing_r2_100)"
   ]
  },
  {
   "cell_type": "code",
   "execution_count": 8,
   "metadata": {},
   "outputs": [
    {
     "name": "stdout",
     "output_type": "stream",
     "text": [
      "[15.97077164  4.07575298]\n"
     ]
    }
   ],
   "source": [
    "max_rpm = 200\n",
    "dosing_r2_200 = (numpy.polyfit(dosing_ma[\"200\"], dosing_ma[\"Signal Output (mA)\"], 1))\n",
    "print(dosing_r2_200)"
   ]
  },
  {
   "cell_type": "code",
   "execution_count": 9,
   "metadata": {},
   "outputs": [],
   "source": [
    "concat_dosing_ma = pandas.concat([dosing_ma[\"100\"],dosing_ma[\"200\"]])\n",
    "concat_dosing_ma = pandas.concat([concat_dosing_ma,pandas.concat([dosing_ma[\"Signal Output (mA)\"],dosing_ma[\"Signal Output (mA)\"]])], axis=1)"
   ]
  },
  {
   "cell_type": "code",
   "execution_count": 10,
   "metadata": {},
   "outputs": [],
   "source": [
    "concat_dosing_ma.columns=[\"Fraction of Max\", \"Signal Output (mA)\"]"
   ]
  },
  {
   "cell_type": "code",
   "execution_count": 11,
   "metadata": {},
   "outputs": [
    {
     "name": "stdout",
     "output_type": "stream",
     "text": [
      "[15.97145871  4.07772538]\n"
     ]
    }
   ],
   "source": [
    "dosing_r2_concat = (numpy.polyfit(concat_dosing_ma[\"Fraction of Max\"], concat_dosing_ma[\"Signal Output (mA)\"], 1))\n",
    "print(dosing_r2_concat)"
   ]
  },
  {
   "cell_type": "code",
   "execution_count": 12,
   "metadata": {},
   "outputs": [
    {
     "name": "stdout",
     "output_type": "stream",
     "text": [
      "Relation 1: Desired Flowrate to Rpm: \n",
      "1182.9851344804006 x + -0.14637783617953207\n",
      "\n",
      "Relation 2: Desried Rpm to mA output: \n",
      "15.971458705790825/max_rpm x + 4.077725380344\n"
     ]
    }
   ],
   "source": [
    "print(\"Relation 1: Desired Flowrate to Rpm: \\n%s x + %s\\n\" %(dosing_r1[0],dosing_r1[1]))\n",
    "print(\"Relation 2: Desried Rpm to mA output: \\n%s/max_rpm x + %s\" %(dosing_r2_concat[0],dosing_r2_concat[1]))"
   ]
  },
  {
   "cell_type": "markdown",
   "metadata": {},
   "source": [
    "Sub Relation 1 as x for relation 2"
   ]
  },
  {
   "cell_type": "code",
   "execution_count": 13,
   "metadata": {},
   "outputs": [
    {
     "data": {
      "image/png": "[encoded data removed]",
      "text/latex": [
       "$\\displaystyle \\left( Rpm, \\  mA, \\  ml/s\\right)$"
      ],
      "text/plain": [
       "(Rpm, mA, ml/s)"
      ]
     },
     "execution_count": 13,
     "metadata": {},
     "output_type": "execute_result"
    }
   ],
   "source": [
    "Rpm, mA, mlpers = sympy.symbols((\"Rpm\", \"mA\", \"ml/s\"))\n",
    "Rpm, mA, mlpers"
   ]
  },
  {
   "cell_type": "code",
   "execution_count": 14,
   "metadata": {},
   "outputs": [
    {
     "data": {
      "image/png": "[encoded data removed]",
      "text/latex": [
       "$\\displaystyle 1182.9851344804 ml/s - 0.146377836179532$"
      ],
      "text/plain": [
       "1182.9851344804⋅ml/s - 0.146377836179532"
      ]
     },
     "execution_count": 14,
     "metadata": {},
     "output_type": "execute_result"
    }
   ],
   "source": [
    "Eq1 = Rpm = dosing_r1[0]*mlpers + dosing_r1[1]\n",
    "Eq1"
   ]
  },
  {
   "cell_type": "markdown",
   "metadata": {},
   "source": []
  },
  {
   "cell_type": "code",
   "execution_count": null,
   "metadata": {},
   "outputs": [],
   "source": []
  }
 ],
 "metadata": {
  "kernelspec": {
   "display_name": "Python 3",
   "language": "python",
   "name": "python3"
  },
  "language_info": {
   "codemirror_mode": {
    "name": "ipython",
    "version": 3
   },
   "file_extension": ".py",
   "mimetype": "text/x-python",
   "name": "python",
   "nbconvert_exporter": "python",
   "pygments_lexer": "ipython3",
   "version": "3.7.4"
  }
 },
 "nbformat": 4,
 "nbformat_minor": 2
}
