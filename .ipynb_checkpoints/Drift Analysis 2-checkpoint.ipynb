{
 "cells": [
  {
   "cell_type": "code",
   "execution_count": 1,
   "metadata": {},
   "outputs": [],
   "source": [
    "import pandas\n",
    "import numpy\n",
    "import scipy\n",
    "from scipy import stats\n",
    "\n",
    "import matplotlib.pyplot as plot"
   ]
  },
  {
   "cell_type": "markdown",
   "metadata": {},
   "source": [
    "# Test 1"
   ]
  },
  {
   "cell_type": "code",
   "execution_count": 2,
   "metadata": {},
   "outputs": [],
   "source": [
    "skips1 = 0"
   ]
  },
  {
   "cell_type": "code",
   "execution_count": 3,
   "metadata": {},
   "outputs": [],
   "source": [
    "test_1_data = pandas.read_csv('Drift Test ph and temp 06 12 2019 - 09', sep='\t', header = None, \n",
    "                              usecols = [0, 1, 2, 3],\n",
    "                              names = [\"Date\", \"Time\", \"Temp\", \"pH\"],\n",
    "                              skiprows = skips1)"
   ]
  },
  {
   "cell_type": "code",
   "execution_count": 4,
   "metadata": {},
   "outputs": [
    {
     "data": {
      "text/html": [
       "<div>\n",
       "<style scoped>\n",
       "    .dataframe tbody tr th:only-of-type {\n",
       "        vertical-align: middle;\n",
       "    }\n",
       "\n",
       "    .dataframe tbody tr th {\n",
       "        vertical-align: top;\n",
       "    }\n",
       "\n",
       "    .dataframe thead th {\n",
       "        text-align: right;\n",
       "    }\n",
       "</style>\n",
       "<table border=\"1\" class=\"dataframe\">\n",
       "  <thead>\n",
       "    <tr style=\"text-align: right;\">\n",
       "      <th></th>\n",
       "      <th>Date</th>\n",
       "      <th>Time</th>\n",
       "      <th>Temp</th>\n",
       "      <th>pH</th>\n",
       "    </tr>\n",
       "  </thead>\n",
       "  <tbody>\n",
       "    <tr>\n",
       "      <td>0</td>\n",
       "      <td>2019/12/06</td>\n",
       "      <td>09:05:27 AM</td>\n",
       "      <td>23.663528</td>\n",
       "      <td>8.811172</td>\n",
       "    </tr>\n",
       "    <tr>\n",
       "      <td>1</td>\n",
       "      <td>2019/12/06</td>\n",
       "      <td>09:05:28 AM</td>\n",
       "      <td>23.728594</td>\n",
       "      <td>8.840874</td>\n",
       "    </tr>\n",
       "    <tr>\n",
       "      <td>2</td>\n",
       "      <td>2019/12/06</td>\n",
       "      <td>09:05:29 AM</td>\n",
       "      <td>23.745982</td>\n",
       "      <td>8.869581</td>\n",
       "    </tr>\n",
       "    <tr>\n",
       "      <td>3</td>\n",
       "      <td>2019/12/06</td>\n",
       "      <td>09:05:30 AM</td>\n",
       "      <td>23.771789</td>\n",
       "      <td>8.926380</td>\n",
       "    </tr>\n",
       "    <tr>\n",
       "      <td>4</td>\n",
       "      <td>2019/12/06</td>\n",
       "      <td>09:05:31 AM</td>\n",
       "      <td>23.800850</td>\n",
       "      <td>8.969278</td>\n",
       "    </tr>\n",
       "    <tr>\n",
       "      <td>...</td>\n",
       "      <td>...</td>\n",
       "      <td>...</td>\n",
       "      <td>...</td>\n",
       "      <td>...</td>\n",
       "    </tr>\n",
       "    <tr>\n",
       "      <td>274842</td>\n",
       "      <td>2019/12/09</td>\n",
       "      <td>01:26:15 PM</td>\n",
       "      <td>35.395706</td>\n",
       "      <td>5.921942</td>\n",
       "    </tr>\n",
       "    <tr>\n",
       "      <td>274843</td>\n",
       "      <td>2019/12/09</td>\n",
       "      <td>01:26:16 PM</td>\n",
       "      <td>35.395765</td>\n",
       "      <td>5.966076</td>\n",
       "    </tr>\n",
       "    <tr>\n",
       "      <td>274844</td>\n",
       "      <td>2019/12/09</td>\n",
       "      <td>01:26:17 PM</td>\n",
       "      <td>35.396788</td>\n",
       "      <td>6.085856</td>\n",
       "    </tr>\n",
       "    <tr>\n",
       "      <td>274845</td>\n",
       "      <td>2019/12/09</td>\n",
       "      <td>01:26:18 PM</td>\n",
       "      <td>35.396690</td>\n",
       "      <td>6.285516</td>\n",
       "    </tr>\n",
       "    <tr>\n",
       "      <td>274846</td>\n",
       "      <td>2019/12/09</td>\n",
       "      <td>01:26:19 PM</td>\n",
       "      <td>35.396129</td>\n",
       "      <td>6.354088</td>\n",
       "    </tr>\n",
       "  </tbody>\n",
       "</table>\n",
       "<p>274847 rows × 4 columns</p>\n",
       "</div>"
      ],
      "text/plain": [
       "              Date         Time       Temp        pH\n",
       "0       2019/12/06  09:05:27 AM  23.663528  8.811172\n",
       "1       2019/12/06  09:05:28 AM  23.728594  8.840874\n",
       "2       2019/12/06  09:05:29 AM  23.745982  8.869581\n",
       "3       2019/12/06  09:05:30 AM  23.771789  8.926380\n",
       "4       2019/12/06  09:05:31 AM  23.800850  8.969278\n",
       "...            ...          ...        ...       ...\n",
       "274842  2019/12/09  01:26:15 PM  35.395706  5.921942\n",
       "274843  2019/12/09  01:26:16 PM  35.395765  5.966076\n",
       "274844  2019/12/09  01:26:17 PM  35.396788  6.085856\n",
       "274845  2019/12/09  01:26:18 PM  35.396690  6.285516\n",
       "274846  2019/12/09  01:26:19 PM  35.396129  6.354088\n",
       "\n",
       "[274847 rows x 4 columns]"
      ]
     },
     "execution_count": 4,
     "metadata": {},
     "output_type": "execute_result"
    }
   ],
   "source": [
    "test_1_data"
   ]
  },
  {
   "cell_type": "code",
   "execution_count": 5,
   "metadata": {},
   "outputs": [
    {
     "data": {
      "text/plain": [
       "<matplotlib.axes._subplots.AxesSubplot at 0x2ced68db188>"
      ]
     },
     "execution_count": 5,
     "metadata": {},
     "output_type": "execute_result"
    },
    {
     "data": {
      "image/png": "[encoded data removed]",
      "text/plain": [
       "<Figure size 432x288 with 1 Axes>"
      ]
     },
     "metadata": {
      "needs_background": "light"
     },
     "output_type": "display_data"
    },
    {
     "data": {
      "image/png": "[encoded data removed]",
      "text/plain": [
       "<Figure size 432x288 with 1 Axes>"
      ]
     },
     "metadata": {
      "needs_background": "light"
     },
     "output_type": "display_data"
    }
   ],
   "source": [
    "test_1_data.plot(y = \"pH\")\n",
    "test_1_data.plot(y = \"Temp\")"
   ]
  },
  {
   "cell_type": "code",
   "execution_count": 6,
   "metadata": {},
   "outputs": [
    {
     "name": "stdout",
     "output_type": "stream",
     "text": [
      "[0.95453737 0.96749377 0.98001613 ... 0.23428023 0.14718599 0.11727401] 274847\n"
     ]
    }
   ],
   "source": [
    "z1 = numpy.abs(stats.zscore(test_1_data.pH))\n",
    "print(z1, len(z1))"
   ]
  },
  {
   "cell_type": "code",
   "execution_count": 7,
   "metadata": {},
   "outputs": [
    {
     "name": "stdout",
     "output_type": "stream",
     "text": [
      "(array([     3,      4,      5, ..., 274647, 274648, 274649], dtype=int64),)\n"
     ]
    }
   ],
   "source": [
    "threshold = 1\n",
    "print(numpy.where(z1 > threshold))"
   ]
  },
  {
   "cell_type": "code",
   "execution_count": 8,
   "metadata": {},
   "outputs": [
    {
     "data": {
      "text/html": [
       "<div>\n",
       "<style scoped>\n",
       "    .dataframe tbody tr th:only-of-type {\n",
       "        vertical-align: middle;\n",
       "    }\n",
       "\n",
       "    .dataframe tbody tr th {\n",
       "        vertical-align: top;\n",
       "    }\n",
       "\n",
       "    .dataframe thead th {\n",
       "        text-align: right;\n",
       "    }\n",
       "</style>\n",
       "<table border=\"1\" class=\"dataframe\">\n",
       "  <thead>\n",
       "    <tr style=\"text-align: right;\">\n",
       "      <th></th>\n",
       "      <th>Date</th>\n",
       "      <th>Time</th>\n",
       "      <th>Temp</th>\n",
       "      <th>pH</th>\n",
       "    </tr>\n",
       "  </thead>\n",
       "  <tbody>\n",
       "    <tr>\n",
       "      <td>0</td>\n",
       "      <td>2019/12/06</td>\n",
       "      <td>09:05:27 AM</td>\n",
       "      <td>23.663528</td>\n",
       "      <td>8.811172</td>\n",
       "    </tr>\n",
       "    <tr>\n",
       "      <td>1</td>\n",
       "      <td>2019/12/06</td>\n",
       "      <td>09:05:28 AM</td>\n",
       "      <td>23.728594</td>\n",
       "      <td>8.840874</td>\n",
       "    </tr>\n",
       "    <tr>\n",
       "      <td>2</td>\n",
       "      <td>2019/12/06</td>\n",
       "      <td>09:05:29 AM</td>\n",
       "      <td>23.745982</td>\n",
       "      <td>8.869581</td>\n",
       "    </tr>\n",
       "    <tr>\n",
       "      <td>6</td>\n",
       "      <td>2019/12/06</td>\n",
       "      <td>09:05:33 AM</td>\n",
       "      <td>23.856732</td>\n",
       "      <td>8.907670</td>\n",
       "    </tr>\n",
       "    <tr>\n",
       "      <td>7</td>\n",
       "      <td>2019/12/06</td>\n",
       "      <td>09:05:34 AM</td>\n",
       "      <td>23.880345</td>\n",
       "      <td>8.833689</td>\n",
       "    </tr>\n",
       "    <tr>\n",
       "      <td>...</td>\n",
       "      <td>...</td>\n",
       "      <td>...</td>\n",
       "      <td>...</td>\n",
       "      <td>...</td>\n",
       "    </tr>\n",
       "    <tr>\n",
       "      <td>274842</td>\n",
       "      <td>2019/12/09</td>\n",
       "      <td>01:26:15 PM</td>\n",
       "      <td>35.395706</td>\n",
       "      <td>5.921942</td>\n",
       "    </tr>\n",
       "    <tr>\n",
       "      <td>274843</td>\n",
       "      <td>2019/12/09</td>\n",
       "      <td>01:26:16 PM</td>\n",
       "      <td>35.395765</td>\n",
       "      <td>5.966076</td>\n",
       "    </tr>\n",
       "    <tr>\n",
       "      <td>274844</td>\n",
       "      <td>2019/12/09</td>\n",
       "      <td>01:26:17 PM</td>\n",
       "      <td>35.396788</td>\n",
       "      <td>6.085856</td>\n",
       "    </tr>\n",
       "    <tr>\n",
       "      <td>274845</td>\n",
       "      <td>2019/12/09</td>\n",
       "      <td>01:26:18 PM</td>\n",
       "      <td>35.396690</td>\n",
       "      <td>6.285516</td>\n",
       "    </tr>\n",
       "    <tr>\n",
       "      <td>274846</td>\n",
       "      <td>2019/12/09</td>\n",
       "      <td>01:26:19 PM</td>\n",
       "      <td>35.396129</td>\n",
       "      <td>6.354088</td>\n",
       "    </tr>\n",
       "  </tbody>\n",
       "</table>\n",
       "<p>258657 rows × 4 columns</p>\n",
       "</div>"
      ],
      "text/plain": [
       "              Date         Time       Temp        pH\n",
       "0       2019/12/06  09:05:27 AM  23.663528  8.811172\n",
       "1       2019/12/06  09:05:28 AM  23.728594  8.840874\n",
       "2       2019/12/06  09:05:29 AM  23.745982  8.869581\n",
       "6       2019/12/06  09:05:33 AM  23.856732  8.907670\n",
       "7       2019/12/06  09:05:34 AM  23.880345  8.833689\n",
       "...            ...          ...        ...       ...\n",
       "274842  2019/12/09  01:26:15 PM  35.395706  5.921942\n",
       "274843  2019/12/09  01:26:16 PM  35.395765  5.966076\n",
       "274844  2019/12/09  01:26:17 PM  35.396788  6.085856\n",
       "274845  2019/12/09  01:26:18 PM  35.396690  6.285516\n",
       "274846  2019/12/09  01:26:19 PM  35.396129  6.354088\n",
       "\n",
       "[258657 rows x 4 columns]"
      ]
     },
     "execution_count": 8,
     "metadata": {},
     "output_type": "execute_result"
    }
   ],
   "source": [
    "test_1_data_trimmed = test_1_data[(z1 < threshold)]\n",
    "test_1_data_trimmed"
   ]
  },
  {
   "cell_type": "code",
   "execution_count": 9,
   "metadata": {},
   "outputs": [
    {
     "data": {
      "text/plain": [
       "<matplotlib.axes._subplots.AxesSubplot at 0x2ced6a00d88>"
      ]
     },
     "execution_count": 9,
     "metadata": {},
     "output_type": "execute_result"
    },
    {
     "data": {
      "image/png": "[encoded data removed]",
      "text/plain": [
       "<Figure size 432x288 with 1 Axes>"
      ]
     },
     "metadata": {
      "needs_background": "light"
     },
     "output_type": "display_data"
    },
    {
     "data": {
      "image/png": "[encoded data removed]",
      "text/plain": [
       "<Figure size 432x288 with 1 Axes>"
      ]
     },
     "metadata": {
      "needs_background": "light"
     },
     "output_type": "display_data"
    }
   ],
   "source": [
    "test_1_data_trimmed.plot(y = \"pH\")\n",
    "test_1_data_trimmed.plot(y = \"Temp\")"
   ]
  },
  {
   "cell_type": "code",
   "execution_count": 10,
   "metadata": {},
   "outputs": [],
   "source": [
    "rolling_window = 240"
   ]
  },
  {
   "cell_type": "code",
   "execution_count": 11,
   "metadata": {},
   "outputs": [
    {
     "data": {
      "text/plain": [
       "0         8.811172\n",
       "1         8.840874\n",
       "2         8.869581\n",
       "6         8.907670\n",
       "7         8.833689\n",
       "            ...   \n",
       "274842    5.921942\n",
       "274843    5.966076\n",
       "274844    6.085856\n",
       "274845    6.285516\n",
       "274846    6.354088\n",
       "Name: pH, Length: 258657, dtype: float64"
      ]
     },
     "execution_count": 11,
     "metadata": {},
     "output_type": "execute_result"
    }
   ],
   "source": [
    "test_1_data_trimmed.pH"
   ]
  },
  {
   "cell_type": "code",
   "execution_count": 12,
   "metadata": {},
   "outputs": [],
   "source": [
    "test_1_data_rolling = test_1_data_trimmed.rolling(rolling_window).mean().dropna()"
   ]
  },
  {
   "cell_type": "code",
   "execution_count": 13,
   "metadata": {},
   "outputs": [
    {
     "data": {
      "text/html": [
       "<div>\n",
       "<style scoped>\n",
       "    .dataframe tbody tr th:only-of-type {\n",
       "        vertical-align: middle;\n",
       "    }\n",
       "\n",
       "    .dataframe tbody tr th {\n",
       "        vertical-align: top;\n",
       "    }\n",
       "\n",
       "    .dataframe thead th {\n",
       "        text-align: right;\n",
       "    }\n",
       "</style>\n",
       "<table border=\"1\" class=\"dataframe\">\n",
       "  <thead>\n",
       "    <tr style=\"text-align: right;\">\n",
       "      <th></th>\n",
       "      <th>Temp</th>\n",
       "      <th>pH</th>\n",
       "    </tr>\n",
       "  </thead>\n",
       "  <tbody>\n",
       "    <tr>\n",
       "      <td>242</td>\n",
       "      <td>25.618928</td>\n",
       "      <td>8.432862</td>\n",
       "    </tr>\n",
       "    <tr>\n",
       "      <td>243</td>\n",
       "      <td>25.632774</td>\n",
       "      <td>8.429344</td>\n",
       "    </tr>\n",
       "    <tr>\n",
       "      <td>244</td>\n",
       "      <td>25.646347</td>\n",
       "      <td>8.425886</td>\n",
       "    </tr>\n",
       "    <tr>\n",
       "      <td>245</td>\n",
       "      <td>25.659852</td>\n",
       "      <td>8.422606</td>\n",
       "    </tr>\n",
       "    <tr>\n",
       "      <td>246</td>\n",
       "      <td>25.672891</td>\n",
       "      <td>8.419452</td>\n",
       "    </tr>\n",
       "    <tr>\n",
       "      <td>...</td>\n",
       "      <td>...</td>\n",
       "      <td>...</td>\n",
       "    </tr>\n",
       "    <tr>\n",
       "      <td>274842</td>\n",
       "      <td>35.396561</td>\n",
       "      <td>6.134926</td>\n",
       "    </tr>\n",
       "    <tr>\n",
       "      <td>274843</td>\n",
       "      <td>35.396560</td>\n",
       "      <td>6.134315</td>\n",
       "    </tr>\n",
       "    <tr>\n",
       "      <td>274844</td>\n",
       "      <td>35.396561</td>\n",
       "      <td>6.133856</td>\n",
       "    </tr>\n",
       "    <tr>\n",
       "      <td>274845</td>\n",
       "      <td>35.396561</td>\n",
       "      <td>6.135003</td>\n",
       "    </tr>\n",
       "    <tr>\n",
       "      <td>274846</td>\n",
       "      <td>35.396559</td>\n",
       "      <td>6.136500</td>\n",
       "    </tr>\n",
       "  </tbody>\n",
       "</table>\n",
       "<p>258418 rows × 2 columns</p>\n",
       "</div>"
      ],
      "text/plain": [
       "             Temp        pH\n",
       "242     25.618928  8.432862\n",
       "243     25.632774  8.429344\n",
       "244     25.646347  8.425886\n",
       "245     25.659852  8.422606\n",
       "246     25.672891  8.419452\n",
       "...           ...       ...\n",
       "274842  35.396561  6.134926\n",
       "274843  35.396560  6.134315\n",
       "274844  35.396561  6.133856\n",
       "274845  35.396561  6.135003\n",
       "274846  35.396559  6.136500\n",
       "\n",
       "[258418 rows x 2 columns]"
      ]
     },
     "execution_count": 13,
     "metadata": {},
     "output_type": "execute_result"
    }
   ],
   "source": [
    "test_1_data_rolling"
   ]
  },
  {
   "cell_type": "code",
   "execution_count": 14,
   "metadata": {},
   "outputs": [
    {
     "data": {
      "text/plain": [
       "<matplotlib.axes._subplots.AxesSubplot at 0x2ced6af2948>"
      ]
     },
     "execution_count": 14,
     "metadata": {},
     "output_type": "execute_result"
    },
    {
     "data": {
      "image/png": "[encoded data removed]",
      "text/plain": [
       "<Figure size 432x288 with 1 Axes>"
      ]
     },
     "metadata": {
      "needs_background": "light"
     },
     "output_type": "display_data"
    },
    {
     "data": {
      "image/png": "[encoded data removed]",
      "text/plain": [
       "<Figure size 432x288 with 1 Axes>"
      ]
     },
     "metadata": {
      "needs_background": "light"
     },
     "output_type": "display_data"
    }
   ],
   "source": [
    "test_1_data_rolling.plot(y = \"pH\")\n",
    "test_1_data_rolling.plot(y = \"Temp\")"
   ]
  },
  {
   "cell_type": "code",
   "execution_count": null,
   "metadata": {},
   "outputs": [],
   "source": []
  },
  {
   "cell_type": "code",
   "execution_count": 15,
   "metadata": {},
   "outputs": [],
   "source": [
    "x1 = numpy.arange(skips1,len(test_1_data_rolling.pH)+skips1)\n",
    "order1 = 1"
   ]
  },
  {
   "cell_type": "code",
   "execution_count": 16,
   "metadata": {},
   "outputs": [],
   "source": [
    "x1_extended = numpy.arange(skips1,len(test_1_data.pH)+10000+skips1)"
   ]
  },
  {
   "cell_type": "code",
   "execution_count": 17,
   "metadata": {},
   "outputs": [
    {
     "name": "stdout",
     "output_type": "stream",
     "text": [
      " \n",
      "-2.176e-06 x + 6.333\n"
     ]
    }
   ],
   "source": [
    "test_1_ph_rolling_poly = numpy.poly1d(numpy.polyfit( x1, test_1_data_rolling.pH, order1))\n",
    "print(test_1_ph_rolling_poly)"
   ]
  },
  {
   "cell_type": "code",
   "execution_count": 18,
   "metadata": {},
   "outputs": [],
   "source": [
    "fit_1_ph_poly = pandas.DataFrame(test_1_ph_rolling_poly(x1_extended))"
   ]
  },
  {
   "cell_type": "code",
   "execution_count": 19,
   "metadata": {},
   "outputs": [],
   "source": [
    "test_1_ph_comp = pandas.concat([test_1_data_rolling.pH,fit_1_ph_poly], axis = 1)\n",
    "test_1_ph_comp.columns = [\"Experimental\", \"Polyfit\"]"
   ]
  },
  {
   "cell_type": "code",
   "execution_count": 20,
   "metadata": {},
   "outputs": [
    {
     "data": {
      "text/plain": [
       "<matplotlib.axes._subplots.AxesSubplot at 0x2ced6bbc388>"
      ]
     },
     "execution_count": 20,
     "metadata": {},
     "output_type": "execute_result"
    },
    {
     "data": {
      "image/png": "[encoded data removed]",
      "text/plain": [
       "<Figure size 432x288 with 1 Axes>"
      ]
     },
     "metadata": {
      "needs_background": "light"
     },
     "output_type": "display_data"
    }
   ],
   "source": [
    "test_1_ph_comp.plot()"
   ]
  },
  {
   "cell_type": "markdown",
   "metadata": {},
   "source": [
    "# Test 2"
   ]
  },
  {
   "cell_type": "code",
   "execution_count": 21,
   "metadata": {},
   "outputs": [],
   "source": [
    "skips2 = skips1"
   ]
  },
  {
   "cell_type": "code",
   "execution_count": 22,
   "metadata": {},
   "outputs": [],
   "source": [
    "test_2_data = pandas.read_csv('Drift Test 2 ph and temp 11 12 2019 - Finished', sep='\t', header = None, \n",
    "                              usecols = [0, 1, 2, 3],\n",
    "                              names = [\"Date\", \"Time\", \"Temp\", \"pH\"],\n",
    "                              skiprows = skips2)"
   ]
  },
  {
   "cell_type": "code",
   "execution_count": 23,
   "metadata": {},
   "outputs": [
    {
     "data": {
      "text/html": [
       "<div>\n",
       "<style scoped>\n",
       "    .dataframe tbody tr th:only-of-type {\n",
       "        vertical-align: middle;\n",
       "    }\n",
       "\n",
       "    .dataframe tbody tr th {\n",
       "        vertical-align: top;\n",
       "    }\n",
       "\n",
       "    .dataframe thead th {\n",
       "        text-align: right;\n",
       "    }\n",
       "</style>\n",
       "<table border=\"1\" class=\"dataframe\">\n",
       "  <thead>\n",
       "    <tr style=\"text-align: right;\">\n",
       "      <th></th>\n",
       "      <th>Date</th>\n",
       "      <th>Time</th>\n",
       "      <th>Temp</th>\n",
       "      <th>pH</th>\n",
       "    </tr>\n",
       "  </thead>\n",
       "  <tbody>\n",
       "    <tr>\n",
       "      <td>0</td>\n",
       "      <td>2019/12/11</td>\n",
       "      <td>12:13:30 PM</td>\n",
       "      <td>26.575789</td>\n",
       "      <td>5.660700</td>\n",
       "    </tr>\n",
       "    <tr>\n",
       "      <td>1</td>\n",
       "      <td>2019/12/11</td>\n",
       "      <td>12:13:31 PM</td>\n",
       "      <td>26.575219</td>\n",
       "      <td>5.660709</td>\n",
       "    </tr>\n",
       "    <tr>\n",
       "      <td>2</td>\n",
       "      <td>2019/12/11</td>\n",
       "      <td>12:13:32 PM</td>\n",
       "      <td>26.574864</td>\n",
       "      <td>5.665180</td>\n",
       "    </tr>\n",
       "    <tr>\n",
       "      <td>3</td>\n",
       "      <td>2019/12/11</td>\n",
       "      <td>12:13:33 PM</td>\n",
       "      <td>26.575445</td>\n",
       "      <td>5.665019</td>\n",
       "    </tr>\n",
       "    <tr>\n",
       "      <td>4</td>\n",
       "      <td>2019/12/11</td>\n",
       "      <td>12:13:34 PM</td>\n",
       "      <td>26.575622</td>\n",
       "      <td>5.665168</td>\n",
       "    </tr>\n",
       "    <tr>\n",
       "      <td>...</td>\n",
       "      <td>...</td>\n",
       "      <td>...</td>\n",
       "      <td>...</td>\n",
       "      <td>...</td>\n",
       "    </tr>\n",
       "    <tr>\n",
       "      <td>510515</td>\n",
       "      <td>2019/12/17</td>\n",
       "      <td>10:01:55 AM</td>\n",
       "      <td>34.938508</td>\n",
       "      <td>5.867898</td>\n",
       "    </tr>\n",
       "    <tr>\n",
       "      <td>510516</td>\n",
       "      <td>2019/12/17</td>\n",
       "      <td>10:01:56 AM</td>\n",
       "      <td>34.938173</td>\n",
       "      <td>5.863336</td>\n",
       "    </tr>\n",
       "    <tr>\n",
       "      <td>510517</td>\n",
       "      <td>2019/12/17</td>\n",
       "      <td>10:01:57 AM</td>\n",
       "      <td>34.938311</td>\n",
       "      <td>5.862251</td>\n",
       "    </tr>\n",
       "    <tr>\n",
       "      <td>510518</td>\n",
       "      <td>2019/12/17</td>\n",
       "      <td>10:01:58 AM</td>\n",
       "      <td>34.944763</td>\n",
       "      <td>5.862182</td>\n",
       "    </tr>\n",
       "    <tr>\n",
       "      <td>510519</td>\n",
       "      <td>2019/12/17</td>\n",
       "      <td>10:01:59 AM</td>\n",
       "      <td>34.937957</td>\n",
       "      <td>5.862088</td>\n",
       "    </tr>\n",
       "  </tbody>\n",
       "</table>\n",
       "<p>510520 rows × 4 columns</p>\n",
       "</div>"
      ],
      "text/plain": [
       "              Date         Time       Temp        pH\n",
       "0       2019/12/11  12:13:30 PM  26.575789  5.660700\n",
       "1       2019/12/11  12:13:31 PM  26.575219  5.660709\n",
       "2       2019/12/11  12:13:32 PM  26.574864  5.665180\n",
       "3       2019/12/11  12:13:33 PM  26.575445  5.665019\n",
       "4       2019/12/11  12:13:34 PM  26.575622  5.665168\n",
       "...            ...          ...        ...       ...\n",
       "510515  2019/12/17  10:01:55 AM  34.938508  5.867898\n",
       "510516  2019/12/17  10:01:56 AM  34.938173  5.863336\n",
       "510517  2019/12/17  10:01:57 AM  34.938311  5.862251\n",
       "510518  2019/12/17  10:01:58 AM  34.944763  5.862182\n",
       "510519  2019/12/17  10:01:59 AM  34.937957  5.862088\n",
       "\n",
       "[510520 rows x 4 columns]"
      ]
     },
     "execution_count": 23,
     "metadata": {},
     "output_type": "execute_result"
    }
   ],
   "source": [
    "test_2_data"
   ]
  },
  {
   "cell_type": "code",
   "execution_count": 24,
   "metadata": {},
   "outputs": [
    {
     "data": {
      "text/plain": [
       "<matplotlib.axes._subplots.AxesSubplot at 0x2cee54772c8>"
      ]
     },
     "execution_count": 24,
     "metadata": {},
     "output_type": "execute_result"
    },
    {
     "data": {
      "image/png": "[encoded data removed]",
      "text/plain": [
       "<Figure size 432x288 with 1 Axes>"
      ]
     },
     "metadata": {
      "needs_background": "light"
     },
     "output_type": "display_data"
    },
    {
     "data": {
      "image/png": "[encoded data removed]",
      "text/plain": [
       "<Figure size 432x288 with 1 Axes>"
      ]
     },
     "metadata": {
      "needs_background": "light"
     },
     "output_type": "display_data"
    }
   ],
   "source": [
    "test_2_data.plot(y = \"pH\")\n",
    "test_2_data.plot(y = \"Temp\")"
   ]
  },
  {
   "cell_type": "code",
   "execution_count": null,
   "metadata": {},
   "outputs": [],
   "source": []
  },
  {
   "cell_type": "code",
   "execution_count": 25,
   "metadata": {},
   "outputs": [],
   "source": [
    "x2 = numpy.arange(skips2,len(test_2_data.pH)+skips2)\n",
    "order2 = 1"
   ]
  },
  {
   "cell_type": "code",
   "execution_count": 26,
   "metadata": {},
   "outputs": [
    {
     "data": {
      "text/plain": [
       "(510520, 510520)"
      ]
     },
     "execution_count": 26,
     "metadata": {},
     "output_type": "execute_result"
    }
   ],
   "source": [
    "len(x2), len(test_2_data.pH)"
   ]
  },
  {
   "cell_type": "code",
   "execution_count": 27,
   "metadata": {},
   "outputs": [],
   "source": [
    "x2_extended = numpy.arange(skips2,len(test_2_data.pH)+10000+skips2)"
   ]
  },
  {
   "cell_type": "code",
   "execution_count": 28,
   "metadata": {},
   "outputs": [
    {
     "name": "stdout",
     "output_type": "stream",
     "text": [
      " \n",
      "4.362e-07 x + 5.573\n"
     ]
    }
   ],
   "source": [
    "test_2_ph_poly = numpy.poly1d(numpy.polyfit( x2, test_2_data.pH, order2))\n",
    "print(test_2_ph_poly)"
   ]
  },
  {
   "cell_type": "code",
   "execution_count": 29,
   "metadata": {},
   "outputs": [],
   "source": [
    "fit_2_ph_poly = pandas.DataFrame(test_2_ph_poly(x2_extended))"
   ]
  },
  {
   "cell_type": "code",
   "execution_count": 30,
   "metadata": {},
   "outputs": [],
   "source": [
    "test_2_ph_comp = pandas.concat([test_2_data.pH,fit_2_ph_poly], axis = 1)\n",
    "test_2_ph_comp.columns = [\"Experimental\", \"Polyfit\"]"
   ]
  },
  {
   "cell_type": "code",
   "execution_count": 31,
   "metadata": {},
   "outputs": [
    {
     "data": {
      "text/plain": [
       "<matplotlib.axes._subplots.AxesSubplot at 0x2ced5c07508>"
      ]
     },
     "execution_count": 31,
     "metadata": {},
     "output_type": "execute_result"
    },
    {
     "data": {
      "image/png": "[encoded data removed]",
      "text/plain": [
       "<Figure size 432x288 with 1 Axes>"
      ]
     },
     "metadata": {
      "needs_background": "light"
     },
     "output_type": "display_data"
    }
   ],
   "source": [
    "test_2_ph_comp.plot()"
   ]
  },
  {
   "cell_type": "markdown",
   "metadata": {},
   "source": [
    "## Noise Reduction\n",
    "Reduce noise via rolling average"
   ]
  },
  {
   "cell_type": "code",
   "execution_count": 32,
   "metadata": {},
   "outputs": [],
   "source": [
    "rolling_window = 240"
   ]
  },
  {
   "cell_type": "code",
   "execution_count": 33,
   "metadata": {},
   "outputs": [
    {
     "data": {
      "text/plain": [
       "239       5.674022\n",
       "240       5.674064\n",
       "241       5.674119\n",
       "242       5.674166\n",
       "243       5.674232\n",
       "            ...   \n",
       "510515    5.886351\n",
       "510516    5.886226\n",
       "510517    5.886108\n",
       "510518    5.885990\n",
       "510519    5.885871\n",
       "Name: pH, Length: 510281, dtype: float64"
      ]
     },
     "execution_count": 33,
     "metadata": {},
     "output_type": "execute_result"
    }
   ],
   "source": [
    "test_2_data_rolling = test_2_data.rolling(rolling_window).mean().pH.dropna()\n",
    "test_2_data_rolling"
   ]
  },
  {
   "cell_type": "code",
   "execution_count": 34,
   "metadata": {},
   "outputs": [
    {
     "name": "stdout",
     "output_type": "stream",
     "text": [
      " \n",
      "4.362e-07 x + 5.573\n"
     ]
    }
   ],
   "source": [
    "test_2_ph_rolling_poly = numpy.poly1d(numpy.polyfit( x2[rolling_window-1:], test_2_data_rolling, order2))\n",
    "print(test_2_ph_rolling_poly)"
   ]
  },
  {
   "cell_type": "code",
   "execution_count": 35,
   "metadata": {},
   "outputs": [],
   "source": [
    "fit_2_ph_rolling_poly = pandas.DataFrame(test_2_ph_rolling_poly(x2_extended))"
   ]
  },
  {
   "cell_type": "code",
   "execution_count": 36,
   "metadata": {},
   "outputs": [],
   "source": [
    "test_2_ph_comp_2 = pandas.concat([test_2_ph_comp, test_2_data_rolling, fit_2_ph_rolling_poly], axis = 1)\n",
    "test_2_ph_comp_2.columns = [\"Experimental\", \"Polyfit\", \"Moving Average\",\"Fit after Noise Reduction\"]"
   ]
  },
  {
   "cell_type": "code",
   "execution_count": 37,
   "metadata": {},
   "outputs": [
    {
     "data": {
      "text/plain": [
       "<matplotlib.axes._subplots.AxesSubplot at 0x2cee5515a48>"
      ]
     },
     "execution_count": 37,
     "metadata": {},
     "output_type": "execute_result"
    },
    {
     "data": {
      "image/png": "[encoded data removed]",
      "text/plain": [
       "<Figure size 432x288 with 1 Axes>"
      ]
     },
     "metadata": {
      "needs_background": "light"
     },
     "output_type": "display_data"
    }
   ],
   "source": [
    "test_2_ph_comp_2.plot()"
   ]
  },
  {
   "cell_type": "code",
   "execution_count": 38,
   "metadata": {},
   "outputs": [
    {
     "name": "stdout",
     "output_type": "stream",
     "text": [
      " \n",
      "4.362e-07 x + 5.573\n",
      " \n",
      "4.362e-07 x + 5.573\n"
     ]
    }
   ],
   "source": [
    "print(test_2_ph_rolling_poly)\n",
    "print(test_2_ph_poly)"
   ]
  },
  {
   "cell_type": "code",
   "execution_count": null,
   "metadata": {},
   "outputs": [],
   "source": []
  },
  {
   "cell_type": "code",
   "execution_count": null,
   "metadata": {},
   "outputs": [],
   "source": []
  },
  {
   "cell_type": "markdown",
   "metadata": {},
   "source": [
    "# Test 3"
   ]
  },
  {
   "cell_type": "code",
   "execution_count": 39,
   "metadata": {},
   "outputs": [],
   "source": [
    "skips3 = skips2\n",
    "Nrows = 290000-skips3"
   ]
  },
  {
   "cell_type": "code",
   "execution_count": 40,
   "metadata": {},
   "outputs": [],
   "source": [
    "test_3_data = pandas.read_csv('Drift Test 3 ph and temp 17 12 2019 pH7 Buffer secondary rig', sep='\t', header = None, \n",
    "                              usecols = [0, 1, 2, 3],\n",
    "                              names = [\"Date\", \"Time\", \"Temp\", \"pH\"], nrows = Nrows, skiprows = skips3)"
   ]
  },
  {
   "cell_type": "code",
   "execution_count": 41,
   "metadata": {},
   "outputs": [
    {
     "data": {
      "text/html": [
       "<div>\n",
       "<style scoped>\n",
       "    .dataframe tbody tr th:only-of-type {\n",
       "        vertical-align: middle;\n",
       "    }\n",
       "\n",
       "    .dataframe tbody tr th {\n",
       "        vertical-align: top;\n",
       "    }\n",
       "\n",
       "    .dataframe thead th {\n",
       "        text-align: right;\n",
       "    }\n",
       "</style>\n",
       "<table border=\"1\" class=\"dataframe\">\n",
       "  <thead>\n",
       "    <tr style=\"text-align: right;\">\n",
       "      <th></th>\n",
       "      <th>Date</th>\n",
       "      <th>Time</th>\n",
       "      <th>Temp</th>\n",
       "      <th>pH</th>\n",
       "    </tr>\n",
       "  </thead>\n",
       "  <tbody>\n",
       "    <tr>\n",
       "      <td>0</td>\n",
       "      <td>2019/12/17</td>\n",
       "      <td>10:59:24 AM</td>\n",
       "      <td>18.548190</td>\n",
       "      <td>8.444315</td>\n",
       "    </tr>\n",
       "    <tr>\n",
       "      <td>1</td>\n",
       "      <td>2019/12/17</td>\n",
       "      <td>10:59:25 AM</td>\n",
       "      <td>18.547846</td>\n",
       "      <td>8.437364</td>\n",
       "    </tr>\n",
       "    <tr>\n",
       "      <td>2</td>\n",
       "      <td>2019/12/17</td>\n",
       "      <td>10:59:26 AM</td>\n",
       "      <td>18.548219</td>\n",
       "      <td>8.435781</td>\n",
       "    </tr>\n",
       "    <tr>\n",
       "      <td>3</td>\n",
       "      <td>2019/12/17</td>\n",
       "      <td>10:59:27 AM</td>\n",
       "      <td>18.548121</td>\n",
       "      <td>8.438819</td>\n",
       "    </tr>\n",
       "    <tr>\n",
       "      <td>4</td>\n",
       "      <td>2019/12/17</td>\n",
       "      <td>10:59:28 AM</td>\n",
       "      <td>18.548328</td>\n",
       "      <td>8.463300</td>\n",
       "    </tr>\n",
       "    <tr>\n",
       "      <td>...</td>\n",
       "      <td>...</td>\n",
       "      <td>...</td>\n",
       "      <td>...</td>\n",
       "      <td>...</td>\n",
       "    </tr>\n",
       "    <tr>\n",
       "      <td>289995</td>\n",
       "      <td>2019/12/20</td>\n",
       "      <td>07:32:45 PM</td>\n",
       "      <td>24.977649</td>\n",
       "      <td>7.296660</td>\n",
       "    </tr>\n",
       "    <tr>\n",
       "      <td>289996</td>\n",
       "      <td>2019/12/20</td>\n",
       "      <td>07:32:46 PM</td>\n",
       "      <td>24.977384</td>\n",
       "      <td>7.296749</td>\n",
       "    </tr>\n",
       "    <tr>\n",
       "      <td>289997</td>\n",
       "      <td>2019/12/20</td>\n",
       "      <td>07:32:47 PM</td>\n",
       "      <td>24.964864</td>\n",
       "      <td>7.296616</td>\n",
       "    </tr>\n",
       "    <tr>\n",
       "      <td>289998</td>\n",
       "      <td>2019/12/20</td>\n",
       "      <td>07:32:48 PM</td>\n",
       "      <td>24.964903</td>\n",
       "      <td>7.296442</td>\n",
       "    </tr>\n",
       "    <tr>\n",
       "      <td>289999</td>\n",
       "      <td>2019/12/20</td>\n",
       "      <td>07:32:49 PM</td>\n",
       "      <td>24.953043</td>\n",
       "      <td>7.296745</td>\n",
       "    </tr>\n",
       "  </tbody>\n",
       "</table>\n",
       "<p>290000 rows × 4 columns</p>\n",
       "</div>"
      ],
      "text/plain": [
       "              Date         Time       Temp        pH\n",
       "0       2019/12/17  10:59:24 AM  18.548190  8.444315\n",
       "1       2019/12/17  10:59:25 AM  18.547846  8.437364\n",
       "2       2019/12/17  10:59:26 AM  18.548219  8.435781\n",
       "3       2019/12/17  10:59:27 AM  18.548121  8.438819\n",
       "4       2019/12/17  10:59:28 AM  18.548328  8.463300\n",
       "...            ...          ...        ...       ...\n",
       "289995  2019/12/20  07:32:45 PM  24.977649  7.296660\n",
       "289996  2019/12/20  07:32:46 PM  24.977384  7.296749\n",
       "289997  2019/12/20  07:32:47 PM  24.964864  7.296616\n",
       "289998  2019/12/20  07:32:48 PM  24.964903  7.296442\n",
       "289999  2019/12/20  07:32:49 PM  24.953043  7.296745\n",
       "\n",
       "[290000 rows x 4 columns]"
      ]
     },
     "execution_count": 41,
     "metadata": {},
     "output_type": "execute_result"
    }
   ],
   "source": [
    "test_3_data"
   ]
  },
  {
   "cell_type": "code",
   "execution_count": 42,
   "metadata": {},
   "outputs": [
    {
     "data": {
      "text/plain": [
       "<matplotlib.axes._subplots.AxesSubplot at 0x2ce82b22c48>"
      ]
     },
     "execution_count": 42,
     "metadata": {},
     "output_type": "execute_result"
    },
    {
     "data": {
      "image/png": "[encoded data removed]",
      "text/plain": [
       "<Figure size 432x288 with 1 Axes>"
      ]
     },
     "metadata": {
      "needs_background": "light"
     },
     "output_type": "display_data"
    },
    {
     "data": {
      "image/png": "[encoded data removed]",
      "text/plain": [
       "<Figure size 432x288 with 1 Axes>"
      ]
     },
     "metadata": {
      "needs_background": "light"
     },
     "output_type": "display_data"
    }
   ],
   "source": [
    "test_3_data.plot(y = \"pH\")\n",
    "test_3_data.plot(y = \"Temp\")"
   ]
  },
  {
   "cell_type": "code",
   "execution_count": 43,
   "metadata": {},
   "outputs": [],
   "source": [
    "x3 = numpy.arange(skips3,len(test_3_data.pH)+skips3)\n",
    "order3 = 1"
   ]
  },
  {
   "cell_type": "code",
   "execution_count": 44,
   "metadata": {},
   "outputs": [
    {
     "data": {
      "text/plain": [
       "(290000, 290000)"
      ]
     },
     "execution_count": 44,
     "metadata": {},
     "output_type": "execute_result"
    }
   ],
   "source": [
    "len(x3), len(test_3_data.pH)"
   ]
  },
  {
   "cell_type": "code",
   "execution_count": 45,
   "metadata": {},
   "outputs": [],
   "source": [
    "x3_extended = numpy.arange(skips3,len(test_3_data.pH)+10000+skips3)"
   ]
  },
  {
   "cell_type": "code",
   "execution_count": 46,
   "metadata": {},
   "outputs": [
    {
     "name": "stdout",
     "output_type": "stream",
     "text": [
      " \n",
      "2.832e-07 x + 7.222\n"
     ]
    }
   ],
   "source": [
    "test_3_ph_poly = numpy.poly1d(numpy.polyfit( x3, test_3_data.pH, order3))\n",
    "print(test_3_ph_poly)"
   ]
  },
  {
   "cell_type": "code",
   "execution_count": 47,
   "metadata": {},
   "outputs": [],
   "source": [
    "fit_3_ph_poly = pandas.DataFrame(test_3_ph_poly(x3_extended))"
   ]
  },
  {
   "cell_type": "code",
   "execution_count": 48,
   "metadata": {},
   "outputs": [],
   "source": [
    "test_3_ph_comp = pandas.concat([test_3_data.pH,fit_3_ph_poly], axis = 1)\n",
    "test_3_ph_comp.columns = [\"Experimental\", \"Polyfit\"]"
   ]
  },
  {
   "cell_type": "code",
   "execution_count": 49,
   "metadata": {},
   "outputs": [
    {
     "data": {
      "text/plain": [
       "<matplotlib.axes._subplots.AxesSubplot at 0x2ce82df4648>"
      ]
     },
     "execution_count": 49,
     "metadata": {},
     "output_type": "execute_result"
    },
    {
     "data": {
      "image/png": "[encoded data removed]",
      "text/plain": [
       "<Figure size 432x288 with 1 Axes>"
      ]
     },
     "metadata": {
      "needs_background": "light"
     },
     "output_type": "display_data"
    }
   ],
   "source": [
    "test_3_ph_comp.plot()"
   ]
  },
  {
   "cell_type": "markdown",
   "metadata": {},
   "source": [
    "## Noise Reduction\n",
    "Reduce noise via rolling average"
   ]
  },
  {
   "cell_type": "code",
   "execution_count": 50,
   "metadata": {},
   "outputs": [],
   "source": [
    "rolling_window = 240"
   ]
  },
  {
   "cell_type": "code",
   "execution_count": 51,
   "metadata": {},
   "outputs": [
    {
     "data": {
      "text/plain": [
       "239       7.466373\n",
       "240       7.460930\n",
       "241       7.455518\n",
       "242       7.450112\n",
       "243       7.444694\n",
       "            ...   \n",
       "289995    7.297186\n",
       "289996    7.297187\n",
       "289997    7.297187\n",
       "289998    7.297187\n",
       "289999    7.297188\n",
       "Name: pH, Length: 289761, dtype: float64"
      ]
     },
     "execution_count": 51,
     "metadata": {},
     "output_type": "execute_result"
    }
   ],
   "source": [
    "test_3_data_rolling = test_3_data.rolling(rolling_window).mean().pH.dropna()\n",
    "test_3_data_rolling"
   ]
  },
  {
   "cell_type": "code",
   "execution_count": 52,
   "metadata": {},
   "outputs": [
    {
     "name": "stdout",
     "output_type": "stream",
     "text": [
      " \n",
      "2.876e-07 x + 7.222\n"
     ]
    }
   ],
   "source": [
    "test_3_ph_rolling_poly = numpy.poly1d(numpy.polyfit( x3[rolling_window-1:], test_3_data_rolling, order3))\n",
    "print(test_3_ph_rolling_poly)"
   ]
  },
  {
   "cell_type": "code",
   "execution_count": 53,
   "metadata": {},
   "outputs": [],
   "source": [
    "fit_3_ph_rolling_poly = pandas.DataFrame(test_3_ph_rolling_poly(x3_extended))"
   ]
  },
  {
   "cell_type": "code",
   "execution_count": 54,
   "metadata": {},
   "outputs": [],
   "source": [
    "test_3_ph_comp_2 = pandas.concat([test_3_ph_comp, test_3_data_rolling, fit_3_ph_rolling_poly], axis = 1)\n",
    "test_3_ph_comp_2.columns = [\"Experimental\", \"Polyfit\", \"Moving Average\",\"Fit after Noise Reduction\"]"
   ]
  },
  {
   "cell_type": "code",
   "execution_count": 55,
   "metadata": {},
   "outputs": [
    {
     "data": {
      "text/plain": [
       "<matplotlib.axes._subplots.AxesSubplot at 0x2ce82df1088>"
      ]
     },
     "execution_count": 55,
     "metadata": {},
     "output_type": "execute_result"
    },
    {
     "data": {
      "image/png": "[encoded data removed]",
      "text/plain": [
       "<Figure size 432x288 with 1 Axes>"
      ]
     },
     "metadata": {
      "needs_background": "light"
     },
     "output_type": "display_data"
    }
   ],
   "source": [
    "test_3_ph_comp_2.plot()"
   ]
  },
  {
   "cell_type": "code",
   "execution_count": 56,
   "metadata": {},
   "outputs": [
    {
     "name": "stdout",
     "output_type": "stream",
     "text": [
      " \n",
      "2.876e-07 x + 7.222\n",
      " \n",
      "2.832e-07 x + 7.222\n"
     ]
    }
   ],
   "source": [
    "print(test_3_ph_rolling_poly)\n",
    "print(test_3_ph_poly)"
   ]
  },
  {
   "cell_type": "code",
   "execution_count": null,
   "metadata": {},
   "outputs": [],
   "source": []
  },
  {
   "cell_type": "markdown",
   "metadata": {},
   "source": [
    "# All Poly Comp"
   ]
  },
  {
   "cell_type": "code",
   "execution_count": 57,
   "metadata": {},
   "outputs": [
    {
     "name": "stdout",
     "output_type": "stream",
     "text": [
      "Test 1 \n",
      "  \n",
      "-2.176e-06 x + 6.333 \n",
      " \n",
      "\n",
      "Test 2 \n",
      "  \n",
      "4.362e-07 x + 5.573\n",
      " \n",
      "4.362e-07 x + 5.573 \n",
      " \n",
      "\n",
      "Test 3 \n",
      "  \n",
      "2.832e-07 x + 7.222\n",
      " \n",
      "2.876e-07 x + 7.222 \n",
      " \n",
      "\n"
     ]
    }
   ],
   "source": [
    "print(\"Test 1\", \"\\n\",test_1_ph_rolling_poly, \"\\n\", \"\\n\")\n",
    "\n",
    "print(\"Test 2\", \"\\n\",test_2_ph_poly)\n",
    "print(test_2_ph_rolling_poly, \"\\n\", \"\\n\")\n",
    "\n",
    "print(\"Test 3\", \"\\n\",test_3_ph_poly)\n",
    "print(test_3_ph_rolling_poly, \"\\n\", \"\\n\")"
   ]
  },
  {
   "cell_type": "code",
   "execution_count": null,
   "metadata": {},
   "outputs": [],
   "source": []
  },
  {
   "cell_type": "code",
   "execution_count": null,
   "metadata": {},
   "outputs": [],
   "source": []
  },
  {
   "cell_type": "code",
   "execution_count": null,
   "metadata": {},
   "outputs": [],
   "source": []
  }
 ],
 "metadata": {
  "kernelspec": {
   "display_name": "Python 3",
   "language": "python",
   "name": "python3"
  },
  "language_info": {
   "codemirror_mode": {
    "name": "ipython",
    "version": 3
   },
   "file_extension": ".py",
   "mimetype": "text/x-python",
   "name": "python",
   "nbconvert_exporter": "python",
   "pygments_lexer": "ipython3",
   "version": "3.7.4"
  }
 },
 "nbformat": 4,
 "nbformat_minor": 2
}
