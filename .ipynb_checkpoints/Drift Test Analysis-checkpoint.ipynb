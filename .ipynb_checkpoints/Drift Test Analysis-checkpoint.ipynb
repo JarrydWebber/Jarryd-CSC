{
 "cells": [
  {
   "cell_type": "code",
   "execution_count": 28,
   "metadata": {},
   "outputs": [],
   "source": [
    "import pandas\n",
    "import numpy\n",
    "import scipy\n",
    "import matplotlib.pyplot as plot"
   ]
  },
  {
   "cell_type": "markdown",
   "metadata": {},
   "source": [
    "# Test 1"
   ]
  },
  {
   "cell_type": "code",
   "execution_count": 29,
   "metadata": {},
   "outputs": [],
   "source": [
    "test_1_data = pandas.read_csv('Drift Test ph and temp 06 12 2019 - 09', sep='\t', header = None, \n",
    "                              usecols = [0, 1, 2, 3],\n",
    "                              names = [\"Date\", \"Time\", \"Temp\", \"pH\"])"
   ]
  },
  {
   "cell_type": "code",
   "execution_count": 30,
   "metadata": {},
   "outputs": [
    {
     "data": {
      "text/html": [
       "<div>\n",
       "<style scoped>\n",
       "    .dataframe tbody tr th:only-of-type {\n",
       "        vertical-align: middle;\n",
       "    }\n",
       "\n",
       "    .dataframe tbody tr th {\n",
       "        vertical-align: top;\n",
       "    }\n",
       "\n",
       "    .dataframe thead th {\n",
       "        text-align: right;\n",
       "    }\n",
       "</style>\n",
       "<table border=\"1\" class=\"dataframe\">\n",
       "  <thead>\n",
       "    <tr style=\"text-align: right;\">\n",
       "      <th></th>\n",
       "      <th>Date</th>\n",
       "      <th>Time</th>\n",
       "      <th>Temp</th>\n",
       "      <th>pH</th>\n",
       "    </tr>\n",
       "  </thead>\n",
       "  <tbody>\n",
       "    <tr>\n",
       "      <td>0</td>\n",
       "      <td>2019/12/06</td>\n",
       "      <td>09:05:27 AM</td>\n",
       "      <td>23.663528</td>\n",
       "      <td>8.811172</td>\n",
       "    </tr>\n",
       "    <tr>\n",
       "      <td>1</td>\n",
       "      <td>2019/12/06</td>\n",
       "      <td>09:05:28 AM</td>\n",
       "      <td>23.728594</td>\n",
       "      <td>8.840874</td>\n",
       "    </tr>\n",
       "    <tr>\n",
       "      <td>2</td>\n",
       "      <td>2019/12/06</td>\n",
       "      <td>09:05:29 AM</td>\n",
       "      <td>23.745982</td>\n",
       "      <td>8.869581</td>\n",
       "    </tr>\n",
       "    <tr>\n",
       "      <td>3</td>\n",
       "      <td>2019/12/06</td>\n",
       "      <td>09:05:30 AM</td>\n",
       "      <td>23.771789</td>\n",
       "      <td>8.926380</td>\n",
       "    </tr>\n",
       "    <tr>\n",
       "      <td>4</td>\n",
       "      <td>2019/12/06</td>\n",
       "      <td>09:05:31 AM</td>\n",
       "      <td>23.800850</td>\n",
       "      <td>8.969278</td>\n",
       "    </tr>\n",
       "    <tr>\n",
       "      <td>...</td>\n",
       "      <td>...</td>\n",
       "      <td>...</td>\n",
       "      <td>...</td>\n",
       "      <td>...</td>\n",
       "    </tr>\n",
       "    <tr>\n",
       "      <td>274842</td>\n",
       "      <td>2019/12/09</td>\n",
       "      <td>01:26:15 PM</td>\n",
       "      <td>35.395706</td>\n",
       "      <td>5.921942</td>\n",
       "    </tr>\n",
       "    <tr>\n",
       "      <td>274843</td>\n",
       "      <td>2019/12/09</td>\n",
       "      <td>01:26:16 PM</td>\n",
       "      <td>35.395765</td>\n",
       "      <td>5.966076</td>\n",
       "    </tr>\n",
       "    <tr>\n",
       "      <td>274844</td>\n",
       "      <td>2019/12/09</td>\n",
       "      <td>01:26:17 PM</td>\n",
       "      <td>35.396788</td>\n",
       "      <td>6.085856</td>\n",
       "    </tr>\n",
       "    <tr>\n",
       "      <td>274845</td>\n",
       "      <td>2019/12/09</td>\n",
       "      <td>01:26:18 PM</td>\n",
       "      <td>35.396690</td>\n",
       "      <td>6.285516</td>\n",
       "    </tr>\n",
       "    <tr>\n",
       "      <td>274846</td>\n",
       "      <td>2019/12/09</td>\n",
       "      <td>01:26:19 PM</td>\n",
       "      <td>35.396129</td>\n",
       "      <td>6.354088</td>\n",
       "    </tr>\n",
       "  </tbody>\n",
       "</table>\n",
       "<p>274847 rows × 4 columns</p>\n",
       "</div>"
      ],
      "text/plain": [
       "              Date         Time       Temp        pH\n",
       "0       2019/12/06  09:05:27 AM  23.663528  8.811172\n",
       "1       2019/12/06  09:05:28 AM  23.728594  8.840874\n",
       "2       2019/12/06  09:05:29 AM  23.745982  8.869581\n",
       "3       2019/12/06  09:05:30 AM  23.771789  8.926380\n",
       "4       2019/12/06  09:05:31 AM  23.800850  8.969278\n",
       "...            ...          ...        ...       ...\n",
       "274842  2019/12/09  01:26:15 PM  35.395706  5.921942\n",
       "274843  2019/12/09  01:26:16 PM  35.395765  5.966076\n",
       "274844  2019/12/09  01:26:17 PM  35.396788  6.085856\n",
       "274845  2019/12/09  01:26:18 PM  35.396690  6.285516\n",
       "274846  2019/12/09  01:26:19 PM  35.396129  6.354088\n",
       "\n",
       "[274847 rows x 4 columns]"
      ]
     },
     "execution_count": 30,
     "metadata": {},
     "output_type": "execute_result"
    }
   ],
   "source": [
    "test_1_data"
   ]
  },
  {
   "cell_type": "code",
   "execution_count": 36,
   "metadata": {},
   "outputs": [
    {
     "data": {
      "text/plain": [
       "<matplotlib.axes._subplots.AxesSubplot at 0x1d5bb442748>"
      ]
     },
     "execution_count": 36,
     "metadata": {},
     "output_type": "execute_result"
    },
    {
     "data": {
      "image/png": "[encoded data removed]",
      "text/plain": [
       "<Figure size 432x288 with 1 Axes>"
      ]
     },
     "metadata": {
      "needs_background": "light"
     },
     "output_type": "display_data"
    }
   ],
   "source": [
    "test_1_data.plot(y = \"pH\")"
   ]
  },
  {
   "cell_type": "code",
   "execution_count": 220,
   "metadata": {},
   "outputs": [],
   "source": [
    "working_data_1_ph = pandas.concat([test_1_data[\"pH\"], test_1_data[\"pH\"].shift(1)], axis = 1)\n",
    "working_data_1_ph.columns = [\"pH\", \"pH-1\"]\n",
    "# working_data_1_ph"
   ]
  },
  {
   "cell_type": "code",
   "execution_count": 235,
   "metadata": {},
   "outputs": [],
   "source": [
    "allowed_variance = 0.1"
   ]
  },
  {
   "cell_type": "code",
   "execution_count": 236,
   "metadata": {},
   "outputs": [],
   "source": [
    "error_reduction_1 = working_data_1_ph[(working_data_1_ph.pH*allowed_variance >= \n",
    "                                       abs(working_data_1_ph.pH - working_data_1_ph[\"pH-1\"])) \n",
    "                                      & (working_data_1_ph.pH < 14)]\n",
    "# error_reduction_1"
   ]
  },
  {
   "cell_type": "code",
   "execution_count": 237,
   "metadata": {},
   "outputs": [
    {
     "data": {
      "text/plain": [
       "<matplotlib.axes._subplots.AxesSubplot at 0x1d580d9e708>"
      ]
     },
     "execution_count": 237,
     "metadata": {},
     "output_type": "execute_result"
    },
    {
     "data": {
      "image/png": "[encoded data removed]",
      "text/plain": [
       "<Figure size 432x288 with 1 Axes>"
      ]
     },
     "metadata": {
      "needs_background": "light"
     },
     "output_type": "display_data"
    }
   ],
   "source": [
    "error_reduction_1.plot(y = \"pH\")"
   ]
  },
  {
   "cell_type": "code",
   "execution_count": 238,
   "metadata": {},
   "outputs": [],
   "source": [
    "error_capture_1 = working_data_1_ph[(working_data_1_ph.pH*allowed_variance < \n",
    "                                     abs(working_data_1_ph.pH - working_data_1_ph[\"pH-1\"]))]\n",
    "# error_capture_1"
   ]
  },
  {
   "cell_type": "code",
   "execution_count": 239,
   "metadata": {},
   "outputs": [
    {
     "data": {
      "text/plain": [
       "<matplotlib.axes._subplots.AxesSubplot at 0x1d580e15348>"
      ]
     },
     "execution_count": 239,
     "metadata": {},
     "output_type": "execute_result"
    },
    {
     "data": {
      "image/png": "[encoded data removed]",
      "text/plain": [
       "<Figure size 432x288 with 1 Axes>"
      ]
     },
     "metadata": {
      "needs_background": "light"
     },
     "output_type": "display_data"
    }
   ],
   "source": [
    "error_capture_1.plot(y = \"pH\", style='o')"
   ]
  },
  {
   "cell_type": "code",
   "execution_count": null,
   "metadata": {},
   "outputs": [],
   "source": []
  },
  {
   "cell_type": "code",
   "execution_count": null,
   "metadata": {},
   "outputs": [],
   "source": []
  }
 ],
 "metadata": {
  "kernelspec": {
   "display_name": "Python 3",
   "language": "python",
   "name": "python3"
  },
  "language_info": {
   "codemirror_mode": {
    "name": "ipython",
    "version": 3
   },
   "file_extension": ".py",
   "mimetype": "text/x-python",
   "name": "python",
   "nbconvert_exporter": "python",
   "pygments_lexer": "ipython3",
   "version": "3.7.4"
  }
 },
 "nbformat": 4,
 "nbformat_minor": 2
}
