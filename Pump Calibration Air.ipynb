{
 "cells": [
  {
   "cell_type": "code",
   "execution_count": 1,
   "metadata": {},
   "outputs": [],
   "source": [
    "import pandas\n",
    "import numpy\n",
    "import scipy\n",
    "from scipy import stats\n",
    "import sympy\n",
    "import matplotlib.pyplot as plot\n",
    "\n",
    "sympy.init_printing() "
   ]
  },
  {
   "cell_type": "markdown",
   "metadata": {},
   "source": [
    "# Air Pump"
   ]
  },
  {
   "cell_type": "code",
   "execution_count": 12,
   "metadata": {},
   "outputs": [
    {
     "data": {
      "text/html": [
       "<div>\n",
       "<style scoped>\n",
       "    .dataframe tbody tr th:only-of-type {\n",
       "        vertical-align: middle;\n",
       "    }\n",
       "\n",
       "    .dataframe tbody tr th {\n",
       "        vertical-align: top;\n",
       "    }\n",
       "\n",
       "    .dataframe thead th {\n",
       "        text-align: right;\n",
       "    }\n",
       "</style>\n",
       "<table border=\"1\" class=\"dataframe\">\n",
       "  <thead>\n",
       "    <tr style=\"text-align: right;\">\n",
       "      <th></th>\n",
       "      <th>mA Signal</th>\n",
       "      <th>Volume/Time (ml/s)</th>\n",
       "    </tr>\n",
       "  </thead>\n",
       "  <tbody>\n",
       "    <tr>\n",
       "      <td>2</td>\n",
       "      <td>0.005</td>\n",
       "      <td>0.156799</td>\n",
       "    </tr>\n",
       "    <tr>\n",
       "      <td>3</td>\n",
       "      <td>0.005</td>\n",
       "      <td>0.159418</td>\n",
       "    </tr>\n",
       "    <tr>\n",
       "      <td>4</td>\n",
       "      <td>0.006</td>\n",
       "      <td>0.324275</td>\n",
       "    </tr>\n",
       "    <tr>\n",
       "      <td>5</td>\n",
       "      <td>0.006</td>\n",
       "      <td>0.326137</td>\n",
       "    </tr>\n",
       "    <tr>\n",
       "      <td>6</td>\n",
       "      <td>0.007</td>\n",
       "      <td>0.482765</td>\n",
       "    </tr>\n",
       "    <tr>\n",
       "      <td>7</td>\n",
       "      <td>0.007</td>\n",
       "      <td>0.491594</td>\n",
       "    </tr>\n",
       "    <tr>\n",
       "      <td>8</td>\n",
       "      <td>0.008</td>\n",
       "      <td>0.662252</td>\n",
       "    </tr>\n",
       "    <tr>\n",
       "      <td>9</td>\n",
       "      <td>0.008</td>\n",
       "      <td>0.657851</td>\n",
       "    </tr>\n",
       "    <tr>\n",
       "      <td>10</td>\n",
       "      <td>0.009</td>\n",
       "      <td>0.844238</td>\n",
       "    </tr>\n",
       "    <tr>\n",
       "      <td>11</td>\n",
       "      <td>0.009</td>\n",
       "      <td>0.828157</td>\n",
       "    </tr>\n",
       "    <tr>\n",
       "      <td>12</td>\n",
       "      <td>0.010</td>\n",
       "      <td>0.990982</td>\n",
       "    </tr>\n",
       "    <tr>\n",
       "      <td>13</td>\n",
       "      <td>0.010</td>\n",
       "      <td>0.964878</td>\n",
       "    </tr>\n",
       "    <tr>\n",
       "      <td>14</td>\n",
       "      <td>0.011</td>\n",
       "      <td>1.144689</td>\n",
       "    </tr>\n",
       "    <tr>\n",
       "      <td>15</td>\n",
       "      <td>0.011</td>\n",
       "      <td>1.152074</td>\n",
       "    </tr>\n",
       "    <tr>\n",
       "      <td>16</td>\n",
       "      <td>0.012</td>\n",
       "      <td>1.284521</td>\n",
       "    </tr>\n",
       "    <tr>\n",
       "      <td>17</td>\n",
       "      <td>0.012</td>\n",
       "      <td>1.306677</td>\n",
       "    </tr>\n",
       "    <tr>\n",
       "      <td>18</td>\n",
       "      <td>0.013</td>\n",
       "      <td>1.505344</td>\n",
       "    </tr>\n",
       "    <tr>\n",
       "      <td>19</td>\n",
       "      <td>0.014</td>\n",
       "      <td>1.683502</td>\n",
       "    </tr>\n",
       "    <tr>\n",
       "      <td>20</td>\n",
       "      <td>0.015</td>\n",
       "      <td>1.844338</td>\n",
       "    </tr>\n",
       "    <tr>\n",
       "      <td>21</td>\n",
       "      <td>0.015</td>\n",
       "      <td>1.815541</td>\n",
       "    </tr>\n",
       "    <tr>\n",
       "      <td>22</td>\n",
       "      <td>0.016</td>\n",
       "      <td>2.018571</td>\n",
       "    </tr>\n",
       "    <tr>\n",
       "      <td>23</td>\n",
       "      <td>0.017</td>\n",
       "      <td>2.222222</td>\n",
       "    </tr>\n",
       "    <tr>\n",
       "      <td>24</td>\n",
       "      <td>0.018</td>\n",
       "      <td>2.384359</td>\n",
       "    </tr>\n",
       "    <tr>\n",
       "      <td>25</td>\n",
       "      <td>0.019</td>\n",
       "      <td>2.570033</td>\n",
       "    </tr>\n",
       "    <tr>\n",
       "      <td>26</td>\n",
       "      <td>0.020</td>\n",
       "      <td>2.733734</td>\n",
       "    </tr>\n",
       "    <tr>\n",
       "      <td>27</td>\n",
       "      <td>0.020</td>\n",
       "      <td>2.733734</td>\n",
       "    </tr>\n",
       "    <tr>\n",
       "      <td>28</td>\n",
       "      <td>0.020</td>\n",
       "      <td>2.764722</td>\n",
       "    </tr>\n",
       "    <tr>\n",
       "      <td>29</td>\n",
       "      <td>0.020</td>\n",
       "      <td>2.891845</td>\n",
       "    </tr>\n",
       "    <tr>\n",
       "      <td>30</td>\n",
       "      <td>0.020</td>\n",
       "      <td>2.815315</td>\n",
       "    </tr>\n",
       "    <tr>\n",
       "      <td>31</td>\n",
       "      <td>0.020</td>\n",
       "      <td>2.649708</td>\n",
       "    </tr>\n",
       "    <tr>\n",
       "      <td>32</td>\n",
       "      <td>0.020</td>\n",
       "      <td>2.494387</td>\n",
       "    </tr>\n",
       "    <tr>\n",
       "      <td>33</td>\n",
       "      <td>0.020</td>\n",
       "      <td>2.748008</td>\n",
       "    </tr>\n",
       "  </tbody>\n",
       "</table>\n",
       "</div>"
      ],
      "text/plain": [
       "    mA Signal  Volume/Time (ml/s)\n",
       "2       0.005            0.156799\n",
       "3       0.005            0.159418\n",
       "4       0.006            0.324275\n",
       "5       0.006            0.326137\n",
       "6       0.007            0.482765\n",
       "7       0.007            0.491594\n",
       "8       0.008            0.662252\n",
       "9       0.008            0.657851\n",
       "10      0.009            0.844238\n",
       "11      0.009            0.828157\n",
       "12      0.010            0.990982\n",
       "13      0.010            0.964878\n",
       "14      0.011            1.144689\n",
       "15      0.011            1.152074\n",
       "16      0.012            1.284521\n",
       "17      0.012            1.306677\n",
       "18      0.013            1.505344\n",
       "19      0.014            1.683502\n",
       "20      0.015            1.844338\n",
       "21      0.015            1.815541\n",
       "22      0.016            2.018571\n",
       "23      0.017            2.222222\n",
       "24      0.018            2.384359\n",
       "25      0.019            2.570033\n",
       "26      0.020            2.733734\n",
       "27      0.020            2.733734\n",
       "28      0.020            2.764722\n",
       "29      0.020            2.891845\n",
       "30      0.020            2.815315\n",
       "31      0.020            2.649708\n",
       "32      0.020            2.494387\n",
       "33      0.020            2.748008"
      ]
     },
     "execution_count": 12,
     "metadata": {},
     "output_type": "execute_result"
    }
   ],
   "source": [
    "Air_rpm = pandas.read_excel(\"Pump Calibration.xlsx\", sheet_name = 4, usecols = [\"mA Signal\", \"Volume/Time (ml/s)\"], nrows = 40)\n",
    "Air_rpm[\"mA Signal\"]/=1000\n",
    "Air_rpm = Air_rpm.dropna()\n",
    "Air_rpm"
   ]
  },
  {
   "cell_type": "code",
   "execution_count": 13,
   "metadata": {},
   "outputs": [
    {
     "data": {
      "text/plain": [
       "<matplotlib.axes._subplots.AxesSubplot at 0x15beb65b348>"
      ]
     },
     "execution_count": 13,
     "metadata": {},
     "output_type": "execute_result"
    },
    {
     "data": {
      "image/png": "[encoded data removed]",
      "text/plain": [
       "<Figure size 432x288 with 1 Axes>"
      ]
     },
     "metadata": {
      "needs_background": "light"
     },
     "output_type": "display_data"
    }
   ],
   "source": [
    "Air_rpm.plot(y = \"mA Signal\", x = \"Volume/Time (ml/s)\")"
   ]
  },
  {
   "cell_type": "code",
   "execution_count": 14,
   "metadata": {},
   "outputs": [
    {
     "name": "stdout",
     "output_type": "stream",
     "text": [
      "[0.00577874 0.0042522 ]\n"
     ]
    }
   ],
   "source": [
    "Air_r1 = (numpy.polyfit(Air_rpm[\"Volume/Time (ml/s)\"], Air_rpm[\"mA Signal\"], 1))\n",
    "print(Air_r1)"
   ]
  },
  {
   "cell_type": "code",
   "execution_count": 15,
   "metadata": {},
   "outputs": [
    {
     "data": {
      "image/png": "[encoded data removed]",
      "text/latex": [
       "$\\displaystyle \\left( mA, \\  ml/s\\right)$"
      ],
      "text/plain": [
       "(mA, ml/s)"
      ]
     },
     "execution_count": 15,
     "metadata": {},
     "output_type": "execute_result"
    }
   ],
   "source": [
    "mA, mlpers = sympy.symbols((\"mA\",\"ml/s\"))\n",
    "mA, mlpers"
   ]
  },
  {
   "cell_type": "code",
   "execution_count": 16,
   "metadata": {},
   "outputs": [
    {
     "data": {
      "image/png": "[encoded data removed]",
      "text/latex": [
       "$\\displaystyle 0.00577873586968841 ml/s + 0.00425219764702103$"
      ],
      "text/plain": [
       "0.00577873586968841⋅ml/s + 0.00425219764702103"
      ]
     },
     "execution_count": 16,
     "metadata": {},
     "output_type": "execute_result"
    }
   ],
   "source": [
    "Eq1 = mA = Air_r1[0]*mlpers + Air_r1[1]\n",
    "Eq1"
   ]
  },
  {
   "cell_type": "code",
   "execution_count": null,
   "metadata": {},
   "outputs": [],
   "source": []
  }
 ],
 "metadata": {
  "kernelspec": {
   "display_name": "Python 3",
   "language": "python",
   "name": "python3"
  },
  "language_info": {
   "codemirror_mode": {
    "name": "ipython",
    "version": 3
   },
   "file_extension": ".py",
   "mimetype": "text/x-python",
   "name": "python",
   "nbconvert_exporter": "python",
   "pygments_lexer": "ipython3",
   "version": "3.7.4"
  }
 },
 "nbformat": 4,
 "nbformat_minor": 2
}
